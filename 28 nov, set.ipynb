{
 "cells": [
  {
   "cell_type": "markdown",
   "id": "98986011-b37a-4581-b787-9157c6089056",
   "metadata": {},
   "source": [
    "# set"
   ]
  },
  {
   "cell_type": "code",
   "execution_count": 1,
   "id": "393fd540-7b2e-4896-83ff-ed530d095810",
   "metadata": {},
   "outputs": [],
   "source": [
    "myset = set({})"
   ]
  },
  {
   "cell_type": "code",
   "execution_count": 2,
   "id": "ea714aa9-509b-41ce-a63c-c02f76958763",
   "metadata": {},
   "outputs": [],
   "source": [
    "myset = {1,2,3,42,32,5,32243}"
   ]
  },
  {
   "cell_type": "code",
   "execution_count": 3,
   "id": "74f09f64-52ac-4074-9558-c8c6193df5d9",
   "metadata": {},
   "outputs": [
    {
     "data": {
      "text/plain": [
       "{1, 2, 3, 5, 32, 42, 235, 32243}"
      ]
     },
     "execution_count": 3,
     "metadata": {},
     "output_type": "execute_result"
    }
   ],
   "source": [
    "myset.add(235)\n",
    "myset"
   ]
  },
  {
   "cell_type": "code",
   "execution_count": 5,
   "id": "94181397-5c5f-410a-aa79-23f5b9b1f40d",
   "metadata": {},
   "outputs": [
    {
     "ename": "TypeError",
     "evalue": "unhashable type: 'list'",
     "output_type": "error",
     "traceback": [
      "\u001b[1;31m---------------------------------------------------------------------------\u001b[0m",
      "\u001b[1;31mTypeError\u001b[0m                                 Traceback (most recent call last)",
      "Cell \u001b[1;32mIn[5], line 1\u001b[0m\n\u001b[1;32m----> 1\u001b[0m myset\u001b[38;5;241m.\u001b[39madd([\u001b[38;5;124m\"\u001b[39m\u001b[38;5;124mhello\u001b[39m\u001b[38;5;124m\"\u001b[39m])\n\u001b[0;32m      2\u001b[0m myset\n",
      "\u001b[1;31mTypeError\u001b[0m: unhashable type: 'list'"
     ]
    }
   ],
   "source": [
    "myset.add([\"hello\"])\n",
    "myset\n",
    "\n",
    "# because set data sre inmutable "
   ]
  },
  {
   "cell_type": "code",
   "execution_count": 6,
   "id": "a91b9e60-01d0-494a-b791-e2b1237adbae",
   "metadata": {},
   "outputs": [
    {
     "data": {
      "text/plain": [
       "{('hey', 2, 2), 1, 2, 235, 3, 32, 32243, 42, 5}"
      ]
     },
     "execution_count": 6,
     "metadata": {},
     "output_type": "execute_result"
    }
   ],
   "source": [
    "myset.add((\"hey\",2,2))\n",
    "myset"
   ]
  },
  {
   "cell_type": "code",
   "execution_count": 7,
   "id": "be8fec96-2655-43b6-aa95-05eec6d92604",
   "metadata": {},
   "outputs": [
    {
     "data": {
      "text/plain": [
       "{('hey', 2, 2), 1, 2, 235, 3, 32, 32243, 343, 42, 5, 'hey'}"
      ]
     },
     "execution_count": 7,
     "metadata": {},
     "output_type": "execute_result"
    }
   ],
   "source": [
    "myset.update([\"hey\",343])\n",
    "myset"
   ]
  },
  {
   "cell_type": "code",
   "execution_count": 8,
   "id": "5ed8fe59-92ae-48f5-bd31-bdfe937178a0",
   "metadata": {},
   "outputs": [],
   "source": [
    "# difference\n",
    "# intersection update\n",
    "# is superset\n",
    "# Symmetic difference"
   ]
  },
  {
   "cell_type": "code",
   "execution_count": null,
   "id": "ccb023a5-1e83-4ede-bf44-bd400fa58f23",
   "metadata": {},
   "outputs": [],
   "source": []
  }
 ],
 "metadata": {
  "kernelspec": {
   "display_name": "Python 3 (ipykernel)",
   "language": "python",
   "name": "python3"
  },
  "language_info": {
   "codemirror_mode": {
    "name": "ipython",
    "version": 3
   },
   "file_extension": ".py",
   "mimetype": "text/x-python",
   "name": "python",
   "nbconvert_exporter": "python",
   "pygments_lexer": "ipython3",
   "version": "3.11.7"
  }
 },
 "nbformat": 4,
 "nbformat_minor": 5
}
