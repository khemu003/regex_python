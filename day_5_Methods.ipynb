{
 "cells": [
  {
   "cell_type": "markdown",
   "id": "60fff274-4205-4818-beba-2a1b1ac0f03b",
   "metadata": {},
   "source": [
    "# Class methods"
   ]
  },
  {
   "cell_type": "code",
   "execution_count": 2,
   "id": "85897836-69ac-4c3b-b62b-01c7074bca88",
   "metadata": {},
   "outputs": [
    {
     "name": "stdout",
     "output_type": "stream",
     "text": [
      "Tech Solutions\n",
      "Furture Tech\n"
     ]
    }
   ],
   "source": [
    "class Employee:\n",
    "    company_name = \"Tech Solutions\"\n",
    "\n",
    "    def __init__(self, name, salary):\n",
    "        self.name = name\n",
    "        self.salary = salary\n",
    "\n",
    "    @classmethod\n",
    "    def change_company_name(cls, new_name):\n",
    "        cls.company_name = new_name\n",
    "\n",
    "emp1 = Employee(\"sam\", 50000)\n",
    "emp2 = Employee(\"Rahul\", 45000)\n",
    "\n",
    "print(Employee.company_name)\n",
    "\n",
    "Employee.change_company_name(\"Furture Tech\")\n",
    "print(Employee.company_name)"
   ]
  },
  {
   "cell_type": "markdown",
   "id": "c454218e-54f7-4483-b140-c47e1faf6528",
   "metadata": {},
   "source": [
    "# Static methods"
   ]
  },
  {
   "cell_type": "code",
   "execution_count": 3,
   "id": "4f4c2965-7762-4b37-86cc-ae08dd1e505e",
   "metadata": {},
   "outputs": [
    {
     "name": "stdout",
     "output_type": "stream",
     "text": [
      "8\n",
      "6\n"
     ]
    }
   ],
   "source": [
    "class MathOperations:\n",
    "\n",
    "    @staticmethod\n",
    "    def add(a, b):\n",
    "        return a+b\n",
    "\n",
    "    @staticmethod\n",
    "    def subtract(a, b):\n",
    "        return a-b\n",
    "\n",
    "print(MathOperations.add(5,3))\n",
    "print(MathOperations.subtract(10,4))"
   ]
  },
  {
   "cell_type": "markdown",
   "id": "9db5799a-c3c7-4e29-bf59-fca181b3d73a",
   "metadata": {},
   "source": [
    "# Super method"
   ]
  },
  {
   "cell_type": "code",
   "execution_count": 4,
   "id": "cc187b5a-ce25-486d-8fd6-b65db763d375",
   "metadata": {},
   "outputs": [
    {
     "name": "stdout",
     "output_type": "stream",
     "text": [
      "Hello, i am sam from the Parent class.\n",
      "I am 10 years old from the Child class.\n"
     ]
    }
   ],
   "source": [
    "class Parent:\n",
    "\n",
    "    def __init__(self, name):\n",
    "        self.name = name\n",
    "\n",
    "    def greet(self):\n",
    "        print(f\"Hello, i am {self.name} from the Parent class.\")\n",
    "\n",
    "class Child(Parent):\n",
    "    def __init__(self, name, age):\n",
    "        super().__init__(name)\n",
    "        self.age = age\n",
    "\n",
    "    def greet(self):\n",
    "        super().greet()\n",
    "        print(f\"I am {self.age} years old from the Child class.\")\n",
    "\n",
    "child = Child(\"sam\", 10)\n",
    "child.greet()"
   ]
  },
  {
   "cell_type": "markdown",
   "id": "8125cdab-0f83-4fd0-96a5-11f6b84f7c66",
   "metadata": {},
   "source": [
    "# Abstract"
   ]
  },
  {
   "cell_type": "code",
   "execution_count": 10,
   "id": "486ac2ba-c11f-48cd-ad78-66fd8aac2f41",
   "metadata": {},
   "outputs": [
    {
     "name": "stdout",
     "output_type": "stream",
     "text": [
      "Credit Card Payment of $2000 processed.\n",
      "PayPal Payment of $1000 processed.\n"
     ]
    }
   ],
   "source": [
    "from abc import ABC, abstractmethod\n",
    "\n",
    "class Payment(ABC):\n",
    "    @abstractmethod\n",
    "    def make_payment(self, amount):\n",
    "        pass\n",
    "\n",
    "class CreditCardPayment(Payment):\n",
    "    def make_payment(self, amount):\n",
    "        return f\"Credit Card Payment of ${amount} processed.\"\n",
    "\n",
    "class PayPalPayment(Payment):\n",
    "    def make_payment(self, amount):\n",
    "        return f\"PayPal Payment of ${amount} processed.\"\n",
    "\n",
    "payment1 = CreditCardPayment()\n",
    "print(payment1.make_payment(2000))\n",
    "\n",
    "payment1 = PayPalPayment()\n",
    "print(payment1.make_payment(1000))"
   ]
  },
  {
   "cell_type": "markdown",
   "id": "7848c72c-1a13-429d-8732-522b90bf7d80",
   "metadata": {},
   "source": [
    "# Polymorphism"
   ]
  },
  {
   "cell_type": "code",
   "execution_count": 12,
   "id": "f1417e68-7723-4fa8-9c01-941a2bc62913",
   "metadata": {},
   "outputs": [
    {
     "name": "stdout",
     "output_type": "stream",
     "text": [
      "woof!\n",
      "Meow!\n",
      "Moo!\n"
     ]
    }
   ],
   "source": [
    "class Animal:\n",
    "    def speak(self):\n",
    "        pass\n",
    "\n",
    "class Dog(Animal):\n",
    "    def speak(self):\n",
    "        return \"woof!\"\n",
    "\n",
    "class Cat(Animal):\n",
    "    def speak(self):\n",
    "        return \"Meow!\"\n",
    "\n",
    "class Cow(Animal):\n",
    "    def speak(self):\n",
    "        return \"Moo!\"\n",
    "\n",
    "def make_animal_speak(animal):\n",
    "    print(animal.speak())\n",
    "\n",
    "animals = [Dog(), Cat(), Cow()]\n",
    "\n",
    "for animal in animals:\n",
    "    make_animal_speak(animal)"
   ]
  },
  {
   "cell_type": "markdown",
   "id": "879e3ec6-eb78-47af-acd4-c33bb62d5a6e",
   "metadata": {},
   "source": [
    "# Key Points about Overloading:\r\n",
    "It allows the same function to handle different numbers or types of inputs.\n",
    "\r\n",
    "Python doesn't support true method overloading like other languages, but you can achieve similar functionality using default\r\n",
    "parameters or args/*kwargs."
   ]
  },
  {
   "cell_type": "code",
   "execution_count": 14,
   "id": "104d7416-36db-4bec-8495-08f00c3d3418",
   "metadata": {},
   "outputs": [
    {
     "name": "stdout",
     "output_type": "stream",
     "text": [
      "Hello, Guest!\n",
      "Hello, sam!\n"
     ]
    }
   ],
   "source": [
    "def great(name = \"Guest\"):\n",
    "    print(f\"Hello, {name}!\")\n",
    "\n",
    "great()\n",
    "great(\"sam\")"
   ]
  },
  {
   "cell_type": "markdown",
   "id": "5b673f5a-4f91-4b4e-9e54-587e972da389",
   "metadata": {},
   "source": [
    "# Decorator"
   ]
  },
  {
   "cell_type": "code",
   "execution_count": 19,
   "id": "276195a5-f2b3-43e5-b7b9-c3175d1314d8",
   "metadata": {},
   "outputs": [
    {
     "name": "stdout",
     "output_type": "stream",
     "text": [
      "Function 'greet' is called.\n",
      "Hello, sam!\n",
      "Function 'greet' is finished execution.\n"
     ]
    }
   ],
   "source": [
    "def log_decorator(func):\n",
    "    def wrapper(*args, **kwargs):\n",
    "        print(f\"Function '{func.__name__}' is called.\")\n",
    "        result = func(*args, **kwargs)\n",
    "        print(f\"Function '{func.__name__}' is finished execution.\")\n",
    "        return result\n",
    "    return wrapper\n",
    "\n",
    "@log_decorator\n",
    "def greet(name):\n",
    "    print(f\"Hello, {name}!\")\n",
    "\n",
    "greet(\"sam\")"
   ]
  },
  {
   "cell_type": "code",
   "execution_count": null,
   "id": "722ecaab-ae72-4b44-a66b-cc5328521ec4",
   "metadata": {},
   "outputs": [],
   "source": []
  }
 ],
 "metadata": {
  "kernelspec": {
   "display_name": "Python 3 (ipykernel)",
   "language": "python",
   "name": "python3"
  },
  "language_info": {
   "codemirror_mode": {
    "name": "ipython",
    "version": 3
   },
   "file_extension": ".py",
   "mimetype": "text/x-python",
   "name": "python",
   "nbconvert_exporter": "python",
   "pygments_lexer": "ipython3",
   "version": "3.11.7"
  }
 },
 "nbformat": 4,
 "nbformat_minor": 5
}
