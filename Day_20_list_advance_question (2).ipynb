{
 "cells": [
  {
   "cell_type": "markdown",
   "id": "ecacaf8b-8b01-4155-b220-71597d71f21f",
   "metadata": {},
   "source": [
    "# Q: find highest and lowest value in a list without using max and min function "
   ]
  },
  {
   "cell_type": "code",
   "execution_count": 21,
   "id": "2aafb1a0-a2e9-438f-a31d-3bce4e788e6f",
   "metadata": {},
   "outputs": [
    {
     "name": "stdout",
     "output_type": "stream",
     "text": [
      "Highest value in a list:  120\n",
      "Lowest value in a list: 2\n"
     ]
    }
   ],
   "source": [
    "data = [10,20,60,30,80,25,100,120,10,5,2]\n",
    "\n",
    "m = 0\n",
    "l = data[0]\n",
    "for i in range(len(data)):\n",
    "    if(m<data[i]):\n",
    "        m = data[i]\n",
    "    elif(l > data[i]):\n",
    "        l  = data[i]\n",
    "print(\"Highest value in a list: \",m)\n",
    "\n",
    "print(\"Lowest value in a list:\",l)"
   ]
  },
  {
   "cell_type": "markdown",
   "id": "91c43724-9806-4b70-8e56-1c5c7646bdaa",
   "metadata": {},
   "source": [
    "# find lowest and second lowest "
   ]
  },
  {
   "cell_type": "code",
   "execution_count": 56,
   "id": "b2a9c952-1483-47df-9e1f-1b3ba83df5bd",
   "metadata": {},
   "outputs": [
    {
     "name": "stdout",
     "output_type": "stream",
     "text": [
      "Lowest  in a list:  7\n",
      "Second lowest  in a list:  9\n"
     ]
    }
   ],
   "source": [
    "data = [7,20,30,50,80,9,80,100,60,70,12]\n",
    "\n",
    "m = data[0] \n",
    "sm= 0\n",
    "\n",
    "for i in range(1,len(data)):\n",
    "    if(data[i]<m):\n",
    "        sm = m\n",
    "        m = data[i]\n",
    "    elif(sm==0 or data[i]<sm and data[i]!=m):\n",
    "        sm = data[i]\n",
    "\n",
    "\n",
    "print(\"Lowest  in a list: \",m)\n",
    "print(\"Second lowest  in a list: \",sm)"
   ]
  },
  {
   "cell_type": "markdown",
   "id": "84b50918-df04-4059-9c23-6f8be3104025",
   "metadata": {},
   "source": [
    "# Sort a list assending order without using sort() function and new list"
   ]
  },
  {
   "cell_type": "code",
   "execution_count": 64,
   "id": "5a2435d0-d872-4127-991f-36a469091b2c",
   "metadata": {},
   "outputs": [
    {
     "name": "stdout",
     "output_type": "stream",
     "text": [
      "[2, 4, 5, 15, 30, 60, 60, 70, 80, 80, 100]\n"
     ]
    }
   ],
   "source": [
    "data = [5, 2, 30, 4, 80, 60, 80, 100, 60, 70, 15]\n",
    "\n",
    "for i in range(len(data)):\n",
    "    for j in range(i+1,len(data)):\n",
    "        if(data[j]<=data[i]):\n",
    "            # data[i],data[j]  = data[j],data[i]     # we can use this in swap \n",
    "            t = data[j]\n",
    "            data[j] = data[i]\n",
    "            data[i] = t\n",
    "\n",
    "\n",
    "print(data)"
   ]
  },
  {
   "cell_type": "markdown",
   "id": "5ddc3011-0e60-422e-8b45-edcdb4d7d0bd",
   "metadata": {},
   "source": [
    "# valid parentheses"
   ]
  },
  {
   "cell_type": "code",
   "execution_count": null,
   "id": "941b6691-f72b-4e85-9d30-a94c7b8b2e98",
   "metadata": {},
   "outputs": [],
   "source": [
    "data = \"{\"            # done leet code\n",
    "\n",
    "mylist= []\n",
    "x = 0\n",
    "for char in data:\n",
    "    if char in \"[({\":\n",
    "        mylist.append(char)\n",
    "    elif(mylist):\n",
    "        if(char==\"}\" and mylist.pop() != \"{\"):\n",
    "            x = 1\n",
    "            break\n",
    "        elif(char==\"]\" and mylist.pop() != \"[\"):\n",
    "            x = 1\n",
    "            break\n",
    "        elif(char==\")\" and mylist.pop() != \"(\"):\n",
    "            x = 1\n",
    "            break\n",
    "    else:\n",
    "        x=1\n",
    "        break\n",
    "\n",
    "    \n",
    "if(x==0 and len(mylist)==0 ):\n",
    "    print(\"valid\")\n",
    "else:\n",
    "    print(\"Not valid\")"
   ]
  },
  {
   "cell_type": "markdown",
   "id": "61dfbe1d-ff53-4eda-9a71-35f52190c1f2",
   "metadata": {},
   "source": [
    "# find highest and second highest "
   ]
  },
  {
   "cell_type": "code",
   "execution_count": 14,
   "id": "fe7b4d05-b104-42a6-8f32-20b1e89ab836",
   "metadata": {},
   "outputs": [
    {
     "name": "stdout",
     "output_type": "stream",
     "text": [
      "190\n",
      "160\n"
     ]
    }
   ],
   "source": [
    "data = [5, 2, 30, 4, 80, 60, 80, 100, 160, 70, 190]\n",
    "\n",
    "m = 0\n",
    "sm = 0\n",
    "for  i in range(len(data)):\n",
    "        if(data[i]>m):\n",
    "            sm = m\n",
    "            m = data[i]\n",
    "        elif(data[i]>sm and data[i]!=m):\n",
    "            sm= data[i]\n",
    "\n",
    "print(m)\n",
    "print(sm)"
   ]
  },
  {
   "cell_type": "code",
   "execution_count": 16,
   "id": "26c62351-94a3-4675-ba1b-e3dcd507b2a1",
   "metadata": {},
   "outputs": [
    {
     "name": "stdout",
     "output_type": "stream",
     "text": [
      "97\n"
     ]
    }
   ],
   "source": [
    "print(ord(\"a\"))\n"
   ]
  },
  {
   "cell_type": "markdown",
   "id": "a9a264ca-922d-4eff-a8d2-b62cb894def3",
   "metadata": {},
   "source": [
    "# two sum in two list "
   ]
  },
  {
   "cell_type": "code",
   "execution_count": 18,
   "id": "1dcf3f4f-5675-495a-8efa-71290b2b35a0",
   "metadata": {},
   "outputs": [
    {
     "name": "stdout",
     "output_type": "stream",
     "text": [
      "(2, 6) (4, 4) (6, 2) (7, 1) "
     ]
    }
   ],
   "source": [
    "d=  [2,4,6,7,8,10,12]\n",
    "\n",
    "d2 = [1,2,3,4,5,6,7]\n",
    "\n",
    "t = 8\n",
    "\n",
    "for i in range(len(d)):\n",
    "    for j in range(len(d2)):\n",
    "        if(d[i]+d2[j]==t):\n",
    "            print((d[i],d2[j]),end=\" \")"
   ]
  },
  {
   "cell_type": "markdown",
   "id": "d68a5a14-8511-4517-aebc-f16ab7cc15cd",
   "metadata": {},
   "source": [
    "# two sum in one list "
   ]
  },
  {
   "cell_type": "code",
   "execution_count": 19,
   "id": "85bc0b15-2010-47fa-8d33-f234d22469f0",
   "metadata": {},
   "outputs": [
    {
     "name": "stdout",
     "output_type": "stream",
     "text": [
      "(2, 6) "
     ]
    }
   ],
   "source": [
    "d=  [2,4,6,7,8,10,12]\n",
    "\n",
    "\n",
    "\n",
    "t = 8\n",
    "\n",
    "for i in range(len(d)):\n",
    "    for j in range(i+1,len(d)):\n",
    "        if(d[i]+d[j]==t):\n",
    "            print((d[i],d[j]),end=\" \")"
   ]
  },
  {
   "cell_type": "code",
   "execution_count": null,
   "id": "881dc4d1-a2af-4567-82f1-98003bc35c53",
   "metadata": {},
   "outputs": [],
   "source": []
  }
 ],
 "metadata": {
  "kernelspec": {
   "display_name": "Python 3 (ipykernel)",
   "language": "python",
   "name": "python3"
  },
  "language_info": {
   "codemirror_mode": {
    "name": "ipython",
    "version": 3
   },
   "file_extension": ".py",
   "mimetype": "text/x-python",
   "name": "python",
   "nbconvert_exporter": "python",
   "pygments_lexer": "ipython3",
   "version": "3.12.4"
  }
 },
 "nbformat": 4,
 "nbformat_minor": 5
}
