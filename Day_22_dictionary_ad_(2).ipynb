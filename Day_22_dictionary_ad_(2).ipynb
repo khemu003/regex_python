{
 "cells": [
  {
   "cell_type": "code",
   "execution_count": null,
   "id": "9cfbe2c3-b2d5-42a6-9f8d-184a380bae66",
   "metadata": {},
   "outputs": [],
   "source": [
    "# List and tuple note :\n",
    "\n",
    "# so integer ,string ,tuple they are all immutable data type :\n",
    "# changes are new memory address\n",
    "# mutable \n",
    "# diffrence between tuple and list"
   ]
  },
  {
   "cell_type": "markdown",
   "id": "6ff2490b-eacd-476e-82c2-10ef472cb67b",
   "metadata": {},
   "source": [
    "# Dictionary"
   ]
  },
  {
   "cell_type": "code",
   "execution_count": 2,
   "id": "091d3426-f5ab-48c8-9471-a1107febad78",
   "metadata": {},
   "outputs": [],
   "source": [
    "# dictionary :\n",
    "\n",
    "# key should be a immutable data type "
   ]
  },
  {
   "cell_type": "code",
   "execution_count": 1,
   "id": "b5c809f3-81e5-4002-9ef1-55db64263504",
   "metadata": {},
   "outputs": [
    {
     "name": "stdout",
     "output_type": "stream",
     "text": [
      "{'amount': 15}\n"
     ]
    }
   ],
   "source": [
    "mydictionary = {\"amount\":5}\n",
    "\n",
    "for i in range(1,11):\n",
    "    mydictionary[\"amount\"] = mydictionary[\"amount\"] + 1\n",
    "print(mydictionary)"
   ]
  },
  {
   "cell_type": "code",
   "execution_count": 8,
   "id": "b6cfe59a-b53a-41a9-a65f-103595726f73",
   "metadata": {},
   "outputs": [
    {
     "name": "stdout",
     "output_type": "stream",
     "text": [
      "{'value': 5}\n"
     ]
    }
   ],
   "source": [
    "str = \"hello\"\n",
    "\n",
    "dictionary1 = {\"value\":0}\n",
    "\n",
    "for i in str:\n",
    "    dictionary1[\"value\"] = dictionary1[\"value\"] + 1\n",
    "\n",
    "print(dictionary1)"
   ]
  },
  {
   "cell_type": "code",
   "execution_count": 2,
   "id": "4c9ce5a1-5823-4222-9f3b-59c63fce85dc",
   "metadata": {},
   "outputs": [
    {
     "name": "stdout",
     "output_type": "stream",
     "text": [
      "{'h': 1, 'e': 1, 'l': 2, 'o': 1}\n"
     ]
    }
   ],
   "source": [
    "r = \"hello\"\n",
    "\n",
    "mydict = {}\n",
    "\n",
    "for i in r:\n",
    "    if i not in mydict:\n",
    "        mydict[i]  = 1\n",
    "    else:\n",
    "        mydict[i] = mydict[i] +1\n",
    "print(mydict)"
   ]
  },
  {
   "cell_type": "code",
   "execution_count": 4,
   "id": "bc4264d2-1230-41bd-b1af-bc40a6671235",
   "metadata": {},
   "outputs": [
    {
     "name": "stdout",
     "output_type": "stream",
     "text": [
      "{'e': 2, 'o': 1, 'a': 1, 'i': 1}\n",
      "{'count_vowel': 5}\n"
     ]
    }
   ],
   "source": [
    "r = \"helloaei\"\n",
    "\n",
    "mydict = {}\n",
    "new_dictionary= {\"count_vowel\" : 0}\n",
    "\n",
    "for i in r:\n",
    "    if i not in mydict:\n",
    "        if i in \"aeiou\":\n",
    "            mydict[i]  = 1\n",
    "            new_dictionary[\"count_vowel\"] = new_dictionary[\"count_vowel\"] +1\n",
    "    else:\n",
    "        mydict[i] = mydict[i] +1\n",
    "        new_dictionary[\"count_vowel\"] = new_dictionary[\"count_vowel\"] +1\n",
    "        \n",
    "print(mydict)\n",
    "\n",
    "print(new_dictionary)"
   ]
  },
  {
   "cell_type": "code",
   "execution_count": 6,
   "id": "baa6bebf-6af8-414d-b3e1-2f3aaa93f41b",
   "metadata": {},
   "outputs": [
    {
     "name": "stdout",
     "output_type": "stream",
     "text": [
      "{'h': 1, 'e': 1, 'y': 1}\n"
     ]
    }
   ],
   "source": [
    "s = \"hey\"\n",
    "\n",
    "mydict = {}\n",
    "for i in s:\n",
    "    mydict[i] = 1\n",
    "\n",
    "print(mydict)"
   ]
  },
  {
   "cell_type": "code",
   "execution_count": 8,
   "id": "9fc607ff-7e51-493d-a07a-285814f9df7a",
   "metadata": {},
   "outputs": [
    {
     "name": "stdout",
     "output_type": "stream",
     "text": [
      "condition: h\n",
      "condition: e\n",
      "condition: y\n",
      "{'h': 1, 'e': 1, 'y': 1}\n"
     ]
    }
   ],
   "source": [
    "s = \"hehyeh\"\n",
    "\n",
    "mydict = {}\n",
    "for i in s:\n",
    "    if i not in mydict:\n",
    "        mydict[i] = 1\n",
    "        print(\"condition:\",i)\n",
    "    \n",
    "\n",
    "print(mydict)"
   ]
  },
  {
   "cell_type": "code",
   "execution_count": 26,
   "id": "9edf98c0-9400-42bc-a836-3ebb62ce68b8",
   "metadata": {},
   "outputs": [
    {
     "name": "stdout",
     "output_type": "stream",
     "text": [
      "{'h': 3, 'e': 2, 'y': 1}\n"
     ]
    }
   ],
   "source": [
    "s = \"hehyeh\"\n",
    "\n",
    "mydict = {}\n",
    "for i in s:\n",
    "    if i not in mydict:\n",
    "        mydict[i] = 1\n",
    "\n",
    "    else:\n",
    "        mydict[i] = mydict[i]+1\n",
    "\n",
    "print(mydict)"
   ]
  },
  {
   "cell_type": "code",
   "execution_count": 31,
   "id": "d7c1a228-f542-4328-9c5f-b48a7c6a04b9",
   "metadata": {},
   "outputs": [],
   "source": [
    "# Q : valid anagram"
   ]
  },
  {
   "cell_type": "code",
   "execution_count": null,
   "id": "e437849f-a174-473c-919c-e36e3da4a94a",
   "metadata": {},
   "outputs": [],
   "source": []
  }
 ],
 "metadata": {
  "kernelspec": {
   "display_name": "Python 3 (ipykernel)",
   "language": "python",
   "name": "python3"
  },
  "language_info": {
   "codemirror_mode": {
    "name": "ipython",
    "version": 3
   },
   "file_extension": ".py",
   "mimetype": "text/x-python",
   "name": "python",
   "nbconvert_exporter": "python",
   "pygments_lexer": "ipython3",
   "version": "3.12.4"
  }
 },
 "nbformat": 4,
 "nbformat_minor": 5
}
