{
 "cells": [
  {
   "cell_type": "markdown",
   "id": "0bda703d-0114-42c1-9979-8aaf0ba225c9",
   "metadata": {},
   "source": [
    "# Inheritance"
   ]
  },
  {
   "cell_type": "markdown",
   "id": "f8964776-6c79-4896-aa59-b2a8a9b208f4",
   "metadata": {},
   "source": [
    "## Single inheritance"
   ]
  },
  {
   "cell_type": "code",
   "execution_count": 3,
   "id": "d42c1501-6f14-4934-b541-67fc9164e154",
   "metadata": {},
   "outputs": [
    {
     "name": "stdout",
     "output_type": "stream",
     "text": [
      "Name of studnet is rahul and age of student is 25.\n",
      "we are in class Stu\n",
      "Batch of trining is python and duration of training is 2 hours.\n",
      "we are in class Stu\n"
     ]
    }
   ],
   "source": [
    "class Stu():\n",
    "    location = \"Jaipur\"\n",
    "\n",
    "    def __init__(self, name, age):\n",
    "        self.name = name\n",
    "        self.age = age\n",
    "\n",
    "    def getinfo(self):\n",
    "        print(f\"Name of studnet is {self.name} and age of student is {self.age}.\")\n",
    "\n",
    "    def statusupdated(self):\n",
    "        print(\"we are in class Stu\")\n",
    "\n",
    "\n",
    "class Training(Stu):\n",
    "\n",
    "    def __init__(self, batch, duration):\n",
    "        self.batch = batch\n",
    "        self.duration = duration\n",
    "\n",
    "    def getinfo(self):\n",
    "        print(f\"Batch of trining is {self.batch} and duration of training is {self.duration} hours.\")\n",
    "\n",
    "\n",
    "a = Stu(\"rahul\", 25)\n",
    "a.getinfo()\n",
    "a.statusupdated()\n",
    "\n",
    "b = Training(\"python\", 2)\n",
    "b.getinfo()\n",
    "b.statusupdated()"
   ]
  },
  {
   "cell_type": "markdown",
   "id": "4fc08813-1d20-485d-af0e-8cc44b7f26b2",
   "metadata": {},
   "source": [
    "## Multiple inheritance"
   ]
  },
  {
   "cell_type": "code",
   "execution_count": 4,
   "id": "68d17a15-e7be-42ac-a3f8-f8be67239909",
   "metadata": {},
   "outputs": [
    {
     "name": "stdout",
     "output_type": "stream",
     "text": [
      "Engine started.\n",
      "Wheels are rotating.\n",
      "car is driving.\n"
     ]
    }
   ],
   "source": [
    "class Engine():\n",
    "    def start_engine(self):\n",
    "        print(\"Engine started.\")\n",
    "\n",
    "class Wheels():\n",
    "    def rotate_wheels(self):\n",
    "        print(\"Wheels are rotating.\")\n",
    "\n",
    "class Car(Engine, Wheels):\n",
    "    def drive(self):\n",
    "        print(\"car is driving.\")\n",
    "\n",
    "my_car = Car()\n",
    "my_car.start_engine()\n",
    "my_car.rotate_wheels()\n",
    "my_car.drive()"
   ]
  },
  {
   "cell_type": "markdown",
   "id": "5a867d3b-db92-4fc1-a2c1-f55d03caec76",
   "metadata": {},
   "source": [
    "## Multi - level inheritance"
   ]
  },
  {
   "cell_type": "code",
   "execution_count": 4,
   "id": "c236b9e5-599b-4aad-92e1-cb8d5aef0c12",
   "metadata": {},
   "outputs": [
    {
     "name": "stdout",
     "output_type": "stream",
     "text": [
      "Animal is eating.\n",
      "Dog is barking.\n",
      "puppy is weeping.\n"
     ]
    }
   ],
   "source": [
    "class Animal:\n",
    "    def eat(self):\n",
    "        print(\"Animal is eating.\")\n",
    "\n",
    "class Dog(Animal):\n",
    "    def bark(self):\n",
    "        print(\"Dog is barking.\")\n",
    "\n",
    "class Puppy(Dog):\n",
    "    def weep(self):\n",
    "        print(\"puppy is weeping.\")\n",
    "\n",
    "puppy = Puppy()\n",
    "puppy.eat()\n",
    "puppy.bark()\n",
    "puppy.weep()"
   ]
  },
  {
   "cell_type": "markdown",
   "id": "b38dd20a-f3a3-4449-b477-71f83481a55d",
   "metadata": {},
   "source": [
    "# Case Study 1: E-Commerce Order Management\n",
    "Scenario: You are designing an e-commerce order system. The system includes:\n",
    "\n",
    "Customer class (with name and contact details).\n",
    "\n",
    "Product class (with name and price).\n",
    "\n",
    "Order class (that inherits Customer and Product to manage customer orders).\n",
    "\n",
    "Requirements:\n",
    "\n",
    "Customer should store customer details.\n",
    "\n",
    "Product should store product details.\n",
    "\n",
    "Order should generate an order summary for a customer, including product details."
   ]
  },
  {
   "cell_type": "code",
   "execution_count": 12,
   "id": "8873174a-31b4-43e2-a0d6-5fb7bb9b5b31",
   "metadata": {},
   "outputs": [],
   "source": [
    "class Customer():\n",
    "    def __init__(self, c_name, contact):\n",
    "        self.c_name = c_name\n",
    "        self.contact = contact\n",
    "\n",
    "class Product():\n",
    "    def __init__(self, p_name, price):\n",
    "        self.p_name = p_name\n",
    "        self.price = price\n",
    "\n",
    "class Order(Customer, Product):\n",
    "\n",
    "    def __init__(self, c_name, contact, p_name, price):\n",
    "        Customer.__init__(self, c_name, contact)\n",
    "        Product.__init__(self, p_name, price)\n",
    "    \n",
    "    def customer_summary(self):\n",
    "        print(f\"customer name : {self.c_name}\")\n",
    "        print(f\"customer contact : {self.contact}\")\n",
    "\n",
    "    def order_summary(self):\n",
    "        quantity = int(input(\"Enter the quantity : \"))\n",
    "        print(f\"product name : {self.p_name}\")\n",
    "        print(f\"product price : {self.price*quantity}\")\n",
    "\n",
    "customer1 = Order(\"khemraj\", 9462083357, \"Laptop\", 50000)"
   ]
  },
  {
   "cell_type": "code",
   "execution_count": 13,
   "id": "1f8f7fe3-ba63-4d3a-b487-c803c3f56734",
   "metadata": {},
   "outputs": [
    {
     "name": "stdout",
     "output_type": "stream",
     "text": [
      "customer name : khemraj\n",
      "customer contact : 9462083357\n"
     ]
    }
   ],
   "source": [
    "customer1.customer_summary()"
   ]
  },
  {
   "cell_type": "code",
   "execution_count": 15,
   "id": "7ee936ec-8cad-4f97-8a04-35a5b4f31e80",
   "metadata": {},
   "outputs": [
    {
     "name": "stdin",
     "output_type": "stream",
     "text": [
      "Enter the quantity :  4\n"
     ]
    },
    {
     "name": "stdout",
     "output_type": "stream",
     "text": [
      "product name : Laptop\n",
      "product price : 200000\n"
     ]
    }
   ],
   "source": [
    "customer1.order_summary()"
   ]
  },
  {
   "cell_type": "code",
   "execution_count": null,
   "id": "f688d6eb-420c-4399-b855-d8879f5fa830",
   "metadata": {},
   "outputs": [],
   "source": []
  },
  {
   "cell_type": "markdown",
   "id": "dd3cea50-0dd8-45dd-927f-49438b47e6a8",
   "metadata": {},
   "source": [
    "# Case Study 4: Office Employee Management\n",
    "\n",
    "Scenario: You need to create a system for managing employees:\n",
    "\n",
    "Person class (general details like name and age).\n",
    "\n",
    "Employee class (inherits Person and adds employee ID and designation).\n",
    "\n",
    "Manager class (inherits Employee and adds team management responsibilities).\n",
    "\n",
    "Requirements:\n",
    "\n",
    "Person should have methods to display basic details.\n",
    "\n",
    "Employee should add methods to display job details.\n",
    "\n",
    "Manager should add a method to list team members."
   ]
  },
  {
   "cell_type": "code",
   "execution_count": 5,
   "id": "f9a94e98-b07f-4093-a264-8bc016951b28",
   "metadata": {},
   "outputs": [],
   "source": [
    "class Person():\n",
    "    def __init__(self, name, age):\n",
    "        self.name = name\n",
    "        self.age = age\n",
    "\n",
    "    def details(self):\n",
    "        print(f\"Person Name : {self.name}\")\n",
    "        print(f\"Person Age : {self.age}\")\n",
    "\n",
    "class Employee(Person):\n",
    "    def __init__(self, name, age, employee_id, designation):\n",
    "        Person.__init__(self, name, age)\n",
    "        self.employee_id = employee_id\n",
    "        self.designation = designation\n",
    "\n",
    "    def job_details(self):\n",
    "        print(f\"Employee Id : {self.employee_id}\")\n",
    "        print(f\"Employee Designation : {self.designation}\")\n",
    "\n",
    "class Manager(Employee):\n",
    "    def __init__(self, name, age, employee_id, designation, team_member):\n",
    "        Employee.__init__(self, name, age, employee_id, designation)\n",
    "        self.team_member = team_member\n",
    "\n",
    "    def team_members(self):\n",
    "        print(\"-- Team Member List --\")\n",
    "        for member in team_member:\n",
    "            print(member)"
   ]
  },
  {
   "cell_type": "code",
   "execution_count": 6,
   "id": "87267f6e-0ad4-472b-aae1-57b2b8dd1d63",
   "metadata": {},
   "outputs": [
    {
     "name": "stdout",
     "output_type": "stream",
     "text": [
      "Person Name : susheel\n",
      "Person Age : 37\n"
     ]
    }
   ],
   "source": [
    "person1 = Person(\"susheel\", 37)\n",
    "person1.details()"
   ]
  },
  {
   "cell_type": "code",
   "execution_count": 8,
   "id": "9462341f-a2fa-4465-b399-89db7e30788e",
   "metadata": {},
   "outputs": [
    {
     "name": "stdout",
     "output_type": "stream",
     "text": [
      "Person Name : Rohit\n",
      "Person Age : 34\n",
      "Employee Id : 101\n",
      "Employee Designation : Full stack developer\n"
     ]
    }
   ],
   "source": [
    "emp1 = Employee(\"Rohit\", 34, 101, \"Full stack developer\")\n",
    "emp1.details()\n",
    "emp1.job_details()"
   ]
  },
  {
   "cell_type": "code",
   "execution_count": 9,
   "id": "f17cfe0a-0b3a-417e-bc5b-66a67d84ebbb",
   "metadata": {},
   "outputs": [
    {
     "name": "stdout",
     "output_type": "stream",
     "text": [
      "Person Name : Sonam\n",
      "Person Age : 29\n",
      "Employee Id : 103\n",
      "Employee Designation : Sales\n",
      "-- Team Member List --\n",
      "susheel\n",
      "Rohit\n",
      "Sonam\n"
     ]
    }
   ],
   "source": [
    "team_member = [\"susheel\", \"Rohit\", \"Sonam\"]\n",
    "manger1 = Manager(\"Sonam\", 29, 103, \"Sales\", team_member)\n",
    "manger1.details()\n",
    "manger1.job_details()\n",
    "manger1.team_members()"
   ]
  },
  {
   "cell_type": "code",
   "execution_count": null,
   "id": "53d2cea4-8dd7-4162-b49c-a751c8d207f4",
   "metadata": {},
   "outputs": [],
   "source": []
  }
 ],
 "metadata": {
  "kernelspec": {
   "display_name": "Python 3 (ipykernel)",
   "language": "python",
   "name": "python3"
  },
  "language_info": {
   "codemirror_mode": {
    "name": "ipython",
    "version": 3
   },
   "file_extension": ".py",
   "mimetype": "text/x-python",
   "name": "python",
   "nbconvert_exporter": "python",
   "pygments_lexer": "ipython3",
   "version": "3.11.7"
  }
 },
 "nbformat": 4,
 "nbformat_minor": 5
}
