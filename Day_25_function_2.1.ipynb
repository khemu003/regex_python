{
 "cells": [
  {
   "cell_type": "markdown",
   "id": "7070a353-3784-43bb-90d3-bc391d971b03",
   "metadata": {},
   "source": [
    "# function ->  block of code \n",
    "\n",
    "code readable"
   ]
  },
  {
   "cell_type": "code",
   "execution_count": 2,
   "id": "ae99d934-611a-46cf-8bb2-32fa0fca6028",
   "metadata": {},
   "outputs": [
    {
     "name": "stdout",
     "output_type": "stream",
     "text": [
      "Ankit\n",
      "Aman\n"
     ]
    }
   ],
   "source": [
    "# function declaration \n",
    "\n",
    "def hello():\n",
    "    print(\"Ankit\")\n",
    "    print(\"Aman\")\n",
    "\n",
    "hello()          # function calling"
   ]
  },
  {
   "cell_type": "code",
   "execution_count": 3,
   "id": "17c9ef2a-3861-48e8-b64c-b43b5edd2597",
   "metadata": {},
   "outputs": [
    {
     "name": "stdout",
     "output_type": "stream",
     "text": [
      "30\n"
     ]
    }
   ],
   "source": [
    "def Add_number():\n",
    "    x = 10\n",
    "    y =20\n",
    "    print(x+y)\n",
    "\n",
    "Add_number()\n",
    "    "
   ]
  },
  {
   "cell_type": "code",
   "execution_count": 5,
   "id": "e499d514-1bdd-42a4-9562-1017322eaee5",
   "metadata": {},
   "outputs": [
    {
     "name": "stdout",
     "output_type": "stream",
     "text": [
      "70\n"
     ]
    }
   ],
   "source": [
    "z = 40  # global varible \n",
    "def Add_number():\n",
    "    x = 10\n",
    "    y =20\n",
    "    print(x+y+z)\n",
    "\n",
    "Add_number()\n",
    "    "
   ]
  },
  {
   "cell_type": "code",
   "execution_count": 6,
   "id": "be98856c-4864-4220-8919-4d8d7cf1df9c",
   "metadata": {},
   "outputs": [
    {
     "name": "stdout",
     "output_type": "stream",
     "text": [
      "120\n",
      "40\n"
     ]
    }
   ],
   "source": [
    "z = 40  # global varible \n",
    "def Add_number():\n",
    "    x = 10\n",
    "    y =20\n",
    "    z = 90\n",
    "    print(x+y+z)\n",
    "\n",
    "Add_number()\n",
    "print(z)\n",
    "    "
   ]
  },
  {
   "cell_type": "code",
   "execution_count": 7,
   "id": "fb309555-d5f5-479d-aef8-5d260f609edd",
   "metadata": {},
   "outputs": [
    {
     "name": "stdout",
     "output_type": "stream",
     "text": [
      "120\n",
      "90\n"
     ]
    }
   ],
   "source": [
    "z = 40  # global varible \n",
    "def Add_number():\n",
    "    global z                           # change global variable \n",
    "    x = 10\n",
    "    y =20\n",
    "    z = 90\n",
    "    print(x+y+z)\n",
    "\n",
    "Add_number()\n",
    "print(z)\n",
    "    "
   ]
  },
  {
   "cell_type": "code",
   "execution_count": 11,
   "id": "dfe0b3ae-dfcd-4631-b8fd-ad7678ac3215",
   "metadata": {},
   "outputs": [
    {
     "name": "stdout",
     "output_type": "stream",
     "text": [
      "num 40\n"
     ]
    }
   ],
   "source": [
    "# Parameter\n",
    "\n",
    "def add(num):              # num is parameter \n",
    "    x  = 10\n",
    "    print(\"num\",num)\n",
    "\n",
    "add(40)"
   ]
  },
  {
   "cell_type": "code",
   "execution_count": 15,
   "id": "04a1d675-01f8-47d0-b6d5-b39c4114a339",
   "metadata": {},
   "outputs": [
    {
     "name": "stdout",
     "output_type": "stream",
     "text": [
      "x 10 num 40\n"
     ]
    }
   ],
   "source": [
    "# two Parameter\n",
    "\n",
    "def add(x,num):              # num ,x  is parameter \n",
    "    print(\"x\",x,\"num\",num)\n",
    "\n",
    "add(10,40)"
   ]
  },
  {
   "cell_type": "code",
   "execution_count": 20,
   "id": "393acc11-3c28-4910-8dbd-5b7969e8935b",
   "metadata": {},
   "outputs": [
    {
     "name": "stdout",
     "output_type": "stream",
     "text": [
      "old x 40\n",
      "new x 10\n"
     ]
    }
   ],
   "source": [
    "def check(x):\n",
    "    print(\"old x\",x)\n",
    "    x = 10\n",
    "    print(\"new x\",x)\n",
    "\n",
    "check(40)"
   ]
  },
  {
   "cell_type": "code",
   "execution_count": 21,
   "id": "6302560a-9b93-4a0f-915d-56bd39199e12",
   "metadata": {},
   "outputs": [
    {
     "name": "stdout",
     "output_type": "stream",
     "text": [
      "X memory  140733664869400\n",
      "z memmory  140733664869400\n",
      "X memory  140733664869400\n",
      "z memmory  140733664870360\n"
     ]
    }
   ],
   "source": [
    "x = 20\n",
    "z  = x\n",
    "print(\"X memory \",id(x))\n",
    "print(\"z memmory \",id(z))\n",
    "\n",
    "z  = 50\n",
    "\n",
    "print(\"X memory \",id(x))\n",
    "print(\"z memmory \",id(z)) # change memory address "
   ]
  },
  {
   "cell_type": "code",
   "execution_count": 25,
   "id": "48c83e7d-27cd-4127-a35b-f457d013f947",
   "metadata": {},
   "outputs": [
    {
     "name": "stdout",
     "output_type": "stream",
     "text": [
      "140733664870040\n",
      "x memory  140733664870040\n",
      "old x 40\n",
      "new x 30\n",
      "x new memory 140733664869720\n"
     ]
    }
   ],
   "source": [
    "def text(x):\n",
    "    print(\"x memory \",id(x))\n",
    "\n",
    "    print(\"old x\",x)\n",
    "    x  = 30\n",
    "    print(\"new x\",x)\n",
    "    print(\"x new memory\",id(x))\n",
    "\n",
    "\n",
    "z  =40\n",
    "print(id(z))\n",
    "text(z)\n"
   ]
  },
  {
   "cell_type": "code",
   "execution_count": 29,
   "id": "746b92aa-fdfc-4170-b8bd-c54dd16b45db",
   "metadata": {},
   "outputs": [
    {
     "name": "stdout",
     "output_type": "stream",
     "text": [
      "x:  [10, 20, 30, 40, 50]\n",
      "x:  [10, 20, 30, 40, 50, 100]\n",
      "[10, 20, 30, 40, 50, 100, 100]\n"
     ]
    }
   ],
   "source": [
    "def func(x):\n",
    "    print(\"x: \",x)\n",
    "    x.append(100)\n",
    "\n",
    "mylist = [10,20,30,40,50]\n",
    "func(mylist)\n",
    "func(mylist)\n",
    "print(mylist)\n"
   ]
  },
  {
   "cell_type": "code",
   "execution_count": 33,
   "id": "b1907f01-7b69-4664-9602-83dd67b4cd9c",
   "metadata": {},
   "outputs": [
    {
     "name": "stdout",
     "output_type": "stream",
     "text": [
      "80\n",
      "None\n"
     ]
    }
   ],
   "source": [
    "def func(x):\n",
    "    x+20\n",
    "    print(x)\n",
    "    \n",
    "\n",
    "out  =func(80)\n",
    "print(out)"
   ]
  },
  {
   "cell_type": "code",
   "execution_count": 37,
   "id": "3c3b329b-98fc-47bb-88ec-d32df5f69c53",
   "metadata": {},
   "outputs": [
    {
     "name": "stdout",
     "output_type": "stream",
     "text": [
      "80\n",
      "hey everyone\n"
     ]
    }
   ],
   "source": [
    "def func(x):\n",
    "    x+20\n",
    "    print(x)\n",
    "\n",
    "    return \"hey everyone\"\n",
    "    \n",
    "\n",
    "out  =func(80)\n",
    "print(out)"
   ]
  },
  {
   "cell_type": "code",
   "execution_count": 39,
   "id": "bbefe43a-b155-4bc2-8cb4-55b71cd576d1",
   "metadata": {},
   "outputs": [
    {
     "name": "stdout",
     "output_type": "stream",
     "text": [
      "100\n",
      "100\n"
     ]
    }
   ],
   "source": [
    "def func(x):\n",
    "    x+=20\n",
    "    print(x)\n",
    "\n",
    "    return x\n",
    "\n",
    "out  =func(80)\n",
    "print(out)"
   ]
  },
  {
   "cell_type": "code",
   "execution_count": 41,
   "id": "d5d18adf-b3a9-49ae-bac1-4dcf615ef4b4",
   "metadata": {},
   "outputs": [
    {
     "name": "stdout",
     "output_type": "stream",
     "text": [
      "80\n",
      "100\n"
     ]
    }
   ],
   "source": [
    "def func(x):\n",
    "    x+20\n",
    "    print(x)\n",
    "\n",
    "    return x+20\n",
    "\n",
    "out  =func(80)\n",
    "print(out)"
   ]
  },
  {
   "cell_type": "code",
   "execution_count": 45,
   "id": "732e9a35-7871-4a04-99fa-196fce03ed5c",
   "metadata": {},
   "outputs": [
    {
     "name": "stdout",
     "output_type": "stream",
     "text": [
      "(True, 20)\n"
     ]
    }
   ],
   "source": [
    "def func(n):\n",
    "    if(n%2==0):\n",
    "        return True,n\n",
    "    else:\n",
    "        return False\n",
    "\n",
    "x = func(20)\n",
    "print(x)"
   ]
  },
  {
   "cell_type": "code",
   "execution_count": 1,
   "id": "1687d06e-3571-4d27-ac29-d5280c3513e9",
   "metadata": {},
   "outputs": [],
   "source": [
    "# fibonacci series 10 terms return list \n",
    "# take a number from user an i have to check wether palindrome or not\n",
    "# take a string from user a i have to convert the first and last word convert capital\n",
    "# create a function which take n value has number of row and i have to print have pyramid based of a number of row "
   ]
  },
  {
   "cell_type": "code",
   "execution_count": 1,
   "id": "8393565d-7b1c-43b5-b287-d3d229b9379b",
   "metadata": {},
   "outputs": [
    {
     "name": "stdout",
     "output_type": "stream",
     "text": [
      "[0, 1, 1, 2, 3, 5, 8, 13, 21, 34, 55, 89, 144]\n"
     ]
    }
   ],
   "source": [
    "# fibonacci series 10 terms return list \n",
    "\n",
    "def fibonacci(n):\n",
    "    a  = 0 \n",
    "    b = 1\n",
    "    mylist= []\n",
    "    mylist.append(a)\n",
    "    mylist.append(b)\n",
    "    c = 0\n",
    "    while(c<=n):\n",
    "        next_Term = a+b\n",
    "        mylist.append(next_Term)\n",
    "        a  = b\n",
    "        b  = next_Term\n",
    "        c+=1\n",
    "\n",
    "    return mylist\n",
    "\n",
    "x  = fibonacci(10)\n",
    "print(x)\n",
    "    "
   ]
  },
  {
   "cell_type": "code",
   "execution_count": 7,
   "id": "7ac31000-e6ee-441f-9d94-fe4792529c57",
   "metadata": {},
   "outputs": [
    {
     "name": "stdin",
     "output_type": "stream",
     "text": [
      "enter the number  1551\n"
     ]
    },
    {
     "name": "stdout",
     "output_type": "stream",
     "text": [
      "palindrome\n"
     ]
    }
   ],
   "source": [
    "# take a number from user an i have to check wether palindrome or not\n",
    "\n",
    "def palindrome(number):\n",
    "    temp =  number\n",
    "    sum = 0\n",
    "\n",
    "    while(number>0):\n",
    "        rem = number%10\n",
    "        sum = sum*10 + rem\n",
    "        number = number//10\n",
    "\n",
    "    if(sum==temp):\n",
    "        return \"palindrome\"\n",
    "    else:\n",
    "        return \"Not palindrome\"\n",
    "\n",
    "number = int(input(\"enter the number \"))\n",
    "\n",
    "x=  palindrome(number)\n",
    "print(x)\n"
   ]
  },
  {
   "cell_type": "code",
   "execution_count": 13,
   "id": "6d7cfc18-8d8f-49f2-b00c-94414819d06d",
   "metadata": {},
   "outputs": [
    {
     "name": "stdout",
     "output_type": "stream",
     "text": [
      "        * \n",
      "       * * \n",
      "      * * * \n",
      "     * * * * \n",
      "    * * * * * \n",
      "   * * * * * * \n",
      "  * * * * * * * \n",
      " * * * * * * * * \n",
      "* * * * * * * * * \n"
     ]
    }
   ],
   "source": [
    "# create a function which take n value has number of row and i have to print have pyramid based of a number of row \n",
    "\n",
    "def pattern(n):\n",
    "    for i in range(1,n):\n",
    "        for s in range(1,n-i):\n",
    "            print(\" \",end=\"\")\n",
    "        for j in range(1,i+1):\n",
    "            print(\"*\",end=\" \")\n",
    "        print()\n",
    "\n",
    "\n",
    "pattern(10)"
   ]
  },
  {
   "cell_type": "code",
   "execution_count": 16,
   "id": "9eeb6dda-d41d-4b74-b04b-5e91e9aa451d",
   "metadata": {},
   "outputs": [
    {
     "name": "stdout",
     "output_type": "stream",
     "text": [
      "        * \n",
      "      * * * \n",
      "    * * * * * \n",
      "  * * * * * * * \n",
      "* * * * * * * * * \n"
     ]
    }
   ],
   "source": [
    "def pattern(n):\n",
    "    for i in range(1,n):\n",
    "        for j in range(1,n-i):\n",
    "            print(\" \",end=\" \")\n",
    "        for s in range(1,i+i):\n",
    "            print(\"*\",end=\" \")\n",
    "        print()\n",
    "\n",
    "pattern(6)\n"
   ]
  },
  {
   "cell_type": "code",
   "execution_count": 51,
   "id": "e4fc3d81-0972-433a-905b-b0b92a08fca3",
   "metadata": {},
   "outputs": [
    {
     "name": "stdout",
     "output_type": "stream",
     "text": [
      "['MY', 'name', 'is', 'deepak', 'GUPTA']\n"
     ]
    }
   ],
   "source": [
    "# take a string from user a i have to convert the first and last word convert capital\n",
    "def convert_string(a):\n",
    "    s = a.split()\n",
    "    for i in range(0,len(s)):\n",
    "        if (i==0):\n",
    "            s[i] = s[i].upper()\n",
    "        elif(i==len(s)-1):\n",
    "            s[i]= s[i].upper()\n",
    "    print(s)\n",
    "\n",
    "a = \"my name is deepak gupta\"\n",
    "convert_string(a)\n",
    "    \n",
    "\n"
   ]
  },
  {
   "cell_type": "code",
   "execution_count": null,
   "id": "270a1839-5b67-4127-99af-67c03be5b906",
   "metadata": {},
   "outputs": [],
   "source": []
  }
 ],
 "metadata": {
  "kernelspec": {
   "display_name": "Python 3 (ipykernel)",
   "language": "python",
   "name": "python3"
  },
  "language_info": {
   "codemirror_mode": {
    "name": "ipython",
    "version": 3
   },
   "file_extension": ".py",
   "mimetype": "text/x-python",
   "name": "python",
   "nbconvert_exporter": "python",
   "pygments_lexer": "ipython3",
   "version": "3.12.4"
  }
 },
 "nbformat": 4,
 "nbformat_minor": 5
}
