{
 "cells": [
  {
   "cell_type": "code",
   "execution_count": 3,
   "id": "2903e4dd-0ddb-4164-b8a0-103a9ab49dbc",
   "metadata": {},
   "outputs": [
    {
     "name": "stdout",
     "output_type": "stream",
     "text": [
      "{'totalvalue': 4}\n"
     ]
    }
   ],
   "source": [
    "mylist = [1,2,3,4]\n",
    "\n",
    "mydict = {\"totalvalue\" : 0}\n",
    "for i in range(len(mylist)):\n",
    "    mydict[\"totalvalue\"] = mydict[\"totalvalue\"] + 1\n",
    "print(mydict)"
   ]
  },
  {
   "cell_type": "code",
   "execution_count": 10,
   "id": "7f2f53b2-c0e7-4b89-ac66-eba25a657467",
   "metadata": {},
   "outputs": [
    {
     "name": "stdout",
     "output_type": "stream",
     "text": [
      "{'e': 1, 'u': 1}\n"
     ]
    }
   ],
   "source": [
    "str = \"khemu\"\n",
    "\n",
    "mydict = {}\n",
    "\n",
    "for i in str.lower():\n",
    "    if i not in mydict and (i==\"a\" or i==\"e\" or i==\"i\" or i==\"o\" or i==\"u\"):\n",
    "        mydict[i] = 1\n",
    "print(mydict)"
   ]
  },
  {
   "cell_type": "code",
   "execution_count": 17,
   "id": "539395fd-5852-4cb8-ab5f-834f88aa28a0",
   "metadata": {},
   "outputs": [
    {
     "name": "stdout",
     "output_type": "stream",
     "text": [
      "{'e': 3, 'u': 2}\n"
     ]
    }
   ],
   "source": [
    "str = \"kheeemuu\"\n",
    "\n",
    "mydict = {}\n",
    "\n",
    "for i in str.lower():\n",
    "    if i not in mydict and i in \"aeiou\":\n",
    "        mydict[i] = 1\n",
    "    elif i in \"aeiou\":\n",
    "        mydict[i] = mydict[i] + 1\n",
    "print(mydict)"
   ]
  }
 ],
 "metadata": {
  "kernelspec": {
   "display_name": "Python 3 (ipykernel)",
   "language": "python",
   "name": "python3"
  },
  "language_info": {
   "codemirror_mode": {
    "name": "ipython",
    "version": 3
   },
   "file_extension": ".py",
   "mimetype": "text/x-python",
   "name": "python",
   "nbconvert_exporter": "python",
   "pygments_lexer": "ipython3",
   "version": "3.11.7"
  }
 },
 "nbformat": 4,
 "nbformat_minor": 5
}
