{
 "cells": [
  {
   "cell_type": "markdown",
   "id": "88873ae2-c210-4d6c-aba6-72f6df9c4d6b",
   "metadata": {},
   "source": [
    "# Function in python"
   ]
  },
  {
   "cell_type": "code",
   "execution_count": 1,
   "id": "9bf86d0b-4140-43ff-8979-4a46d302bcea",
   "metadata": {},
   "outputs": [],
   "source": [
    "# (1). Pre-defined Functions print(), input(), min(), max()\n",
    "# (2). Manually Created functions\n",
    "# (a). def\n",
    "# (b). Name_of_Function\n",
    "# (c). Logics of Function\n",
    "# (d). Call the function"
   ]
  },
  {
   "cell_type": "code",
   "execution_count": 2,
   "id": "b41bed77-bcb0-487d-8a7d-b6c421c30254",
   "metadata": {},
   "outputs": [],
   "source": [
    "# Syntax\n",
    "def name_of_function():\n",
    "    # logical\n",
    "    pass\n",
    "name_of_function()"
   ]
  },
  {
   "cell_type": "code",
   "execution_count": 3,
   "id": "26c2a37d-2069-4105-8d97-fc8d3cc7dd13",
   "metadata": {},
   "outputs": [
    {
     "name": "stdout",
     "output_type": "stream",
     "text": [
      "Addition :  5\n"
     ]
    }
   ],
   "source": [
    "# Q.1 Write a function who add  two number\n",
    "def my_add():\n",
    "    a =1\n",
    "    b =4\n",
    "    c = a+b\n",
    "    print(\"Addition : \",c)\n",
    "my_add()"
   ]
  },
  {
   "cell_type": "code",
   "execution_count": 4,
   "id": "0d5c2399-ff22-455c-b58a-88d062e1ce2c",
   "metadata": {},
   "outputs": [],
   "source": [
    "# Arguments and parameters\n",
    "# (1). Parameters ===> these are the value which we suppied when we create a function.\n",
    "# (2). Argument ===> These are the value which we supplied when we call the function."
   ]
  },
  {
   "cell_type": "code",
   "execution_count": 5,
   "id": "832a8280-17b2-4da7-8b05-8ff96116a129",
   "metadata": {},
   "outputs": [
    {
     "name": "stdout",
     "output_type": "stream",
     "text": [
      "Addition :  9\n"
     ]
    }
   ],
   "source": [
    "def my_add(a,b):\n",
    "    c = a+b\n",
    "    print(\"Addition : \",c)\n",
    "p = 4\n",
    "q = 5\n",
    "my_add(p, q)    ### here (p, q) are arument and (a,b) are parameter"
   ]
  },
  {
   "cell_type": "code",
   "execution_count": 7,
   "id": "9ff22ffb-cfd3-4d6d-81ee-96ed03eacd50",
   "metadata": {},
   "outputs": [
    {
     "name": "stdout",
     "output_type": "stream",
     "text": [
      "Even\n"
     ]
    }
   ],
   "source": [
    "def odd_even():   # without Arugument and parameter\n",
    "    a = 6\n",
    "    if(a%2==0):\n",
    "        print(\"Even\")\n",
    "    else:\n",
    "        print(\"Odd\")\n",
    "odd_even()"
   ]
  },
  {
   "cell_type": "code",
   "execution_count": 9,
   "id": "7e3f7dc2-74b8-4a4a-a65a-fdd5d7280cd2",
   "metadata": {},
   "outputs": [
    {
     "name": "stdout",
     "output_type": "stream",
     "text": [
      "Odd\n"
     ]
    }
   ],
   "source": [
    "def odd_even(a):   # with Arugument and parameter\n",
    "    if(a%2==0):\n",
    "        print(\"Even\")\n",
    "    else:\n",
    "        print(\"Odd\")\n",
    "odd_even(5)"
   ]
  },
  {
   "cell_type": "code",
   "execution_count": 21,
   "id": "c0c67265-1c2a-4c3c-8bdd-d0bb94e30a1a",
   "metadata": {},
   "outputs": [
    {
     "name": "stdout",
     "output_type": "stream",
     "text": [
      "Addition :  7\n",
      "Addition :  8\n",
      "Addition 10\n",
      "Addition 5\n"
     ]
    }
   ],
   "source": [
    "# case - 1 (no Argument no Return)\n",
    "def add():\n",
    "    a = 4\n",
    "    b = 3\n",
    "    c = a+b\n",
    "    print(\"Addition : \",c)\n",
    "add()\n",
    "\n",
    "# case - 2 (with Argument no Return)\n",
    "def add(a,b):\n",
    "    c = a+b\n",
    "    print(\"Addition : \",c)\n",
    "add(3,5)\n",
    "\n",
    "# case - 3 (no Argument with Return)\n",
    "def add():\n",
    "    a = 4\n",
    "    b = 6\n",
    "    c = a+b\n",
    "    return c\n",
    "sum = add()\n",
    "print(\"Addition\",sum)\n",
    "\n",
    "# case - 4 (with Argument with Return)\n",
    "def add(a,b):\n",
    "    d = a+b\n",
    "    return d\n",
    "sum = add(1,4)\n",
    "print(\"Addition\",sum)"
   ]
  },
  {
   "cell_type": "markdown",
   "id": "6e773a0a-adf4-4c4e-ba75-0b4656007123",
   "metadata": {},
   "source": [
    "# Lambda"
   ]
  },
  {
   "cell_type": "code",
   "execution_count": 22,
   "id": "032c369b-6b66-4e48-b60e-f3160bdcefaa",
   "metadata": {},
   "outputs": [
    {
     "name": "stdout",
     "output_type": "stream",
     "text": [
      "Total value :  7\n",
      "Total value :  8\n",
      "Total value :  1\n"
     ]
    }
   ],
   "source": [
    "# Lambda Function ===> A Lambda function can take any number of arguments but can only have one expression.\n",
    "# syntax : Lambda arguments : expression\n",
    "\n",
    "# Ex .1. \n",
    "x = lambda a: a+5\n",
    "print(\"Total value : \",x(2))\n",
    "\n",
    "# Ex . 2\n",
    "x = lambda a,b : a*b\n",
    "print(\"Total value : \",x(2,4))\n",
    "\n",
    "# Ex . 3\n",
    "x = lambda a,b,c : a+b-c\n",
    "print(\"Total value : \",x(2,4,5))"
   ]
  },
  {
   "cell_type": "code",
   "execution_count": 23,
   "id": "d0a5ce34-ae1a-41d0-8756-98c06101b217",
   "metadata": {},
   "outputs": [
    {
     "name": "stdout",
     "output_type": "stream",
     "text": [
      "45\n"
     ]
    }
   ],
   "source": [
    "x = lambda a,b,c : a**2 + b**2 + c**2\n",
    "print(x(2,4,5))"
   ]
  },
  {
   "cell_type": "code",
   "execution_count": 24,
   "id": "8dbf3be8-2103-435b-a847-73d4261076d4",
   "metadata": {},
   "outputs": [
    {
     "name": "stdout",
     "output_type": "stream",
     "text": [
      "[5, 12, 17, 18]\n"
     ]
    }
   ],
   "source": [
    "# (2). Filter Function\n",
    "# Filter function ===> The filter function return a iterator where the items are\n",
    "# filtered through a function to test, if the items is accepted return true or false.\n",
    "# filter(logic, data)\n",
    "\n",
    "ages = [5,12,17,23,45,18,45]\n",
    "def my_func(x):\n",
    "    if(x<=18):\n",
    "        return True\n",
    "    else:\n",
    "        return False\n",
    "\n",
    "kid = list(filter(my_func, ages))\n",
    "print(kid)"
   ]
  },
  {
   "cell_type": "code",
   "execution_count": 32,
   "id": "3846e4d6-7176-4910-bf3d-3e6ef810a91e",
   "metadata": {},
   "outputs": [
    {
     "name": "stdout",
     "output_type": "stream",
     "text": [
      "[3, 5, 45]\n",
      "46\n",
      "[3, 5, 46]\n",
      "47\n"
     ]
    }
   ],
   "source": [
    "# Map Function() ===> The map() executes a specified function for each item in\n",
    "# The item is sent to the function as parameters.\n",
    "\n",
    "a = [\"3\", \"5\", \"45\"]\n",
    "\n",
    "# method-1\n",
    "for i in range(len(a)):\n",
    "    a[i] = int(a[i])\n",
    "print(a)\n",
    "a[2] = a[2] +1\n",
    "print(a[2])\n",
    "\n",
    "# method - 2 (by using map function)\n",
    "b = list(map(int, a))\n",
    "print(b)\n",
    "b[2] = b[2] + 1\n",
    "print(b[2])\n"
   ]
  },
  {
   "cell_type": "code",
   "execution_count": 33,
   "id": "85f92e0b-60ee-469f-a2f6-6781bd1a2d59",
   "metadata": {},
   "outputs": [
    {
     "data": {
      "text/plain": [
       "[3, 5]"
      ]
     },
     "execution_count": 33,
     "metadata": {},
     "output_type": "execute_result"
    }
   ],
   "source": [
    "a = ['3', '5']\n",
    "a[0] = int(a[0])\n",
    "a[1] = int(a[1])\n",
    "a"
   ]
  },
  {
   "cell_type": "code",
   "execution_count": 37,
   "id": "90e767f5-6396-4450-9a10-a4ea22375d46",
   "metadata": {},
   "outputs": [
    {
     "name": "stdout",
     "output_type": "stream",
     "text": [
      "[1, 4, 9, 16, 25]\n",
      "[1, 4, 9, 16, 25]\n"
     ]
    }
   ],
   "source": [
    "# Example - 2\n",
    "# method - 1\n",
    "a = [1,2,3,4,5]\n",
    "def squ(a):\n",
    "    return a*a\n",
    "square = list(map(squ,a))\n",
    "print(square)\n",
    "\n",
    "# method - 2 \n",
    "a = [1,2,3,4,5]\n",
    "square = list(map(lambda x : x*x, a))\n",
    "print(square)"
   ]
  },
  {
   "cell_type": "code",
   "execution_count": 41,
   "id": "b16d22a2-51b2-49a3-8d3f-bf8acc1b45a5",
   "metadata": {},
   "outputs": [
    {
     "name": "stdout",
     "output_type": "stream",
     "text": [
      "Total :  34\n"
     ]
    }
   ],
   "source": [
    "# write a lambda function that takes two argrments, x and y, and return x^2 + y^2.\n",
    "# Test it on two number.\n",
    "\n",
    "square = lambda x,y : x**2 + y**2\n",
    "print(\"Total : \",square(3,5))"
   ]
  },
  {
   "cell_type": "code",
   "execution_count": 46,
   "id": "1db73e89-00d4-42a6-89ee-c3dc9abe6173",
   "metadata": {},
   "outputs": [
    {
     "data": {
      "text/plain": [
       "['A', 'B', 'C', 'D']"
      ]
     },
     "execution_count": 46,
     "metadata": {},
     "output_type": "execute_result"
    }
   ],
   "source": [
    "# Write a python program using map and lambda to convert a list of string to uppercase.\n",
    "a = ['a', 'b', 'c', 'd']\n",
    "\n",
    "b = list(map(lambda u : u.upper(), a))\n",
    "b"
   ]
  },
  {
   "cell_type": "code",
   "execution_count": 54,
   "id": "2762b1ab-6642-4d51-ae05-3b554cd55e2c",
   "metadata": {},
   "outputs": [
    {
     "name": "stdout",
     "output_type": "stream",
     "text": [
      "['aadi']\n"
     ]
    }
   ],
   "source": [
    "# write a python program using filter and lambda to filter out all words from a list that are lesss than 5 characters\n",
    "\n",
    "a = [\"khemraj\", \"khemu\", \"aadi\", \"Deepak\"]\n",
    "def less(x):\n",
    "    if (len(x)<5):\n",
    "        return True\n",
    "    else:\n",
    "        return False\n",
    "\n",
    "b = list(filter(less,a))\n",
    "print(b)"
   ]
  },
  {
   "cell_type": "code",
   "execution_count": null,
   "id": "5df15835-115c-493d-8e77-b78603ce869e",
   "metadata": {},
   "outputs": [],
   "source": []
  }
 ],
 "metadata": {
  "kernelspec": {
   "display_name": "Python 3 (ipykernel)",
   "language": "python",
   "name": "python3"
  },
  "language_info": {
   "codemirror_mode": {
    "name": "ipython",
    "version": 3
   },
   "file_extension": ".py",
   "mimetype": "text/x-python",
   "name": "python",
   "nbconvert_exporter": "python",
   "pygments_lexer": "ipython3",
   "version": "3.11.7"
  }
 },
 "nbformat": 4,
 "nbformat_minor": 5
}
