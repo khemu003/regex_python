{
 "cells": [
  {
   "cell_type": "markdown",
   "id": "09375064-4a18-4082-a7b7-17c7960b537f",
   "metadata": {},
   "source": [
    "# Dictionary"
   ]
  },
  {
   "cell_type": "code",
   "execution_count": 2,
   "id": "4d1c8dc6-4867-4b6b-88eb-c82e9e552eff",
   "metadata": {},
   "outputs": [
    {
     "name": "stdout",
     "output_type": "stream",
     "text": [
      "{'amount': 10}\n"
     ]
    }
   ],
   "source": [
    "mydict = {\"amount\" : 0}\n",
    "\n",
    "for i in range(1,11):\n",
    "    mydict[\"amount\"] = mydict[\"amount\"] + 1\n",
    "\n",
    "print(mydict)"
   ]
  },
  {
   "cell_type": "code",
   "execution_count": 4,
   "id": "6daf8ada-1542-40e2-bc6c-16d68777d216",
   "metadata": {},
   "outputs": [
    {
     "name": "stdout",
     "output_type": "stream",
     "text": [
      "{'length': 5}\n"
     ]
    }
   ],
   "source": [
    "mydict = {\"length\" : 0}\n",
    "str = \"hello\"\n",
    "\n",
    "for i in str:\n",
    "    mydict[\"length\"] = mydict[\"length\"] + 1\n",
    "\n",
    "print(mydict)"
   ]
  },
  {
   "cell_type": "code",
   "execution_count": 11,
   "id": "079d6375-1346-4ab0-953d-75e3067d19a6",
   "metadata": {},
   "outputs": [
    {
     "name": "stdout",
     "output_type": "stream",
     "text": [
      "{'vowel': 2}\n"
     ]
    }
   ],
   "source": [
    "mydict = {\"vowel\" : 0}\n",
    "str = \"hello\"\n",
    "\n",
    "for i in str:\n",
    "    if i in \"aeiou\":\n",
    "        mydict[\"vowel\"] = mydict[\"vowel\"] + 1\n",
    "\n",
    "print(mydict)"
   ]
  },
  {
   "cell_type": "code",
   "execution_count": 5,
   "id": "e8808655-3071-4e8d-abf7-814f428046cf",
   "metadata": {},
   "outputs": [
    {
     "name": "stdout",
     "output_type": "stream",
     "text": [
      "{'h': 1, 'e': 1, 'l': 1, 'o': 1}\n"
     ]
    }
   ],
   "source": [
    "mydict = {}\n",
    "str = \"hello\"\n",
    "\n",
    "for i in str:\n",
    "    mydict[i] = 1\n",
    "\n",
    "print(mydict)"
   ]
  },
  {
   "cell_type": "code",
   "execution_count": 12,
   "id": "9d4a8232-45ba-4ac6-a21e-e82e58dd0f4c",
   "metadata": {},
   "outputs": [
    {
     "name": "stdout",
     "output_type": "stream",
     "text": [
      "{'h': 1, 'e': 1, 'l': 1, 'o': 1}\n"
     ]
    }
   ],
   "source": [
    "mydict = {}\n",
    "str = \"hello\"\n",
    "\n",
    "for i in str:\n",
    "    if i not in mydict:\n",
    "        mydict[i] = 1\n",
    "\n",
    "print(mydict)"
   ]
  },
  {
   "cell_type": "code",
   "execution_count": 9,
   "id": "b036c191-2a05-450d-a6c4-6cbcc8df071b",
   "metadata": {},
   "outputs": [
    {
     "name": "stdout",
     "output_type": "stream",
     "text": [
      "{'h': 1, 'e': 1, 'l': 2, 'o': 1}\n"
     ]
    }
   ],
   "source": [
    "mydict = {}\n",
    "str = \"hello\"\n",
    "\n",
    "for i in str:\n",
    "    if i in mydict:\n",
    "        mydict[i] = mydict[i] + 1\n",
    "    else:\n",
    "        mydict[i] = 1\n",
    "\n",
    "print(mydict)"
   ]
  },
  {
   "cell_type": "code",
   "execution_count": 5,
   "id": "f2e692af-b7e1-4c06-90d6-a2a67204fe4a",
   "metadata": {},
   "outputs": [
    {
     "name": "stdout",
     "output_type": "stream",
     "text": [
      "True\n"
     ]
    }
   ],
   "source": [
    "str = \"hello\"\n",
    "new_str = \"lehlo\"\n",
    "\n",
    "mydict_str = {}\n",
    "mydict_new_str = {}\n",
    "\n",
    "for i in str:\n",
    "    if i in mydict_str:\n",
    "        mydict_str[i] = mydict_str[i] + 1\n",
    "    else:\n",
    "        mydict_str[i] = 1\n",
    "\n",
    "for j in new_str:\n",
    "    if j in mydict_new_str:\n",
    "        mydict_new_str[j] = mydict_new_str[j] + 1\n",
    "    else:\n",
    "        mydict_new_str[j] = 1\n",
    "\n",
    "flag = 0\n",
    "for i in mydict_str:\n",
    "    if i in mydict_new_str:\n",
    "        for j in mydict_new_str:\n",
    "            mydict_str[i] = mydict_new_str[j]\n",
    "    else:\n",
    "        flag = 1\n",
    "        break\n",
    "\n",
    "if flag:\n",
    "    print(\"flase\")\n",
    "else:\n",
    "    print(\"True\")"
   ]
  },
  {
   "cell_type": "code",
   "execution_count": 24,
   "id": "d17226f4-281e-43ef-87e9-d15b08ed4f4f",
   "metadata": {},
   "outputs": [
    {
     "name": "stdout",
     "output_type": "stream",
     "text": [
      "iso\n"
     ]
    }
   ],
   "source": [
    "s = \"pep\"\n",
    "t = \"ziz\"   \n",
    "\n",
    "s_dict = {}\n",
    "t_dict = {}\n",
    "\n",
    "x = 0\n",
    "\n",
    "if len(s)==len(t):\n",
    "    for index in range(0, len(s)):\n",
    "        if (s[index] in s_dict and s_dict[s[index]] != t[index]):\n",
    "            x = 1\n",
    "            break\n",
    "        s_dict[s[index]] = t[index]\n",
    "        \n",
    "    for index in range(0, len(s)):\n",
    "        if (t[index] in t_dict and t_dict[t[index]] != s[index]):\n",
    "            x = 1\n",
    "            break\n",
    "        t_dict[t[index]] = s[index]\n",
    "else:\n",
    "    x = 1\n",
    "\n",
    "# print(s_dict)\n",
    "# print(t_dict)\n",
    "\n",
    "if x==0:\n",
    "    print(\"iso\")\n",
    "else:\n",
    "    print(\"not iso\")"
   ]
  },
  {
   "cell_type": "code",
   "execution_count": null,
   "id": "0cfe6ddf-864d-49bc-b795-5b74ee7f89b7",
   "metadata": {},
   "outputs": [],
   "source": []
  }
 ],
 "metadata": {
  "kernelspec": {
   "display_name": "Python 3 (ipykernel)",
   "language": "python",
   "name": "python3"
  },
  "language_info": {
   "codemirror_mode": {
    "name": "ipython",
    "version": 3
   },
   "file_extension": ".py",
   "mimetype": "text/x-python",
   "name": "python",
   "nbconvert_exporter": "python",
   "pygments_lexer": "ipython3",
   "version": "3.11.7"
  }
 },
 "nbformat": 4,
 "nbformat_minor": 5
}
