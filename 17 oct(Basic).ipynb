{
 "cells": [
  {
   "cell_type": "markdown",
   "id": "d08fa93e-9f6f-415b-8886-1cf50adfae6e",
   "metadata": {},
   "source": [
    "# Python"
   ]
  },
  {
   "cell_type": "code",
   "execution_count": null,
   "id": "ff53f668-1841-4806-adb0-7a8cf9f39c4e",
   "metadata": {},
   "outputs": [],
   "source": [
    "print()\n",
    "\n",
    "int-------5,-5,6,-6\n",
    "\n",
    "string------character or sequance of characters\n",
    "\n",
    "'Name','age','k','Jaipur is a big city'\n",
    "\n",
    "float--------decimal points\n",
    "\n",
    "1.8,7.9,5.3\n",
    "\n",
    "Bool or boolean---True/False\n",
    "\n",
    "list-----[1,2,3,4,5,6,7,8]\n",
    "\n",
    "['Name',1.6,-8,True]\n",
    "\n",
    "tuple-----(1,2,3,4,5)\n",
    "\n",
    "(1,'name',True,8.9)\n",
    "\n",
    "Dictionary\n",
    "\n",
    "{'Name':'Snigdha','profile':'Data Science Trainer','age':24}\n",
    "\n",
    "set\n",
    "{1,2,4}\n",
    "\n",
    "Operators\n",
    "#Arithmetic operators\n",
    "+,-,*,/,%,**,//\n",
    "\n",
    "#Comparison operators\n",
    "<,>,==,<=,>=,!=\n",
    "\n",
    "#Logical operators\n",
    "and,or,not--------Bool\n"
   ]
  }
 ],
 "metadata": {
  "kernelspec": {
   "display_name": "Python 3 (ipykernel)",
   "language": "python",
   "name": "python3"
  },
  "language_info": {
   "codemirror_mode": {
    "name": "ipython",
    "version": 3
   },
   "file_extension": ".py",
   "mimetype": "text/x-python",
   "name": "python",
   "nbconvert_exporter": "python",
   "pygments_lexer": "ipython3",
   "version": "3.11.7"
  }
 },
 "nbformat": 4,
 "nbformat_minor": 5
}
