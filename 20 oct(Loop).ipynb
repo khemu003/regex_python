{
 "cells": [
  {
   "cell_type": "markdown",
   "id": "8821ca9a-1fb4-477c-8d6a-49b65d3c7f70",
   "metadata": {},
   "source": [
    "# Loop in  python"
   ]
  },
  {
   "cell_type": "code",
   "execution_count": 2,
   "id": "10c71288-28aa-4497-a7f3-db4f0d52d7f3",
   "metadata": {},
   "outputs": [],
   "source": [
    "# Loop in Python\n",
    "# (1). for Loop\n",
    "# (2). while Loop\n",
    "# Index = e , Length -"
   ]
  },
  {
   "cell_type": "markdown",
   "id": "2af69e4d-b771-4d0c-95df-82e5890254f5",
   "metadata": {},
   "source": [
    "**# (1). For Loop**"
   ]
  },
  {
   "cell_type": "code",
   "execution_count": 3,
   "id": "be02f9de-562c-4e37-974a-853a61cdc456",
   "metadata": {},
   "outputs": [
    {
     "name": "stdout",
     "output_type": "stream",
     "text": [
      "1\n",
      "3\n",
      "5\n"
     ]
    }
   ],
   "source": [
    "# method - 1\n",
    "for i in range(1,7,2):\n",
    "    print (i)"
   ]
  },
  {
   "cell_type": "code",
   "execution_count": 4,
   "id": "0f1f3f7b-2179-4e5e-b758-0bf8711ba465",
   "metadata": {},
   "outputs": [
    {
     "name": "stdout",
     "output_type": "stream",
     "text": [
      "S\n",
      "a\n",
      "m\n"
     ]
    }
   ],
   "source": [
    "# method - 2\n",
    "a = \"Sam\"\n",
    "len(a)\n",
    "for i in range(len(a)):\n",
    "    print(a[i])"
   ]
  },
  {
   "cell_type": "code",
   "execution_count": 5,
   "id": "3b099cd0-cc8d-438a-bc8d-302995240d85",
   "metadata": {},
   "outputs": [
    {
     "name": "stdout",
     "output_type": "stream",
     "text": [
      "S a m "
     ]
    }
   ],
   "source": [
    "# method - 3\n",
    "a = \"Sam\"\n",
    "len(a)\n",
    "for i in range(len(a)):\n",
    "    print(a[i], end=\" \")"
   ]
  },
  {
   "cell_type": "code",
   "execution_count": 6,
   "id": "4489cb81-00aa-4412-bcb4-926a5f018840",
   "metadata": {},
   "outputs": [
    {
     "name": "stdout",
     "output_type": "stream",
     "text": [
      "S\n",
      "a\n",
      "m\n"
     ]
    }
   ],
   "source": [
    "# method - 4\n",
    "a = \"Sam\"\n",
    "len(a)\n",
    "for i in a:\n",
    "    print(i)"
   ]
  },
  {
   "cell_type": "code",
   "execution_count": 7,
   "id": "333404b6-534b-427d-b2d3-a04ef7b85515",
   "metadata": {},
   "outputs": [
    {
     "name": "stdout",
     "output_type": "stream",
     "text": [
      "S a m "
     ]
    }
   ],
   "source": [
    "# method - 5\n",
    "a = \"Sam\"\n",
    "len(a)\n",
    "for i in a:\n",
    "    print(i, end=\" \")"
   ]
  },
  {
   "cell_type": "markdown",
   "id": "7ba506cd-dd9e-49ec-8899-46c6feebc526",
   "metadata": {},
   "source": [
    "**(2) while loop**"
   ]
  },
  {
   "cell_type": "code",
   "execution_count": 8,
   "id": "58380aec-d1ca-456f-a609-afa7dc4d833d",
   "metadata": {},
   "outputs": [],
   "source": [
    "# (a). Initialization\n",
    "# (b). Condition\n",
    "# (c). Increment or decrement"
   ]
  },
  {
   "cell_type": "code",
   "execution_count": 9,
   "id": "c0c3dfc1-077c-401c-8dfd-fabefe47e7ee",
   "metadata": {},
   "outputs": [
    {
     "name": "stdout",
     "output_type": "stream",
     "text": [
      "1\n",
      "2\n",
      "3\n"
     ]
    }
   ],
   "source": [
    "# Q.1 Write a program who print from 1 to 3 using while loop?\n",
    "\n",
    "i=1\n",
    "n=3\n",
    "while(i<=n):\n",
    "    print(i)\n",
    "    i = i+1"
   ]
  },
  {
   "cell_type": "code",
   "execution_count": null,
   "id": "fd674255-cfb1-4675-8c84-da233c12c8b3",
   "metadata": {},
   "outputs": [],
   "source": [
    "# step-1 (i=1, n=3)\n",
    "while(1<=3):\n",
    "    print(1)\n",
    "    i = 1+1 = 2\n",
    "    \n",
    "# step-2 (i=2, n=3)\n",
    "while(2<=3):\n",
    "    print(2)\n",
    "    i = 2+1 = 3\n",
    "    \n",
    "# step-3 (i=3, n=3)\n",
    "while(3<=3):\n",
    "    print(3)\n",
    "    i = 3+1 = 4\n",
    "    \n",
    "# step-4 (i=4, n=3)\n",
    "while(4<=3):\n",
    "    break"
   ]
  },
  {
   "cell_type": "code",
   "execution_count": 10,
   "id": "e7acdaa1-d1b0-4bfb-898f-dd0d2498016c",
   "metadata": {},
   "outputs": [
    {
     "name": "stdin",
     "output_type": "stream",
     "text": [
      "Enter start number :  1\n",
      "Enter last number :  4\n"
     ]
    },
    {
     "name": "stdout",
     "output_type": "stream",
     "text": [
      "sum :  10\n"
     ]
    }
   ],
   "source": [
    "# write a program who add number>\n",
    "\n",
    "i = int(input(\"Enter start number : \"))\n",
    "n = int(input(\"Enter last number : \"))\n",
    "sum=0\n",
    "while(i<=n):\n",
    "    sum=sum+i\n",
    "    i = i+1\n",
    "print(\"sum : \",sum)"
   ]
  },
  {
   "cell_type": "code",
   "execution_count": null,
   "id": "06dea1de-df05-4fc1-a27a-ab81d48b4330",
   "metadata": {},
   "outputs": [],
   "source": [
    "# step - 1 (i=1, n=4, sum=0)\n",
    "while(1<=4):\n",
    "    sum= 0+1 = 1\n",
    "    i = 1+1 = 2\n",
    "\n",
    "# step - 2 (i=2, n=4, sum=1)\n",
    "while(2<=4):\n",
    "    sum= 1+2 = 3\n",
    "    i = 2+1 = 3\n",
    "\n",
    "# step - 3 (i=3,n=4, sum=3)\n",
    "while(3<=4):\n",
    "    sum= 3+3 = 6\n",
    "    i = 3+1 = 4\n",
    "\n",
    "# step - 4 (i=4,n=4, sum=6)\n",
    "while(4<=4):\n",
    "    sum= 6+4 = 10\n",
    "    i = 4+1 = 5\n",
    "\n",
    "# step - 5 (i=5,n=4, sum=10)\n",
    "while(5<=4):\n",
    "    break"
   ]
  },
  {
   "cell_type": "code",
   "execution_count": 13,
   "id": "7653e631-5197-4e0f-a4d8-dfe12f1b0d99",
   "metadata": {},
   "outputs": [
    {
     "name": "stdout",
     "output_type": "stream",
     "text": [
      "14\n"
     ]
    }
   ],
   "source": [
    "#Q.2. write a program to print square of each number and sum it\n",
    "# num = 123 => 1**2 + 2**2 +3**2 => 1+4+9 => 14\n",
    "\n",
    "i = 123\n",
    "sum = 0\n",
    "while(i>0):\n",
    "    sum = sum + (i%10)**2\n",
    "    i = i//10\n",
    "print(sum)"
   ]
  },
  {
   "cell_type": "code",
   "execution_count": null,
   "id": "774ee278-6ba8-48e3-9eff-360284d7588c",
   "metadata": {},
   "outputs": [],
   "source": [
    "# step-1 (i=123, sum=0)\n",
    "while(123>0):\n",
    "    sum = 0 + (123%10)**2 = 0+3**2 = 0+9 = 9\n",
    "    i = 123//10 = 12\n",
    "\n",
    "# step-2 (i=12, sum=9)\n",
    "while(12>0):\n",
    "    sum = 9 + (12%10)**2 = 0+2**2 = 9+4 = 13\n",
    "    i = 12//10 = 1\n",
    "\n",
    "# step-3 (i=1, sum=13)\n",
    "while(1>0):\n",
    "    sum = 13 + (1%10)**2 = 0+0**2 = 13+1 = 14\n",
    "    i = 1//10 = 0\n",
    "\n",
    "# final output -> sum = 14"
   ]
  },
  {
   "cell_type": "code",
   "execution_count": 18,
   "id": "1428b8c3-c089-4dc8-9757-f16948e5e4e9",
   "metadata": {},
   "outputs": [
    {
     "name": "stdout",
     "output_type": "stream",
     "text": [
      "num :  153\n",
      "153 is Armstrong\n"
     ]
    }
   ],
   "source": [
    "# armstrong number\n",
    "\n",
    "num = 153\n",
    "sum=0\n",
    "temp=num\n",
    "while(num>0):\n",
    "    sum = sum + (num%10)**3\n",
    "    num = num//10\n",
    "print(\"num : \",sum)\n",
    "if(sum==temp):\n",
    "    print(f\"{temp} is Armstrong\")\n",
    "else:\n",
    "    print(f\"{temp} is not Armstrong\")"
   ]
  },
  {
   "cell_type": "code",
   "execution_count": 26,
   "id": "ab891735-b814-4704-bc76-c1163002be14",
   "metadata": {},
   "outputs": [
    {
     "name": "stdout",
     "output_type": "stream",
     "text": [
      "[4, 2]\n",
      "[3, 1]\n",
      "Even sum :  6\n",
      "odd sum :  4\n"
     ]
    }
   ],
   "source": [
    "num = 1234\n",
    "even_list = []\n",
    "odd_list = []\n",
    "while(num>0):\n",
    "    rem = num%10\n",
    "    if(rem%2==0):\n",
    "        even_list.append(rem)\n",
    "    else:\n",
    "        odd_list.append(rem)\n",
    "    num = num//10\n",
    "print(even_list)\n",
    "print(odd_list)\n",
    "\n",
    "sum1 = 0\n",
    "for i in even_list:\n",
    "    sum1 = sum1+i\n",
    "print(\"Even sum : \",sum1)\n",
    "\n",
    "sum2 = 0\n",
    "for i in odd_list:\n",
    "    sum2 = sum2+i\n",
    "print(\"odd sum : \",sum2)"
   ]
  },
  {
   "cell_type": "code",
   "execution_count": 28,
   "id": "26c58b3e-3e09-4dc5-8ff5-decb7a8ae523",
   "metadata": {},
   "outputs": [
    {
     "name": "stdout",
     "output_type": "stream",
     "text": [
      "6\n",
      "4\n"
     ]
    },
    {
     "data": {
      "text/plain": [
       "'\\nsum1 = 0\\nfor i in even_list:\\n    sum1 = sum1+i\\nprint(\"Even sum : \",sum1)\\n\\nsum2 = 0\\nfor i in odd_list:\\n    sum2 = sum2+i\\nprint(\"odd sum : \",sum2)\\n'"
      ]
     },
     "execution_count": 28,
     "metadata": {},
     "output_type": "execute_result"
    }
   ],
   "source": [
    "num = 1234\n",
    "even_sum = 0\n",
    "odd_sum = 0\n",
    "\n",
    "while(num>0):\n",
    "    rem = num%10\n",
    "    if(rem%2==0):\n",
    "        even_sum = even_sum + rem\n",
    "    else:\n",
    "        odd_sum = odd_sum + rem\n",
    "    num = num//10\n",
    "print(\"Even number sum\",even_sum)\n",
    "print(odd_sum)\n",
    "\"\"\"\n",
    "sum1 = 0\n",
    "for i in even_list:\n",
    "    sum1 = sum1+i\n",
    "print(\"Even sum : \",sum1)\n",
    "\n",
    "sum2 = 0\n",
    "for i in odd_list:\n",
    "    sum2 = sum2+i\n",
    "print(\"odd sum : \",sum2)\n",
    "\"\"\""
   ]
  },
  {
   "cell_type": "code",
   "execution_count": 31,
   "id": "09c851c7-33e7-43e5-afd8-ebe5644160c3",
   "metadata": {},
   "outputs": [
    {
     "name": "stdout",
     "output_type": "stream",
     "text": [
      "4321\n"
     ]
    }
   ],
   "source": [
    "num = 1234\n",
    "sum = 0\n",
    "temp=num\n",
    "while(num>0):\n",
    "    rem = num%10\n",
    "    sum = sum*10 + rem\n",
    "    num = num//10\n",
    "print(sum)"
   ]
  },
  {
   "cell_type": "code",
   "execution_count": null,
   "id": "6db3315d-926f-4d9c-84e4-7b503e47842b",
   "metadata": {},
   "outputs": [],
   "source": []
  }
 ],
 "metadata": {
  "kernelspec": {
   "display_name": "Python 3 (ipykernel)",
   "language": "python",
   "name": "python3"
  },
  "language_info": {
   "codemirror_mode": {
    "name": "ipython",
    "version": 3
   },
   "file_extension": ".py",
   "mimetype": "text/x-python",
   "name": "python",
   "nbconvert_exporter": "python",
   "pygments_lexer": "ipython3",
   "version": "3.11.7"
  }
 },
 "nbformat": 4,
 "nbformat_minor": 5
}
