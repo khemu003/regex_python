{
 "cells": [
  {
   "cell_type": "code",
   "execution_count": 28,
   "id": "703d292a-d6a0-4ead-a5d5-60f9735667ca",
   "metadata": {},
   "outputs": [
    {
     "name": "stdout",
     "output_type": "stream",
     "text": [
      "50\n"
     ]
    }
   ],
   "source": [
    "mylist = [10,20,50,100,50,100,40]\n",
    "\n",
    "max = 0\n",
    "s_max = 0\n",
    "\n",
    "for i in range(len(mylist)):\n",
    "    if (mylist[i]>max):\n",
    "        s_max = max\n",
    "        max = mylist[i]\n",
    "    elif (mylist[i]>s_max and mylist[i]!=max):\n",
    "        s_max = mylist[i]\n",
    "\n",
    "print(s_max)"
   ]
  },
  {
   "cell_type": "code",
   "execution_count": 12,
   "id": "9b000354-d613-484f-b965-aaada42a29ae",
   "metadata": {},
   "outputs": [
    {
     "name": "stdout",
     "output_type": "stream",
     "text": [
      "3\n"
     ]
    }
   ],
   "source": [
    "mylist = [20,40,3,70,7]\n",
    "min_value = mylist[0]\n",
    "\n",
    "for i in range(1,len(mylist)):\n",
    "    if mylist[i]<min_value:\n",
    "        min_value = mylist[i]\n",
    "print(min_value)"
   ]
  },
  {
   "cell_type": "code",
   "execution_count": 26,
   "id": "adf8df97-f18c-4269-b457-6271bb8e831f",
   "metadata": {},
   "outputs": [
    {
     "ename": "IndentationError",
     "evalue": "unindent does not match any outer indentation level (<tokenize>, line 6)",
     "output_type": "error",
     "traceback": [
      "\u001b[1;36m  File \u001b[1;32m<tokenize>:6\u001b[1;36m\u001b[0m\n\u001b[1;33m    mylist[i] = mylist[i] + mylist[j]\u001b[0m\n\u001b[1;37m    ^\u001b[0m\n\u001b[1;31mIndentationError\u001b[0m\u001b[1;31m:\u001b[0m unindent does not match any outer indentation level\n"
     ]
    }
   ],
   "source": [
    "mylist=[76, 23, 45, 12, 54, 9] \n",
    "\n",
    "for i in range(0, len(mylist)):\n",
    "\tfor j in range(i+1, len(mylist)):\n",
    "\t\tif mylist[i] >= mylist[j]:\n",
    "            mylist[i] = mylist[i] + mylist[j]\n",
    "            mylist[j] = mylist[i] - mylist[j]\n",
    "            mylist[i] = mylist[i] + mylist[j]\n",
    "\t\t\t# mylist[i], mylist[j] = mylist[j],mylist[i]\n",
    "\n",
    "print(\"Sorted List : \", mylist)"
   ]
  },
  {
   "cell_type": "code",
   "execution_count": 6,
   "id": "47801d9a-8882-4fb5-8433-49a39ebfe2a6",
   "metadata": {},
   "outputs": [
    {
     "name": "stdout",
     "output_type": "stream",
     "text": [
      "[2, 4, 6, 8, 7]\n"
     ]
    }
   ],
   "source": [
    "mylist = [2,4,6,8,2,7,8]\n",
    "\n",
    "newlist = []\n",
    "\n",
    "for i in mylist:\n",
    "    if (i not in newlist):\n",
    "        newlist.append(i)\n",
    "print(newlist)"
   ]
  },
  {
   "cell_type": "code",
   "execution_count": 9,
   "id": "993cca11-09ea-4bfa-bd83-d2d97ac40881",
   "metadata": {},
   "outputs": [
    {
     "name": "stdout",
     "output_type": "stream",
     "text": [
      "(5, 11)\n",
      "(7, 9)\n"
     ]
    }
   ],
   "source": [
    "mylist = [0,2,4,5,7,9,11,13]\n",
    "\n",
    "k = 16\n",
    "\n",
    "for i in range(len(mylist)):\n",
    "    for j in range(i+1,len(mylist)):\n",
    "        if ((mylist[i]+mylist[j]==k)):\n",
    "            print((mylist[i],mylist[j]))\n",
    "        "
   ]
  },
  {
   "cell_type": "code",
   "execution_count": 51,
   "id": "d0f167df-ae20-428d-9e40-a7d116fcdeda",
   "metadata": {},
   "outputs": [
    {
     "data": {
      "text/plain": [
       "[1, 2]"
      ]
     },
     "execution_count": 51,
     "metadata": {},
     "output_type": "execute_result"
    }
   ],
   "source": [
    "def twosum(mylist,target):\n",
    "    mydict = {}\n",
    "\n",
    "    for index,value in enumerate(mylist):\n",
    "        mydict[value]=index\n",
    "\n",
    "# x+y=target  ===> y=target-x\n",
    "\n",
    "    for i,j in enumerate(mylist):\n",
    "        y = target-j\n",
    "        if y in mydict and mydict[y]!=i:\n",
    "            return ([i,mydict[y]])\n",
    "\n",
    "mylist = [2,7,9,5,11]\n",
    "target = 16\n",
    "twosum(mylist,target)"
   ]
  },
  {
   "cell_type": "code",
   "execution_count": 55,
   "id": "0c43696d-500c-4bab-ab0f-66805097a7ac",
   "metadata": {},
   "outputs": [
    {
     "data": {
      "text/plain": [
       "True"
      ]
     },
     "execution_count": 55,
     "metadata": {},
     "output_type": "execute_result"
    }
   ],
   "source": [
    "def duplicate(mylist):\n",
    "    mydict = {}\n",
    "\n",
    "    for i in mylist:\n",
    "        if i not in mydict:\n",
    "            mydict[i] = None\n",
    "            return True\n",
    "        else:\n",
    "            False\n",
    "    return False\n",
    "\n",
    "mylist = [1,2,3,1]\n",
    "duplicate(mylist)"
   ]
  },
  {
   "cell_type": "code",
   "execution_count": 5,
   "id": "daf2f1d2-9bde-4546-91f8-fe7b95f3bd17",
   "metadata": {},
   "outputs": [
    {
     "data": {
      "text/plain": [
       "[1, 2]"
      ]
     },
     "execution_count": 5,
     "metadata": {},
     "output_type": "execute_result"
    }
   ],
   "source": [
    "def TwoSum(mylist, target):\n",
    "    mydict = {}\n",
    "\n",
    "    for i in range(len(mylist)):\n",
    "        if mylist[i] not in mydict:\n",
    "            mydict[mylist[i]] = i\n",
    "\n",
    "    for j in range(len(mylist)):\n",
    "        y = target-mylist[j]\n",
    "\n",
    "        if y in mydict and mydict[y]!=j:\n",
    "            return ([j,mydict[y]])\n",
    "\n",
    "mylist = [2,7,9,5,11]\n",
    "target = 16\n",
    "TwoSum(mylist, target)"
   ]
  },
  {
   "cell_type": "code",
   "execution_count": 34,
   "id": "f1efcb1a-c7ec-44bf-aef7-ef305c717e0a",
   "metadata": {},
   "outputs": [
    {
     "name": "stdout",
     "output_type": "stream",
     "text": [
      "20\n",
      "10\n"
     ]
    }
   ],
   "source": [
    "mylist = [10,20,30,20,50,10]\n",
    "\n",
    "mydict = {}\n",
    "\n",
    "for i in mylist:\n",
    "    if i not in mydict:\n",
    "        mydict[i] = None\n",
    "    else:\n",
    "        print(i)"
   ]
  },
  {
   "cell_type": "code",
   "execution_count": 42,
   "id": "411ece5e-a9b7-4b63-bdea-4c3eaf96a263",
   "metadata": {},
   "outputs": [
    {
     "name": "stdout",
     "output_type": "stream",
     "text": [
      "10\n",
      "20\n",
      "30\n",
      "20\n",
      "10\n",
      "30\n"
     ]
    }
   ],
   "source": [
    "mylist = [10,20,30,20,50,10,20,10,30,40,30]\n",
    "\n",
    "for i in range(len(mylist)):\n",
    "    for j in range(i+1,len(mylist)):\n",
    "        if mylist[i]==mylist[j]:\n",
    "            print(mylist[i])\n",
    "            break"
   ]
  },
  {
   "cell_type": "code",
   "execution_count": null,
   "id": "170b6ae1-d85e-4c37-b3ae-9f4f5887aef5",
   "metadata": {},
   "outputs": [],
   "source": []
  }
 ],
 "metadata": {
  "kernelspec": {
   "display_name": "Python 3 (ipykernel)",
   "language": "python",
   "name": "python3"
  },
  "language_info": {
   "codemirror_mode": {
    "name": "ipython",
    "version": 3
   },
   "file_extension": ".py",
   "mimetype": "text/x-python",
   "name": "python",
   "nbconvert_exporter": "python",
   "pygments_lexer": "ipython3",
   "version": "3.11.7"
  }
 },
 "nbformat": 4,
 "nbformat_minor": 5
}
