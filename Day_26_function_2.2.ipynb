{
 "cells": [
  {
   "cell_type": "code",
   "execution_count": 1,
   "id": "59277bc8-9918-4b6f-93e2-0a30d97ad785",
   "metadata": {},
   "outputs": [],
   "source": [
    "# type fisrt required aargument \n",
    "\n",
    "# 2: positional argument \n",
    "# 3.keyword argument \n",
    "# 4. Default argument "
   ]
  },
  {
   "cell_type": "code",
   "execution_count": 7,
   "id": "aa23d4c9-46fb-4ef1-b934-606229176285",
   "metadata": {},
   "outputs": [
    {
     "name": "stdout",
     "output_type": "stream",
     "text": [
      "Details are : 10 Deepak 19\n"
     ]
    }
   ],
   "source": [
    "# Requird and positional argument \n",
    "\n",
    "def fun(id,name,age):\n",
    "    print(\"Details are :\",id,name,age)\n",
    "\n",
    "\n",
    "fun(10,\"Deepak\",19)"
   ]
  },
  {
   "cell_type": "code",
   "execution_count": 6,
   "id": "d4af8411-dd3b-4a76-96cf-f78749a69bb1",
   "metadata": {},
   "outputs": [
    {
     "name": "stdout",
     "output_type": "stream",
     "text": [
      "Details are : 10 Deepak 19\n"
     ]
    }
   ],
   "source": [
    " # keyword Argument \n",
    "\n",
    "def fun(id,name,age):\n",
    "    print(\"Details are :\",id,name,age) \n",
    "\n",
    "\n",
    "fun(name= \"Deepak\",age=19,id = 10)"
   ]
  },
  {
   "cell_type": "code",
   "execution_count": 4,
   "id": "f21bf35e-ae54-4103-b941-da6621e817c9",
   "metadata": {},
   "outputs": [
    {
     "name": "stdout",
     "output_type": "stream",
     "text": [
      "Details are : 10 Deepak 20\n"
     ]
    }
   ],
   "source": [
    "# Default Argument \n",
    "\n",
    "def fun(id,name,age=20):\n",
    "    print(\"Details are :\",id,name,age)\n",
    "\n",
    "\n",
    "fun(10,\"Deepak\")"
   ]
  },
  {
   "cell_type": "code",
   "execution_count": 5,
   "id": "50c304d5-fa04-4247-85f1-09a555cb99cf",
   "metadata": {},
   "outputs": [
    {
     "name": "stdout",
     "output_type": "stream",
     "text": [
      "Details are : 10 Deepak 25\n"
     ]
    }
   ],
   "source": [
    "def fun(id,name,age=20):\n",
    "    print(\"Details are :\",id,name,age)\n",
    "\n",
    "\n",
    "fun(10,\"Deepak\",25)"
   ]
  },
  {
   "cell_type": "code",
   "execution_count": 8,
   "id": "e8d458e4-a8a5-4ef1-a8a8-e119ebfdc996",
   "metadata": {},
   "outputs": [
    {
     "name": "stdout",
     "output_type": "stream",
     "text": [
      "Details are : 10 Deepak 19\n"
     ]
    }
   ],
   "source": [
    " # keyword Argument \n",
    "\n",
    "def fun(id,name,age):\n",
    "    print(\"Details are :\",id,name,age) \n",
    "\n",
    "\n",
    "fun(name= \"Deepak\",age=19,id = 10)"
   ]
  },
  {
   "cell_type": "markdown",
   "id": "a52870fd-b1e1-4c20-9106-c3214d2b1180",
   "metadata": {},
   "source": [
    "# Variable length argument (args)"
   ]
  },
  {
   "cell_type": "code",
   "execution_count": 9,
   "id": "caa0b147-6a2f-4110-b949-efa51b8a970f",
   "metadata": {},
   "outputs": [
    {
     "name": "stdout",
     "output_type": "stream",
     "text": [
      "details are  (10, 20, 30, 'deepak', 50)\n"
     ]
    }
   ],
   "source": [
    "def fun(*x):\n",
    "    print(\"details are \",x)      # accept value in tuple format    args\n",
    "\n",
    "fun(10,20,30,\"deepak\",50)"
   ]
  },
  {
   "cell_type": "code",
   "execution_count": 14,
   "id": "efcc3587-307e-4dce-a638-54f6009d1f8e",
   "metadata": {},
   "outputs": [],
   "source": [
    "# def fun(*x):\n",
    "#     print(\"details are \",x)      # accept value in tuple format    args\n",
    "\n",
    "# fun(10,20,30,name=\"deepak\",50)"
   ]
  },
  {
   "cell_type": "markdown",
   "id": "ffecfd37-0edd-4f57-8bd2-93f1aafa9a16",
   "metadata": {},
   "source": [
    "# Keyword variable argument  (kwargs)"
   ]
  },
  {
   "cell_type": "code",
   "execution_count": 11,
   "id": "a8fb7c9a-2db2-4de5-b92c-d0d1b42f1769",
   "metadata": {},
   "outputs": [
    {
     "name": "stdout",
     "output_type": "stream",
     "text": [
      "Details are  {'id': 10, 'name': 'Ankit', 'salary': 35000}\n"
     ]
    }
   ],
   "source": [
    "# accept value in dictionary format        kwargs\n",
    "\n",
    "\n",
    "def fun(**x):\n",
    "    print(\"Details are \",x)\n",
    "\n",
    "\n",
    "fun(id= 10,name=\"Ankit\",salary = 35000)"
   ]
  },
  {
   "cell_type": "code",
   "execution_count": 12,
   "id": "c68d38f1-fb92-4de3-a934-31947869d7e2",
   "metadata": {},
   "outputs": [
    {
     "name": "stdout",
     "output_type": "stream",
     "text": [
      "Details are  {'id': 10, 'name': 'Ankit'}\n"
     ]
    }
   ],
   "source": [
    "def fun(**x):\n",
    "    print(\"Details are \",x)\n",
    "\n",
    "\n",
    "fun(id= 10,name=\"Ankit\")"
   ]
  },
  {
   "cell_type": "markdown",
   "id": "e8c52ec9-7e00-45c1-af58-3b25733e78da",
   "metadata": {},
   "source": [
    "0# Q : what is the diffrence between *args and **kwargs ?"
   ]
  },
  {
   "cell_type": "code",
   "execution_count": 19,
   "id": "6e018a9e-9d0b-45a9-8d00-d3151b1201fe",
   "metadata": {},
   "outputs": [
    {
     "name": "stdout",
     "output_type": "stream",
     "text": [
      "[[-1, 0, 1], [-1, 2, -1], [0, 1, -1]]\n"
     ]
    }
   ],
   "source": [
    "# 3 sum leet code #15\n",
    "\n",
    "nums = [-1,0,1,2,-1,-4]\n",
    "mylist  = []\n",
    "for i in range(0,len(nums)):\n",
    "    for j in range(i+1,len(nums)):\n",
    "        for k in range(j+1,len(nums)):\n",
    "            if(nums[i] + nums[j] + nums[k] == 0 and i!=j and i!=k and j!=k):\n",
    "                if([nums[i] ,nums[j],nums[k]] not in mylist):\n",
    "                    mylist.append([nums[i] ,nums[j],nums[k]])\n",
    "print(mylist)"
   ]
  },
  {
   "cell_type": "code",
   "execution_count": 39,
   "id": "2c46ea65-16d0-41f0-8b81-11b9dfd6108b",
   "metadata": {},
   "outputs": [
    {
     "name": "stdout",
     "output_type": "stream",
     "text": [
      "[-1, -1, 2]\n",
      "[-1, 0, 1]\n"
     ]
    }
   ],
   "source": [
    "# nums = [-1,0,1,2,-1,-4]\n",
    "nums = [-4,-1,-1,0,1,2]\n",
    "\n",
    "for i in range(0,len(nums)-2):\n",
    "    j = i+1\n",
    "    k = len(nums)-1\n",
    "    while(j<k):\n",
    "        if(nums[i] + nums[j] + nums[k] == 0):\n",
    "            # print(i,j,k)\n",
    "            print([nums[i],nums[j],nums[k]])\n",
    "            j+=1\n",
    "            break\n",
    "        elif((nums[i] + nums[j] + nums[k]>0)):\n",
    "            k-=1\n",
    "        else:\n",
    "            j+=1"
   ]
  },
  {
   "cell_type": "code",
   "execution_count": 29,
   "id": "bb02cf6c-3af2-4975-9368-bcbfc628f4c1",
   "metadata": {},
   "outputs": [
    {
     "name": "stdout",
     "output_type": "stream",
     "text": [
      "{(-1, 0, 1), (-1, -1, 2)}\n"
     ]
    }
   ],
   "source": [
    "# nums = [-1,0,1,2,-1,-4]\n",
    "\n",
    "nums = [-4,-1,-1,0,1,2]\n",
    "myset  = set()\n",
    "\n",
    "for i in range(0,len(nums)):\n",
    "    for j in range(i+1,len(nums)):\n",
    "        for k in range(j+1,len(nums)):\n",
    "            if(nums[i] + nums[j] + nums[k] == 0 and i!=j and i!=k and j!=k):\n",
    "                    # myset.add((nums[i] ,nums[j],nums[k]))\n",
    "                    myset.add((i ,j,k))\n",
    "\n",
    "\n",
    "print(myset)\n"
   ]
  },
  {
   "cell_type": "code",
   "execution_count": 41,
   "id": "e89fc5f0-3b89-484f-b46e-7fa7d2103db4",
   "metadata": {},
   "outputs": [
    {
     "name": "stdout",
     "output_type": "stream",
     "text": [
      "{(1, 3, 4), (2, 3, 4), (1, 2, 5)}\n"
     ]
    }
   ],
   "source": [
    "\n",
    "\n",
    "nums = [-4,-1,-1,0,1,2]\n",
    "myset  = set()\n",
    "\n",
    "for i in range(0,len(nums)):\n",
    "    for j in range(i+1,len(nums)):\n",
    "        for k in range(j+1,len(nums)):\n",
    "            if(nums[i] + nums[j] + nums[k] == 0 ):\n",
    "                    # myset.add((nums[i] ,nums[j],nums[k]))\n",
    "                    myset.add((i ,j,k))\n",
    "\n",
    "\n",
    "print(myset)\n"
   ]
  },
  {
   "cell_type": "code",
   "execution_count": null,
   "id": "a5dc770b-71e0-4b04-8381-e488892ce400",
   "metadata": {},
   "outputs": [],
   "source": []
  },
  {
   "cell_type": "code",
   "execution_count": null,
   "id": "34297d29-6bf0-4afc-b1ca-4253bd5e38b1",
   "metadata": {},
   "outputs": [],
   "source": [
    "\n"
   ]
  },
  {
   "cell_type": "code",
   "execution_count": null,
   "id": "48f26ed6-d94e-4329-97f8-6c89e0b4ccb7",
   "metadata": {},
   "outputs": [],
   "source": []
  }
 ],
 "metadata": {
  "kernelspec": {
   "display_name": "Python 3 (ipykernel)",
   "language": "python",
   "name": "python3"
  },
  "language_info": {
   "codemirror_mode": {
    "name": "ipython",
    "version": 3
   },
   "file_extension": ".py",
   "mimetype": "text/x-python",
   "name": "python",
   "nbconvert_exporter": "python",
   "pygments_lexer": "ipython3",
   "version": "3.12.4"
  }
 },
 "nbformat": 4,
 "nbformat_minor": 5
}
