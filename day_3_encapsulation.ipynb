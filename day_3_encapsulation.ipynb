{
 "cells": [
  {
   "cell_type": "markdown",
   "id": "dabb1346-d917-4677-84af-63903d90dcb4",
   "metadata": {},
   "source": [
    "# Bank Account"
   ]
  },
  {
   "cell_type": "code",
   "execution_count": 8,
   "id": "ebf7f2ea-c00e-4194-9722-ed5dd3d717cd",
   "metadata": {},
   "outputs": [
    {
     "name": "stdout",
     "output_type": "stream",
     "text": [
      "sam\n",
      "5000\n",
      "Deposit succesful! newbalance :6000\n",
      "Withdraw succesful! new balance :4000\n"
     ]
    }
   ],
   "source": [
    "class BankAccount:\n",
    "\n",
    "    def __init__(self, account_holder, balance):\n",
    "        self.__account_holder = account_holder\n",
    "        self.__balance = balance\n",
    "\n",
    "    def get_account_holder(self):\n",
    "        return self.__account_holder\n",
    "\n",
    "    def get_balance(self):\n",
    "        return self.__balance\n",
    "\n",
    "    def deposit(self, amount):\n",
    "        if amount > 0:\n",
    "            self.__balance += amount\n",
    "            return f\"Deposit succesful! newbalance :{self.__balance}\"\n",
    "        else:\n",
    "            return \"Invaild deposit amount!\"\n",
    "\n",
    "    def withdraw(self, amount):\n",
    "        if amount <= self.__balance:\n",
    "            self.__balance -= amount\n",
    "            return f\"Withdraw succesful! new balance :{self.__balance}\"\n",
    "        else:\n",
    "            return f\"Insufficient funds!\"\n",
    "\n",
    "account = BankAccount(\"sam\", 5000)\n",
    "print(account.get_account_holder())\n",
    "print(account.get_balance())\n",
    "print(account.deposit(1000))\n",
    "print(account.withdraw(2000))"
   ]
  },
  {
   "cell_type": "code",
   "execution_count": 10,
   "id": "8b7d7884-f174-4a2c-b1f2-afde32782347",
   "metadata": {},
   "outputs": [
    {
     "ename": "AttributeError",
     "evalue": "'BankAccount' object has no attribute 'self'",
     "output_type": "error",
     "traceback": [
      "\u001b[1;31m---------------------------------------------------------------------------\u001b[0m",
      "\u001b[1;31mAttributeError\u001b[0m                            Traceback (most recent call last)",
      "Cell \u001b[1;32mIn[10], line 2\u001b[0m\n\u001b[0;32m      1\u001b[0m \u001b[38;5;66;03m# Attemnt to access private attributes directly (not allowed)\u001b[39;00m\n\u001b[1;32m----> 2\u001b[0m \u001b[38;5;28mprint\u001b[39m(account\u001b[38;5;241m.\u001b[39mself\u001b[38;5;241m.\u001b[39m__balance)\n",
      "\u001b[1;31mAttributeError\u001b[0m: 'BankAccount' object has no attribute 'self'"
     ]
    }
   ],
   "source": [
    "# Attemnt to access private attributes directly (not allowed)\n",
    "print(account.self.__balance)"
   ]
  },
  {
   "cell_type": "code",
   "execution_count": null,
   "id": "30743c83-abd8-4b6e-a278-4ed94435152a",
   "metadata": {},
   "outputs": [],
   "source": []
  },
  {
   "cell_type": "markdown",
   "id": "fab6a3c7-7e2d-4468-98ff-8621522891c3",
   "metadata": {},
   "source": [
    "# task2: "
   ]
  },
  {
   "cell_type": "code",
   "execution_count": 12,
   "id": "66af50e2-d32a-4a9a-8425-c6523e8a5120",
   "metadata": {},
   "outputs": [
    {
     "name": "stdout",
     "output_type": "stream",
     "text": [
      "Rohit\n",
      "85\n",
      "Grade updated successfully!\n",
      "90\n",
      "Invaild grade! Must be between 0 to 100\n"
     ]
    }
   ],
   "source": [
    "class Student:\n",
    "\n",
    "    def __init__(self, name, grade):\n",
    "        self.name = name\n",
    "        self.__grade = grade\n",
    "\n",
    "    def get_grade(self):\n",
    "        return self.__grade\n",
    "\n",
    "    def set_grade(self, new_grade):\n",
    "        if 0 <= new_grade <= 100:\n",
    "            self.__grade = new_grade\n",
    "            return \"Grade updated successfully!\"\n",
    "        else:\n",
    "            return \"Invaild grade! Must be between 0 to 100\"\n",
    "\n",
    "student = Student(\"Rohit\", 85)\n",
    "print(student.name)\n",
    "print(student.get_grade())\n",
    "print(student.set_grade(90))\n",
    "print(student.get_grade())\n",
    "print(student.set_grade(150))"
   ]
  },
  {
   "cell_type": "markdown",
   "id": "ae153e0c-81f3-49dd-8847-2fdd4390bf24",
   "metadata": {},
   "source": [
    "# task3 : Healthcare system (patient Record management)\n",
    "\n",
    "problem : Develop a system for managing patient recorrd in a hospital where.\n",
    "\n",
    "patient details (name, age and medical history) should be private.\n",
    "\n",
    "only authorized methods can retrive or update medical history.\n",
    "\n",
    "provide a method to add new medical records while keeping previous data secure."
   ]
  },
  {
   "cell_type": "code",
   "execution_count": 17,
   "id": "af3ffc08-c755-4f77-b755-8b3a1ca102ac",
   "metadata": {},
   "outputs": [
    {
     "name": "stdout",
     "output_type": "stream",
     "text": [
      "Medical record added for rohit.\n",
      "Medical record added for rohit.\n",
      "Medical history for rohit : ['2024 : Flu Diagnosis', '2024 : Blood Test Results Normal'].\n"
     ]
    }
   ],
   "source": [
    "class Patient:\n",
    "    def __init__(self, name, age):\n",
    "        self.__name = name\n",
    "        self.__age = age\n",
    "        self.__medical_history = []\n",
    "\n",
    "    def add_medical_record(self, record):\n",
    "        self.__medical_history.append(record)\n",
    "        return f\"Medical record added for {self.__name}.\"\n",
    "\n",
    "    def get_medical_history(self):\n",
    "        return f\"Medical history for {self.__name} : {self.__medical_history}.\"\n",
    "\n",
    "patient1 = Patient(\"rohit\",30)\n",
    "print(patient1.add_medical_record(\"2024 : Flu Diagnosis\"))\n",
    "print(patient1.add_medical_record(\"2024 : Blood Test Results Normal\"))\n",
    "print(patient1.get_medical_history()) # Retrieve medical history"
   ]
  },
  {
   "cell_type": "markdown",
   "id": "7a0766d0-5a51-402a-9895-235df0abf060",
   "metadata": {},
   "source": [
    "# Case Study 2: Online Examination System\n",
    "Problem: Create a system for online examinations where:\n",
    "\n",
    "Student scores are private and cannot be accessed directly.\n",
    "\n",
    "Scores can only be added or retrieved using specific methods.\n",
    "\n",
    "Implement a feature to calculate the average score of the student."
   ]
  },
  {
   "cell_type": "code",
   "execution_count": 2,
   "id": "6bf0029a-738e-463d-9740-985c13b1985f",
   "metadata": {},
   "outputs": [],
   "source": [
    "class Examination:\n",
    "\n",
    "    def __init__(self, name):\n",
    "        self.name = name\n",
    "        self.__score = []\n",
    "\n",
    "    def add(self):\n",
    "        mark = int(input(\"Enter the marks :\"))\n",
    "        self.__score.append(mark)\n",
    "\n",
    "    def get_score(self):\n",
    "        print(f\"score of {self.name} is : {self.__score}\")\n",
    "\n",
    "    def cal_avg(self):\n",
    "        sum = 0\n",
    "        for i in self.__score:\n",
    "            sum = sum + i\n",
    "        avg = sum/len(self.__score)\n",
    "        print(f\"avgage of {self.name} is {avg}.\")\n",
    "std = Examination(\"khemraj\")"
   ]
  },
  {
   "cell_type": "code",
   "execution_count": 6,
   "id": "3bcc838d-8ab4-43f1-b6ef-13e36bc5fdd0",
   "metadata": {},
   "outputs": [
    {
     "name": "stdin",
     "output_type": "stream",
     "text": [
      "Enter the marks : 95\n"
     ]
    }
   ],
   "source": [
    "std.add()"
   ]
  },
  {
   "cell_type": "code",
   "execution_count": 7,
   "id": "a09e85f0-e151-4125-aed0-acca2852fce1",
   "metadata": {},
   "outputs": [
    {
     "name": "stdout",
     "output_type": "stream",
     "text": [
      "score of khemraj is : [34, 45, 56, 95]\n"
     ]
    }
   ],
   "source": [
    "std.get_score()"
   ]
  },
  {
   "cell_type": "code",
   "execution_count": 8,
   "id": "e620a6d0-7722-437b-9725-c19798b8ea2f",
   "metadata": {},
   "outputs": [
    {
     "name": "stdout",
     "output_type": "stream",
     "text": [
      "avgage of khemraj is 57.5.\n"
     ]
    }
   ],
   "source": [
    "std.cal_avg()"
   ]
  },
  {
   "cell_type": "code",
   "execution_count": null,
   "id": "2da326b6-6fc5-4b62-bbb3-0422fb9d217d",
   "metadata": {},
   "outputs": [],
   "source": []
  }
 ],
 "metadata": {
  "kernelspec": {
   "display_name": "Python 3 (ipykernel)",
   "language": "python",
   "name": "python3"
  },
  "language_info": {
   "codemirror_mode": {
    "name": "ipython",
    "version": 3
   },
   "file_extension": ".py",
   "mimetype": "text/x-python",
   "name": "python",
   "nbconvert_exporter": "python",
   "pygments_lexer": "ipython3",
   "version": "3.11.7"
  }
 },
 "nbformat": 4,
 "nbformat_minor": 5
}
