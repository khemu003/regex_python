{
 "cells": [
  {
   "cell_type": "markdown",
   "id": "95788008-d05d-4806-8630-349a4eafa9c1",
   "metadata": {},
   "source": [
    "# list"
   ]
  },
  {
   "cell_type": "code",
   "execution_count": 1,
   "id": "c516706e-e3bc-4746-8519-d15c7523eb83",
   "metadata": {},
   "outputs": [],
   "source": [
    "# list ===>\n",
    "# (1). Idenatification = []\n",
    "# (2). Mutable data types ===> we can change or update our value at a run time.\n",
    "# (3). Indexing start from 0 and length start from 1.\n",
    "# (4). This is a container in which we can store or assign the values."
   ]
  },
  {
   "cell_type": "code",
   "execution_count": 3,
   "id": "08f281e4-fedb-43f3-b7f3-18b55777cddd",
   "metadata": {},
   "outputs": [
    {
     "data": {
      "text/plain": [
       "list"
      ]
     },
     "execution_count": 3,
     "metadata": {},
     "output_type": "execute_result"
    }
   ],
   "source": [
    "a = [\"sum\", 45, \"Rahul\", 67,83]\n",
    "type(a)"
   ]
  },
  {
   "cell_type": "code",
   "execution_count": 4,
   "id": "c14af580-6297-497d-abc3-15b0cd4922c1",
   "metadata": {},
   "outputs": [
    {
     "name": "stdout",
     "output_type": "stream",
     "text": [
      "sum\n",
      "45\n",
      "Rahul\n",
      "67\n"
     ]
    }
   ],
   "source": [
    "# indexing\n",
    "print(a[0])\n",
    "print(a[1])\n",
    "print(a[2])\n",
    "print(a[3])"
   ]
  },
  {
   "cell_type": "code",
   "execution_count": 5,
   "id": "95805e96-6550-4210-be37-af0be9b9bed6",
   "metadata": {},
   "outputs": [
    {
     "name": "stdout",
     "output_type": "stream",
     "text": [
      "sum\n",
      "45\n",
      "Rahul\n",
      "67\n",
      "83\n"
     ]
    }
   ],
   "source": [
    "for i in range(len(a)):\n",
    "    print(a[i])"
   ]
  },
  {
   "cell_type": "code",
   "execution_count": 6,
   "id": "2948fa86-bffc-4f3e-8f4a-c5fb7621c9ac",
   "metadata": {},
   "outputs": [
    {
     "name": "stdout",
     "output_type": "stream",
     "text": [
      "['sum', 45, 'Rahul', 67, 83]\n"
     ]
    }
   ],
   "source": [
    "print(a)"
   ]
  },
  {
   "cell_type": "code",
   "execution_count": 7,
   "id": "20f20c82-8909-45d3-87ea-868e57a6b661",
   "metadata": {},
   "outputs": [
    {
     "name": "stdout",
     "output_type": "stream",
     "text": [
      "['sum', 45, 'mohit', 67, 83]\n"
     ]
    }
   ],
   "source": [
    "a[2] = \"mohit\"\n",
    "print(a)"
   ]
  },
  {
   "cell_type": "markdown",
   "id": "8e3b0372-8bee-42de-84d4-44e2ed1a2b42",
   "metadata": {},
   "source": [
    "### function in list"
   ]
  },
  {
   "cell_type": "code",
   "execution_count": 8,
   "id": "c62589d9-fa2a-42e0-8fcf-3bb719fca6ef",
   "metadata": {},
   "outputs": [
    {
     "name": "stdout",
     "output_type": "stream",
     "text": [
      "1\n"
     ]
    }
   ],
   "source": [
    "# (1). index()\n",
    "a = ['sum', 45, 'Rahul', 67, 83]\n",
    "print(a.index(45))"
   ]
  },
  {
   "cell_type": "code",
   "execution_count": 9,
   "id": "0b692657-296b-4b06-8717-f71b9c916cd3",
   "metadata": {},
   "outputs": [
    {
     "name": "stdout",
     "output_type": "stream",
     "text": [
      "5\n"
     ]
    }
   ],
   "source": [
    "# (2). len()\n",
    "a = ['sum', 45, 'Rahul', 67, 83]\n",
    "print(len(a))"
   ]
  },
  {
   "cell_type": "code",
   "execution_count": 10,
   "id": "1862459c-6cc0-40c2-b274-a36fa77288e7",
   "metadata": {},
   "outputs": [
    {
     "name": "stdout",
     "output_type": "stream",
     "text": [
      "['sum', 45, 'Rahul', 67, 83, 'khemu']\n"
     ]
    }
   ],
   "source": [
    "# (3). append() ===> it will add element in the last indexing of list.\n",
    "a = ['sum', 45, 'Rahul', 67, 83]\n",
    "a.append(\"khemu\")\n",
    "print(a)"
   ]
  },
  {
   "cell_type": "code",
   "execution_count": 11,
   "id": "f92915b6-6f75-4ea3-83d9-fa7c23c30f2b",
   "metadata": {},
   "outputs": [
    {
     "name": "stdout",
     "output_type": "stream",
     "text": [
      "['sum', 7000, 45, 'Rahul', 67, 83]\n"
     ]
    }
   ],
   "source": [
    "# (4). insert(index, odject) ===>\n",
    "a = ['sum', 45, 'Rahul', 67, 83]\n",
    "a.insert(1, 7000)\n",
    "print(a)"
   ]
  },
  {
   "cell_type": "code",
   "execution_count": 13,
   "id": "1486d601-3832-4416-b1d8-02b152ec1561",
   "metadata": {},
   "outputs": [
    {
     "name": "stdout",
     "output_type": "stream",
     "text": [
      "3\n"
     ]
    }
   ],
   "source": [
    "# (5). count()\n",
    "a = ['sum', 45, 'Rahul', 67,45, 83,45]\n",
    "print(a.count(45))"
   ]
  },
  {
   "cell_type": "code",
   "execution_count": null,
   "id": "4874cad8-d231-4e8d-90cf-99a6e81fa57a",
   "metadata": {},
   "outputs": [],
   "source": [
    "# (6). pop() ===> delete the element "
   ]
  },
  {
   "cell_type": "code",
   "execution_count": 16,
   "id": "6ccc72ec-c477-46e8-9532-37ff4ff1f1cc",
   "metadata": {},
   "outputs": [
    {
     "data": {
      "text/plain": [
       "['sam', 'Mohit', 67.34]"
      ]
     },
     "execution_count": 16,
     "metadata": {},
     "output_type": "execute_result"
    }
   ],
   "source": [
    "# remove() ===> it will remove the element\n",
    "a = ['sam', 45, 'Mohit', 67.34]\n",
    "a.remove(45)\n",
    "a"
   ]
  },
  {
   "cell_type": "markdown",
   "id": "c439a8d3-a0c9-45e0-8a71-b16487c23951",
   "metadata": {},
   "source": [
    "### How can we create a user defined List ?"
   ]
  },
  {
   "cell_type": "code",
   "execution_count": 18,
   "id": "1252d013-4d3e-4ce6-b03f-c3d4de456d75",
   "metadata": {},
   "outputs": [
    {
     "name": "stdin",
     "output_type": "stream",
     "text": [
      "Enter size: 4\n",
      "Enter item: 1\n",
      "Enter item: 2\n",
      "Enter item: 3\n",
      "Enter item: 4\n"
     ]
    },
    {
     "name": "stdout",
     "output_type": "stream",
     "text": [
      "[1, 2, 3, 4]\n"
     ]
    }
   ],
   "source": [
    "a = []\n",
    "size = int(input(\"Enter size:\"))\n",
    "for i in range(size):\n",
    "    val = int(input(\"Enter item:\"))\n",
    "    a.append(val)\n",
    "print (a)"
   ]
  },
  {
   "cell_type": "code",
   "execution_count": null,
   "id": "8289c8f0-1905-415f-af4d-6b3f8fcd7cf6",
   "metadata": {},
   "outputs": [],
   "source": [
    "a = []\n",
    "size = int(input(\"Enter size:\"))\n",
    "for i in range(size):\n",
    "    val = int(input(\"Enter item:\"))\n",
    "    a.append(val)\n",
    "print (a)\n"
   ]
  }
 ],
 "metadata": {
  "kernelspec": {
   "display_name": "Python 3 (ipykernel)",
   "language": "python",
   "name": "python3"
  },
  "language_info": {
   "codemirror_mode": {
    "name": "ipython",
    "version": 3
   },
   "file_extension": ".py",
   "mimetype": "text/x-python",
   "name": "python",
   "nbconvert_exporter": "python",
   "pygments_lexer": "ipython3",
   "version": "3.11.7"
  }
 },
 "nbformat": 4,
 "nbformat_minor": 5
}
