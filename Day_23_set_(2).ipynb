{
 "cells": [
  {
   "cell_type": "code",
   "execution_count": 3,
   "id": "0f236083-6669-4c18-aaa7-3980705cee84",
   "metadata": {},
   "outputs": [
    {
     "name": "stdout",
     "output_type": "stream",
     "text": [
      "10\n",
      "Deepak\n",
      "20\n"
     ]
    }
   ],
   "source": [
    "x,y,z = (10,\"Deepak\",20)\n",
    "\n",
    "print(x)\n",
    "print(y)\n",
    "print(z)"
   ]
  },
  {
   "cell_type": "code",
   "execution_count": 7,
   "id": "1a913d41-914c-4f66-980e-f5806e4e68bc",
   "metadata": {},
   "outputs": [],
   "source": [
    "# find duplicate"
   ]
  },
  {
   "cell_type": "markdown",
   "id": "dfaf1bb7-c68b-4a18-a3d1-f5c3bf88ae33",
   "metadata": {},
   "source": [
    "# SETS"
   ]
  },
  {
   "cell_type": "code",
   "execution_count": 8,
   "id": "a20ec2ea-b18e-4d3c-b4be-e67aa4220c1c",
   "metadata": {},
   "outputs": [],
   "source": [
    "# set is a mmutable but set element are immutable \n",
    "# "
   ]
  },
  {
   "cell_type": "code",
   "execution_count": 5,
   "id": "625867fa-c2a8-4bf1-b3ce-d48626b21d22",
   "metadata": {},
   "outputs": [
    {
     "name": "stdout",
     "output_type": "stream",
     "text": [
      "{1, 2, 3, 4, 5, 6, 9, 43, 55}\n",
      "<class 'set'>\n"
     ]
    }
   ],
   "source": [
    "myset  = set({})\n",
    "\n",
    "myset = {1,2,3,4,6,55,43,2,3,5,9}\n",
    "\n",
    "print(myset)\n",
    "print(type(myset))\n"
   ]
  },
  {
   "cell_type": "code",
   "execution_count": 9,
   "id": "c3c98fd4-7aed-4ad9-8b42-2859ebb1d439",
   "metadata": {},
   "outputs": [
    {
     "name": "stdout",
     "output_type": "stream",
     "text": [
      "{1, 2, 3, 4, 5, 6, 100, 9, 43, 55}\n"
     ]
    }
   ],
   "source": [
    "myset.add(100) # add value \n",
    "\n",
    "print(myset)\n"
   ]
  },
  {
   "cell_type": "code",
   "execution_count": 10,
   "id": "e060e213-9833-4633-bb26-861a3333201f",
   "metadata": {},
   "outputs": [],
   "source": [
    "# update() = > add multiple item "
   ]
  },
  {
   "cell_type": "code",
   "execution_count": 11,
   "id": "56bc20a1-b37e-4728-8022-ef3224627e78",
   "metadata": {},
   "outputs": [
    {
     "name": "stdout",
     "output_type": "stream",
     "text": [
      "{1, 2, 3, 4, 5, 6, 100, 'y', 9, 43, 55, 'e', 'h'}\n"
     ]
    }
   ],
   "source": [
    "myset.update(\"hey\")      \n",
    "print(myset)"
   ]
  },
  {
   "cell_type": "code",
   "execution_count": 13,
   "id": "78cbf49d-d6d3-41e3-b6d4-fb0d2a1482a5",
   "metadata": {},
   "outputs": [
    {
     "name": "stdout",
     "output_type": "stream",
     "text": [
      "{1, 2, 3, 4, 5, 6, 100, 'y', 9, 'Hello', 43, 1000, 55, 'e', 'h'}\n"
     ]
    }
   ],
   "source": [
    "myset.update([\"Hello\",1000])         # accept iterabels \n",
    "\n",
    "print(myset)\n",
    "              \n"
   ]
  },
  {
   "cell_type": "code",
   "execution_count": 14,
   "id": "a73391ae-cae6-4210-9cd7-f2e1c1150b04",
   "metadata": {},
   "outputs": [
    {
     "name": "stdout",
     "output_type": "stream",
     "text": [
      "{1, 2, 3, 4, 5, 6, 100, 'y', 9, 'Hello', 43, 1000, 55, 'e', 'h'}\n"
     ]
    }
   ],
   "source": [
    "myset.update(\"hey\")\n",
    "print(myset)"
   ]
  },
  {
   "cell_type": "code",
   "execution_count": 15,
   "id": "4061b874-399e-49d6-a868-4866c928cbbb",
   "metadata": {},
   "outputs": [],
   "source": [
    "# remove => error deta h \n",
    "# discard => error nhi deta h \n"
   ]
  },
  {
   "cell_type": "markdown",
   "id": "c3f41407-d8a2-467d-bc11-5275220382e0",
   "metadata": {},
   "source": [
    "# Learn"
   ]
  },
  {
   "cell_type": "code",
   "execution_count": 16,
   "id": "1a1ff3cf-d20a-4034-9590-3a1e330fdebb",
   "metadata": {},
   "outputs": [],
   "source": [
    "#  LEARN\n",
    "# diffrence method implement \n",
    "# intersection update \n",
    "# issuper set \n",
    "# symatric diffrence "
   ]
  },
  {
   "cell_type": "code",
   "execution_count": 20,
   "id": "73ced5a4-469f-46c9-8822-226f7adcc572",
   "metadata": {},
   "outputs": [
    {
     "name": "stdout",
     "output_type": "stream",
     "text": [
      "{'a': 3, 'n': 1, 'g': 1, 'r': 1, 'm': 1}\n",
      "{'g': 1, 'r': 1, 'a': 3, 'm': 1, 'n': 1}\n",
      "Anagram\n"
     ]
    }
   ],
   "source": [
    "# valid anagram\n",
    "\n",
    "a=  \"anagram\"\n",
    "b =\"gramana\"\n",
    "\n",
    "dicta = {}\n",
    "dictb = {}\n",
    "\n",
    "for i in a:\n",
    "    if i not in dicta:\n",
    "        dicta[i] = 1\n",
    "    else:\n",
    "        dicta[i] = dicta[i] +1\n",
    "\n",
    "for i in b:\n",
    "    if i not in dictb:\n",
    "        dictb[i] = 1\n",
    "    else:\n",
    "        dictb[i] = dictb[i] +1\n",
    "\n",
    "print(dicta)\n",
    "print(dictb)\n",
    "\n",
    "if(dicta==dictb):\n",
    "    print(\"Anagram\")\n",
    "else:\n",
    "    print(\"Not anagram\")\n"
   ]
  },
  {
   "cell_type": "markdown",
   "id": "ec825fe6-8ba6-4247-aee5-df67c98c6051",
   "metadata": {},
   "source": [
    "# ISOMORPHIC LEET CODE"
   ]
  },
  {
   "cell_type": "code",
   "execution_count": 1,
   "id": "21089909-6eeb-4f1b-ac58-1148c7c84f6f",
   "metadata": {},
   "outputs": [
    {
     "name": "stdout",
     "output_type": "stream",
     "text": [
      "{'p': 'z', 'e': 'i'}\n",
      "Isomorphic\n"
     ]
    }
   ],
   "source": [
    "s = \"pep\" \n",
    "y= \"ziz\"\n",
    "\n",
    "s_dict = {}\n",
    "y_dict = {}\n",
    "\n",
    "x = 0\n",
    "\n",
    "if(len(s)==len(y)):\n",
    "    for i in range(0,len(s)):\n",
    "\n",
    "\n",
    "        if( s[i] in s_dict and s_dict[s[i]] != y[i] ):\n",
    "            x = 1\n",
    "            break\n",
    "        \n",
    "        s_dict[ s[i] ] =  y[i]\n",
    "        # y_dict[[y[i]] = s[i]\n",
    "\n",
    "else:\n",
    "    x = 1\n",
    "    \n",
    "\n",
    "print(s_dict)\n",
    "\n",
    "if(x==0):\n",
    "    print(\"Isomorphic\")\n",
    "else:\n",
    "    print(\"Not\")\n",
    "\n",
    "\n",
    "\n",
    "        "
   ]
  },
  {
   "cell_type": "code",
   "execution_count": 1,
   "id": "48fc21fb-72c1-42f2-9aff-0a89502cda39",
   "metadata": {},
   "outputs": [],
   "source": [
    "#  LEARN\n",
    "# diffrence method implement \n",
    "# intersection update \n",
    "# issuper set \n",
    "# symatric diffrence "
   ]
  },
  {
   "cell_type": "code",
   "execution_count": 2,
   "id": "c06c578c-9abc-4f8c-a0ab-8ccec52d6c42",
   "metadata": {},
   "outputs": [
    {
     "name": "stdout",
     "output_type": "stream",
     "text": [
      "{89, 787, 23}\n",
      "{89, 787, 23}\n",
      "{34, 787, 23, 56, 89, 12, 45}\n",
      "{787, 23, 89}\n",
      "{56, 34, 12, 45}\n"
     ]
    }
   ],
   "source": [
    "a={12,34,45,56,23,787,89}\n",
    "b={12,34,45,56}\n",
    "print(a-b)\n",
    "print(a.difference(b))            #diffrenceate : means  Elements that present in set  a not in  set b \n",
    "\n",
    "print(a)\n",
    "# print(b)\n",
    "a.difference_update(b)\n",
    "print(a)\n",
    "print(b)"
   ]
  },
  {
   "cell_type": "code",
   "execution_count": 5,
   "id": "49fab782-79f7-4207-bf46-7e32a200fab5",
   "metadata": {},
   "outputs": [
    {
     "name": "stdout",
     "output_type": "stream",
     "text": [
      "{56, 34, 12, 45}\n",
      "{56, 34, 12, 45}\n",
      "{56, 34, 12, 45}\n",
      "{34, 12, 45, 787, 56, 89}\n"
     ]
    }
   ],
   "source": [
    "a={12,34,45,56,23}\n",
    "b={12,34,45,56,787,89}\n",
    "print(a.intersection(b))\n",
    "a.intersection_update(b)\n",
    "print(a)\n",
    "print(a&b )          #  & => intersection \n",
    "\n",
    "print(a|b)       # | =>union"
   ]
  },
  {
   "cell_type": "code",
   "execution_count": 9,
   "id": "668b3ff4-33be-458e-a771-2c9298a6e725",
   "metadata": {},
   "outputs": [
    {
     "name": "stdout",
     "output_type": "stream",
     "text": [
      "True\n",
      "False\n"
     ]
    }
   ],
   "source": [
    "a={12,45,34}\n",
    "b={12,45}\n",
    "print(a.issuperset(b))\n",
    "print(a.issubset(b))\n"
   ]
  },
  {
   "cell_type": "code",
   "execution_count": 21,
   "id": "099f0bd4-dc16-4664-9879-8c92637ddf57",
   "metadata": {},
   "outputs": [
    {
     "name": "stdout",
     "output_type": "stream",
     "text": [
      "{34, 22}\n"
     ]
    }
   ],
   "source": [
    "a={12,45,22}\n",
    "b={12,45,34}\n",
    "print(a.symmetric_difference(b))"
   ]
  },
  {
   "cell_type": "code",
   "execution_count": null,
   "id": "d9ad0311-915d-46a0-97e3-94d30bc2723a",
   "metadata": {},
   "outputs": [],
   "source": []
  }
 ],
 "metadata": {
  "kernelspec": {
   "display_name": "Python 3 (ipykernel)",
   "language": "python",
   "name": "python3"
  },
  "language_info": {
   "codemirror_mode": {
    "name": "ipython",
    "version": 3
   },
   "file_extension": ".py",
   "mimetype": "text/x-python",
   "name": "python",
   "nbconvert_exporter": "python",
   "pygments_lexer": "ipython3",
   "version": "3.12.4"
  }
 },
 "nbformat": 4,
 "nbformat_minor": 5
}
