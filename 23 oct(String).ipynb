{
 "cells": [
  {
   "cell_type": "markdown",
   "id": "5606ddfb-f0fe-451e-b722-21cf52cacfbf",
   "metadata": {},
   "source": [
    "# String"
   ]
  },
  {
   "cell_type": "markdown",
   "id": "9b8bc3b2-510b-49f2-b200-5b0cdd61cce9",
   "metadata": {},
   "source": [
    "### Step - 1 : Creating a string\n",
    "\n",
    "you can create a Srting by enclosing text in single quote '' ,double quoto \"\", triple quoto \"\"\""
   ]
  },
  {
   "cell_type": "code",
   "execution_count": 1,
   "id": "0f896eb6-9427-4d20-9f51-4af10f64ee13",
   "metadata": {},
   "outputs": [
    {
     "name": "stdout",
     "output_type": "stream",
     "text": [
      "hello, world!\n",
      "Hello, world!\n",
      "this is a \n",
      "multiple line String\n"
     ]
    }
   ],
   "source": [
    "# single-line\n",
    "a = 'hello, world!'\n",
    "b = \"Hello, world!\"\n",
    "\n",
    "# multi-line string\n",
    "c = \"\"\"this is a \n",
    "multiple line String\"\"\"\n",
    "\n",
    "print(a)\n",
    "print(b)\n",
    "print(c)"
   ]
  },
  {
   "cell_type": "markdown",
   "id": "3a329e0e-07ff-4ce4-9c0e-2d821a7d3289",
   "metadata": {},
   "source": [
    "### Step- 2 Accessing character in string"
   ]
  },
  {
   "cell_type": "code",
   "execution_count": 2,
   "id": "6dba6c82-eed6-4378-a0fc-87e15585cc90",
   "metadata": {},
   "outputs": [
    {
     "name": "stdout",
     "output_type": "stream",
     "text": [
      "P\n",
      "t\n",
      "o\n"
     ]
    }
   ],
   "source": [
    "my_string = \"Python\"\n",
    "print(my_string[0])\n",
    "print(my_string[2])\n",
    "print(my_string[4])"
   ]
  },
  {
   "cell_type": "markdown",
   "id": "848f5a29-e04e-4e20-8701-ed33d64bb3a3",
   "metadata": {},
   "source": [
    "### Step - 3 String Slicing"
   ]
  },
  {
   "cell_type": "code",
   "execution_count": 3,
   "id": "d6d816a4-fd83-4668-b195-168f83267011",
   "metadata": {},
   "outputs": [
    {
     "name": "stdout",
     "output_type": "stream",
     "text": [
      "Python\n",
      "programming\n",
      "Python\n"
     ]
    }
   ],
   "source": [
    "my_string = \"Python programming\"\n",
    "print(my_string[0:6])\n",
    "print(my_string[7:])\n",
    "print(my_string[:6])"
   ]
  },
  {
   "cell_type": "markdown",
   "id": "4d109700-fc5c-4b82-81a5-1f64330bb616",
   "metadata": {},
   "source": [
    "### Step - 4 String Concatenation and Repetition"
   ]
  },
  {
   "cell_type": "code",
   "execution_count": 4,
   "id": "c86fde6c-4fe1-45c8-9ac6-99022e70c008",
   "metadata": {},
   "outputs": [
    {
     "name": "stdout",
     "output_type": "stream",
     "text": [
      "hello world\n"
     ]
    }
   ],
   "source": [
    "string1 = \"hello\"\n",
    "string2 = \"world\"\n",
    "concatenates = string1 + \" \" + string2\n",
    "print(concatenates)"
   ]
  },
  {
   "cell_type": "markdown",
   "id": "85e7dcfe-5fbd-4ca7-a7a8-c22dfcaf24b4",
   "metadata": {},
   "source": [
    "### Step - 5 : Checking methods"
   ]
  },
  {
   "cell_type": "code",
   "execution_count": 5,
   "id": "86c06e05-3e42-4653-a6c3-17c57645665f",
   "metadata": {},
   "outputs": [
    {
     "name": "stdout",
     "output_type": "stream",
     "text": [
      "True\n",
      "False\n"
     ]
    }
   ],
   "source": [
    "my_string = \"Python programming\"\n",
    "print(\"Python\" in my_string)\n",
    "print(\"java\" in my_string)"
   ]
  },
  {
   "cell_type": "markdown",
   "id": "c8397a1e-ba4a-42d4-a96c-15bd117519bb",
   "metadata": {},
   "source": [
    "## Step - 6: String Methods"
   ]
  },
  {
   "cell_type": "code",
   "execution_count": 6,
   "id": "02f0c1b4-24e9-4ab9-8bb5-64f9ccaa7d26",
   "metadata": {},
   "outputs": [
    {
     "name": "stdout",
     "output_type": "stream",
     "text": [
      "hello\n",
      "HELLO\n"
     ]
    }
   ],
   "source": [
    "# (1). lower() and upper()\n",
    "text = \"Hello\"\n",
    "print(text.lower())\n",
    "print(text.upper())"
   ]
  },
  {
   "cell_type": "code",
   "execution_count": 7,
   "id": "1eb2f164-0c7e-45ac-ae83-2fa660e4f530",
   "metadata": {},
   "outputs": [
    {
     "name": "stdout",
     "output_type": "stream",
     "text": [
      "hello, world\n"
     ]
    }
   ],
   "source": [
    "# (2). Strip() :remove whitespace from both ends of a string\n",
    "text = \"   hello, world   \"\n",
    "print(text.strip())"
   ]
  },
  {
   "cell_type": "code",
   "execution_count": 8,
   "id": "827c0d23-064a-4a0e-8489-81925200bcba",
   "metadata": {},
   "outputs": [
    {
     "name": "stdout",
     "output_type": "stream",
     "text": [
      "I love coding\n"
     ]
    }
   ],
   "source": [
    "# (3). replace() : Replace a substring with another string\n",
    "text = \"I love python\"\n",
    "print(text.replace(\"python\", \"coding\"))"
   ]
  },
  {
   "cell_type": "code",
   "execution_count": 9,
   "id": "3a1eb593-59eb-4e84-8e22-95b33f564958",
   "metadata": {},
   "outputs": [
    {
     "name": "stdout",
     "output_type": "stream",
     "text": [
      "['apple', 'banana', 'cherry']\n"
     ]
    }
   ],
   "source": [
    "# (4). split() : Splits a string l=into a list.\n",
    "text = \"apple, banana, cherry\"\n",
    "print(text.split(\", \"))"
   ]
  },
  {
   "cell_type": "code",
   "execution_count": 10,
   "id": "8ac8d8f4-bb21-4dd3-9186-6cce8e75e194",
   "metadata": {},
   "outputs": [
    {
     "name": "stdout",
     "output_type": "stream",
     "text": [
      "apple, banana, cherry\n"
     ]
    }
   ],
   "source": [
    "# (5) : join() : joins elements of a list into a single string.\n",
    "fruits = ['apple', 'banana', 'cherry']\n",
    "print(\", \".join(fruits))"
   ]
  },
  {
   "cell_type": "code",
   "execution_count": null,
   "id": "08600bdf-8841-4cec-9a8a-9b1d4bdb9d57",
   "metadata": {},
   "outputs": [],
   "source": []
  },
  {
   "cell_type": "code",
   "execution_count": 11,
   "id": "dbf53fd1-11e3-4583-8886-5ae537d5b605",
   "metadata": {},
   "outputs": [
    {
     "name": "stdout",
     "output_type": "stream",
     "text": [
      "My name is sam and I am 25 years old.\n",
      "My name is sam and I am 25 years old.\n"
     ]
    }
   ],
   "source": [
    "# step - 7 : String Formatting\n",
    "name = \"sam\"\n",
    "age = \"25\"\n",
    "\n",
    "print(f\"My name is {name} and I am {age} years old.\")\n",
    "\n",
    "print(\"My name is {} and I am {} years old.\".format(name, age))"
   ]
  },
  {
   "cell_type": "code",
   "execution_count": 12,
   "id": "279156e8-bbb0-4b1c-b8c9-51c2387895d2",
   "metadata": {},
   "outputs": [
    {
     "name": "stdout",
     "output_type": "stream",
     "text": [
      "she said, \"hello!\"\n",
      "she said, \"hello!\"\n"
     ]
    }
   ],
   "source": [
    "# step - 8 Escaping Specical charaters\n",
    "quote = 'she said, \"hello!\"'\n",
    "escaped_quote = 'she said, \\\"hello!\\\"'\n",
    "print(quote)\n",
    "print(escaped_quote)"
   ]
  },
  {
   "cell_type": "markdown",
   "id": "69c226ad-637a-4249-a0bf-0eeb98f3bf6e",
   "metadata": {},
   "source": [
    "### Step - 9 Multiline String with Triple Quotes"
   ]
  },
  {
   "cell_type": "code",
   "execution_count": 13,
   "id": "0bba25b9-0df5-4e23-837d-0793e34256e8",
   "metadata": {},
   "outputs": [
    {
     "name": "stdout",
     "output_type": "stream",
     "text": [
      "this is a string\n",
      "that spans multiple\n",
      "lines\n"
     ]
    }
   ],
   "source": [
    "multi_line = \"\"\"this is a string\n",
    "that spans multiple\n",
    "lines\"\"\"\n",
    "print(multi_line)"
   ]
  },
  {
   "cell_type": "code",
   "execution_count": null,
   "id": "2f1e46a4-6ac5-4351-8bac-8d248134374b",
   "metadata": {},
   "outputs": [],
   "source": []
  },
  {
   "cell_type": "markdown",
   "id": "859c7af0-d32e-4e6e-a6ee-a7259202a3b0",
   "metadata": {},
   "source": [
    "### step - 11 :Slicing operater"
   ]
  },
  {
   "cell_type": "code",
   "execution_count": 14,
   "id": "9121bfbb-cd97-433c-98d1-3607de617531",
   "metadata": {},
   "outputs": [
    {
     "name": "stdout",
     "output_type": "stream",
     "text": [
      "Python\n",
      "programming\n",
      "Python\n"
     ]
    }
   ],
   "source": [
    "my_string = \"Python programming\"\n",
    "# slicing to get substring\n",
    "substring1 = my_string[0:6]\n",
    "substring2 = my_string[7:]\n",
    "substring3 = my_string[:6]\n",
    "print(substring1)\n",
    "print(substring2)\n",
    "print(substring3)"
   ]
  },
  {
   "cell_type": "code",
   "execution_count": null,
   "id": "10acfadf-4c04-4fea-a12f-25451e135321",
   "metadata": {},
   "outputs": [],
   "source": []
  },
  {
   "cell_type": "code",
   "execution_count": 15,
   "id": "c05c56c9-1ad1-400f-8cb7-75533d529f50",
   "metadata": {},
   "outputs": [],
   "source": [
    "# Q.1 Given a string s = \"hello\", how would you reverse it using slicing?\n",
    "# Q.2 Given the string s = \"programming\", how would you extract the substring\n",
    "# \"gram\"?\n",
    "# Q.3 How would you count how many times the letter 'a' appears in \n",
    "# the string s = \"banana\"?\n",
    "# Q.4 Convert the string s = \"hello world\" to all uppercase letters.\n",
    "# Q.5 Check whether the string s = \"hello world\" starts with \"hello\".\n",
    "# Q.6 How would you find the first occurrence of the letter 'o' in the \n",
    "# string s = \"hello world\"?\n",
    "# Q.7  Split the string s = \"apple, banana, cherry\" into a list of \n",
    "# individual fruits.\n",
    "# Q.8  Given the string s = \"abc123\", how would you check if the \n",
    "# string contains only letters and numbers?\n",
    "# Q.9  How would you remove all leading and trailing whitespaces \n",
    "# from the string s = \" hello \"?\n",
    "# Q.10 Join the list [\"Python\", \"is\", \"fun\"] into a single string \n",
    "# with spaces separating the words."
   ]
  },
  {
   "cell_type": "code",
   "execution_count": 16,
   "id": "bc87980f-88a0-4167-8a81-5677ee222b62",
   "metadata": {},
   "outputs": [
    {
     "name": "stdout",
     "output_type": "stream",
     "text": [
      "olleh\n"
     ]
    }
   ],
   "source": [
    "# 1.\n",
    "s = \"hello\"\n",
    "print(s[::-1])"
   ]
  },
  {
   "cell_type": "code",
   "execution_count": 17,
   "id": "8ce64c74-ecfe-444b-aea0-9177da5fc8bd",
   "metadata": {},
   "outputs": [
    {
     "name": "stdout",
     "output_type": "stream",
     "text": [
      "gram\n"
     ]
    }
   ],
   "source": [
    "# 2.\n",
    "s = \"programming\"\n",
    "print(s[3:7])"
   ]
  },
  {
   "cell_type": "code",
   "execution_count": 18,
   "id": "14995b01-aba0-4f64-bac3-aee1fc566611",
   "metadata": {},
   "outputs": [
    {
     "name": "stdout",
     "output_type": "stream",
     "text": [
      "a in s :  3\n"
     ]
    }
   ],
   "source": [
    "s = \"banana\"\n",
    "count = 0\n",
    "for i in s:\n",
    "    if ('a' in i):\n",
    "        count = count+1\n",
    "print(\"a in s : \",count)"
   ]
  },
  {
   "cell_type": "code",
   "execution_count": 19,
   "id": "fddae1c5-cb36-4395-b5d2-63bf992cc67e",
   "metadata": {},
   "outputs": [
    {
     "name": "stdout",
     "output_type": "stream",
     "text": [
      "HELLO WORLD\n"
     ]
    }
   ],
   "source": [
    "# 4.\n",
    "s = \"hello world\"\n",
    "print(s.upper())"
   ]
  },
  {
   "cell_type": "code",
   "execution_count": 20,
   "id": "b828a68d-96a3-4f5c-9243-373f9a6c0ea3",
   "metadata": {},
   "outputs": [
    {
     "name": "stdout",
     "output_type": "stream",
     "text": [
      "yes\n"
     ]
    },
    {
     "data": {
      "text/plain": [
       "True"
      ]
     },
     "execution_count": 20,
     "metadata": {},
     "output_type": "execute_result"
    }
   ],
   "source": [
    "# 5.\n",
    "s  = \"hello world\"\n",
    "if(s[0:5] == \"hello\"):\n",
    "    print(\"yes\")\n",
    "else:\n",
    "    print(\"no\")\n",
    "\n",
    "s.startswith(\"hello\")"
   ]
  },
  {
   "cell_type": "code",
   "execution_count": 21,
   "id": "b3d2f626-5649-4551-8962-344fbbb6d6d0",
   "metadata": {},
   "outputs": [
    {
     "name": "stdout",
     "output_type": "stream",
     "text": [
      "'o' in 4 index in s string.\n"
     ]
    }
   ],
   "source": [
    "s = \"hello world\"\n",
    "count = 0\n",
    "for i in s:\n",
    "    if(i=='o'):\n",
    "        break\n",
    "    count = count + 1\n",
    "print(f\"'o' in {count} index in s string.\")"
   ]
  },
  {
   "cell_type": "code",
   "execution_count": 22,
   "id": "a86bd38b-7b78-4aed-a4b0-57d17e2ed69a",
   "metadata": {},
   "outputs": [
    {
     "name": "stdout",
     "output_type": "stream",
     "text": [
      "['apple', 'banana', 'cherry']\n"
     ]
    }
   ],
   "source": [
    "s = \"apple, banana, cherry\"\n",
    "print(s.split(\", \"))"
   ]
  },
  {
   "cell_type": "code",
   "execution_count": 23,
   "id": "94c0a1ed-7fea-480f-81da-d9908e504a77",
   "metadata": {},
   "outputs": [
    {
     "name": "stdout",
     "output_type": "stream",
     "text": [
      "string s also contain number.\n"
     ]
    }
   ],
   "source": [
    "s = \"abc123\"\n",
    "bool = s.isalpha()\n",
    "if bool==True:\n",
    "    print(\"string s only contain letters\")\n",
    "else:\n",
    "    print(\"string s also contain number.\")"
   ]
  },
  {
   "cell_type": "code",
   "execution_count": 24,
   "id": "fb326a20-cabe-417c-b07c-a157d01d1693",
   "metadata": {},
   "outputs": [
    {
     "name": "stdout",
     "output_type": "stream",
     "text": [
      "hello\n"
     ]
    }
   ],
   "source": [
    "s = \" hello \"\n",
    "print(s.strip())"
   ]
  },
  {
   "cell_type": "code",
   "execution_count": 25,
   "id": "71e814c8-ae7b-467a-988f-8b3ae72d7f0e",
   "metadata": {},
   "outputs": [
    {
     "name": "stdout",
     "output_type": "stream",
     "text": [
      "Python, is, fun\n"
     ]
    }
   ],
   "source": [
    "s = [\"Python\", \"is\", \"fun\"]\n",
    "print(\", \".join(s))"
   ]
  },
  {
   "cell_type": "code",
   "execution_count": 26,
   "id": "9af35cf5-d8fb-410e-80b8-89fdeaf56ba8",
   "metadata": {},
   "outputs": [],
   "source": [
    "# Q.11 Given the string s = \"Python is awesome and fun\", \n",
    "# find the length of the longest word.\n",
    "# Q.12 Replace all occurrences of \"apple\" with \"orange\" in the\n",
    "# string s = \"apple pie and apple juice\".\n",
    "# Q.13 How would you check if the strings s1 = \"Hello\" and \n",
    "# s2 = \"hello\" are equal, ignoring case?\n",
    "# Q.14 From the string s = \"abcdefgh\", \n",
    "# extract every second character (i.e., \"bdfh\").\n",
    "# Q.15 Given the string s = \"12345\", how would you check if it \n",
    "# contains only numeric digits?\n",
    "# Q.16 Convert the string s = \"python is fun\" so that the \n",
    "# first letter of each word is capitalized.\n",
    "# Q.17 Given the string s = \"hello world\", how would you remove all the vowels?\n",
    "# Q.18 Check if the substring \"fun\" exists in the string s = \"Python is fun\".\n",
    "# Q.19 Given the string s = \"hello\", identify all the unique characters in the string.\n",
    "# Q.20 How would you count how many words are in the sentence s = \"Python is a powerful language\"?"
   ]
  },
  {
   "cell_type": "code",
   "execution_count": 28,
   "id": "96813185-1099-4e0c-befb-caec6321c8d8",
   "metadata": {},
   "outputs": [
    {
     "name": "stdout",
     "output_type": "stream",
     "text": [
      "['Python', 'is', 'awesome', 'and', 'fun']\n",
      "7\n"
     ]
    }
   ],
   "source": [
    "s = \"Python is awesome and fun\"\n",
    "s_list = s.split()\n",
    "print(s_list)\n",
    "s_list_size = []\n",
    "for i in s_list:\n",
    "    count = 0\n",
    "    for j in i:\n",
    "        count = count + 1\n",
    "        s_list_size.append(count)\n",
    "print(max(s_list_size))"
   ]
  },
  {
   "cell_type": "code",
   "execution_count": 31,
   "id": "8981e39f-a9d9-4424-aa0b-c884a5674820",
   "metadata": {},
   "outputs": [
    {
     "name": "stdout",
     "output_type": "stream",
     "text": [
      "orange pie and orange juice\n"
     ]
    }
   ],
   "source": [
    "s = \"apple pie and apple juice\"\n",
    "new_s = s.replace(\"apple\", \"orange\")\n",
    "print(new_s)"
   ]
  },
  {
   "cell_type": "code",
   "execution_count": 34,
   "id": "2af65890-4b83-4a63-9e48-0bd4228b2012",
   "metadata": {},
   "outputs": [
    {
     "name": "stdout",
     "output_type": "stream",
     "text": [
      "s1 is equal to s2\n"
     ]
    }
   ],
   "source": [
    "s1 = \"HellO\"\n",
    "s2 = \"hello\"\n",
    "\n",
    "new_s1 = s1.upper()\n",
    "new_s2 = s2.upper()\n",
    "\n",
    "if (new_s1==new_s2):\n",
    "    print(\"s1 is equal to s2\")\n",
    "else:\n",
    "    print(\"s1 is not equal to s2\")"
   ]
  },
  {
   "cell_type": "code",
   "execution_count": 35,
   "id": "3a018702-6ea5-4c30-98d8-9bb1eb25f8d0",
   "metadata": {},
   "outputs": [],
   "source": [
    "s = \"abcdefgh\"\n"
   ]
  },
  {
   "cell_type": "code",
   "execution_count": 38,
   "id": "19c02eeb-153b-4771-b5ea-cd4e06a1ba29",
   "metadata": {},
   "outputs": [
    {
     "name": "stdout",
     "output_type": "stream",
     "text": [
      "s is only digit\n"
     ]
    }
   ],
   "source": [
    "s = \"12345\"\n",
    "s_digit = s.isdigit()\n",
    "\n",
    "if s_digit == True:\n",
    "    print(\"s is only digit\")\n",
    "else:\n",
    "    print(\"s is not only digit\")"
   ]
  },
  {
   "cell_type": "code",
   "execution_count": 2,
   "id": "d155dde8-7d9c-4931-ae4b-5caee988d3c5",
   "metadata": {},
   "outputs": [
    {
     "name": "stdout",
     "output_type": "stream",
     "text": [
      "Python is fun\n"
     ]
    }
   ],
   "source": [
    "s = \"python is fun\"\n",
    "print(s.capitalize())"
   ]
  },
  {
   "cell_type": "code",
   "execution_count": null,
   "id": "50011bcf-c40c-4dcf-9f48-4e90031026cc",
   "metadata": {},
   "outputs": [],
   "source": [
    "s = \"hello world\"\n",
    "\n",
    "for i in s:\n",
    "    if (i=='a' || i=='e' || i=='i' || i=='o' || i=='u'):\n",
    "        s.rem"
   ]
  }
 ],
 "metadata": {
  "kernelspec": {
   "display_name": "Python 3 (ipykernel)",
   "language": "python",
   "name": "python3"
  },
  "language_info": {
   "codemirror_mode": {
    "name": "ipython",
    "version": 3
   },
   "file_extension": ".py",
   "mimetype": "text/x-python",
   "name": "python",
   "nbconvert_exporter": "python",
   "pygments_lexer": "ipython3",
   "version": "3.11.7"
  }
 },
 "nbformat": 4,
 "nbformat_minor": 5
}
