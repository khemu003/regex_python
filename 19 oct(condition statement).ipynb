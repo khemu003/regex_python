{
 "cells": [
  {
   "cell_type": "markdown",
   "id": "1c5be055-5300-4c32-8e97-9f3d0142fb1d",
   "metadata": {},
   "source": [
    "#Conditional statements"
   ]
  },
  {
   "cell_type": "code",
   "execution_count": null,
   "id": "02f95a30-085c-4609-b369-99f2a0a5c25d",
   "metadata": {},
   "outputs": [],
   "source": [
    "#if-----elif----else"
   ]
  },
  {
   "cell_type": "markdown",
   "id": "a5a6c77d-c0a1-40af-bc22-36156191d719",
   "metadata": {},
   "source": [
    "If(condition1):\n",
    "    #code_to_execute\n",
    "elif(condition2):\n",
    "    #code\n",
    "    .\n",
    "    .\n",
    "    .\n",
    "else:"
   ]
  },
  {
   "cell_type": "markdown",
   "id": "ce24fa9a-4739-4e83-80e6-992f7dd4241f",
   "metadata": {},
   "source": [
    "100"
   ]
  },
  {
   "cell_type": "code",
   "execution_count": null,
   "id": "3c56a1f6-315b-4ea4-801a-a596f752e23e",
   "metadata": {},
   "outputs": [],
   "source": [
    "marks=int(input('Enter your marks'))\n",
    "if (marks>75 and marks<=100):\n",
    "    print('First grade')\n",
    "elif(marks>50 and marks<=75):\n",
    "    print('Second grade')\n"
   ]
  },
  {
   "cell_type": "code",
   "execution_count": 5,
   "id": "952d5953-ea46-4f6b-bb5e-2ac040942d13",
   "metadata": {},
   "outputs": [
    {
     "name": "stdin",
     "output_type": "stream",
     "text": [
      "Enter the speed 130\n"
     ]
    }
   ],
   "source": [
    "speed=int(input('Enter the speed'))"
   ]
  },
  {
   "cell_type": "code",
   "execution_count": 6,
   "id": "ebe2319b-5099-4fe2-909f-91545774e583",
   "metadata": {},
   "outputs": [
    {
     "name": "stdout",
     "output_type": "stream",
     "text": [
      "You will have to pay charges\n",
      "Your charges are:\n",
      "500 charges\n"
     ]
    }
   ],
   "source": [
    "if (speed>120):\n",
    "    print('You will have to pay charges')\n",
    "    print('Your charges are:')\n",
    "    if (speed>=120 and speed<=130):\n",
    "        print('500 charges')\n",
    "    elif (speed>130 and speed<=150):\n",
    "        print('1000 charges')\n",
    "    else:\n",
    "        print('2000 charges')\n",
    "else:\n",
    "    print('No charges')"
   ]
  },
  {
   "cell_type": "code",
   "execution_count": null,
   "id": "56616c6a-8318-468e-a49c-ddf85d86d8b5",
   "metadata": {},
   "outputs": [],
   "source": []
  },
  {
   "cell_type": "code",
   "execution_count": null,
   "id": "61f28a02-e172-49e4-a421-f8f4628b0ba4",
   "metadata": {},
   "outputs": [],
   "source": []
  },
  {
   "cell_type": "code",
   "execution_count": null,
   "id": "c2d718e0-0c7b-47fe-93ef-55781f30ceff",
   "metadata": {},
   "outputs": [],
   "source": []
  },
  {
   "cell_type": "code",
   "execution_count": null,
   "id": "7b69efb1-26dd-4f44-b484-c06fc809edee",
   "metadata": {},
   "outputs": [],
   "source": []
  },
  {
   "cell_type": "code",
   "execution_count": null,
   "id": "e905d383-da4e-43eb-b289-debf0b41150f",
   "metadata": {},
   "outputs": [],
   "source": []
  },
  {
   "cell_type": "code",
   "execution_count": null,
   "id": "9b861d54-3376-456f-87a2-623c9031d672",
   "metadata": {},
   "outputs": [],
   "source": []
  },
  {
   "cell_type": "code",
   "execution_count": 13,
   "id": "1cc55386-7155-4aa2-b42d-bc21ee0d6e34",
   "metadata": {},
   "outputs": [
    {
     "name": "stdin",
     "output_type": "stream",
     "text": [
      "Enter a number :  4\n"
     ]
    },
    {
     "name": "stdout",
     "output_type": "stream",
     "text": [
      "4 is postive\n"
     ]
    }
   ],
   "source": [
    "number = int(input(\"Enter a number : \" ))\n",
    "if (number>0):\n",
    "    print(f\"{number} is postive\")"
   ]
  },
  {
   "cell_type": "code",
   "execution_count": 14,
   "id": "76bcc648-02e7-4e9e-9340-30a48046ab18",
   "metadata": {},
   "outputs": [
    {
     "name": "stdin",
     "output_type": "stream",
     "text": [
      "Enter a number :  5\n"
     ]
    },
    {
     "name": "stdout",
     "output_type": "stream",
     "text": [
      "5 is odd\n"
     ]
    }
   ],
   "source": [
    "number = int(input(\"Enter a number : \" ))\n",
    "if (number%2==0):\n",
    "    print(f\"{number} is even\")\n",
    "else:\n",
    "    print(f\"{number} is odd\")"
   ]
  },
  {
   "cell_type": "code",
   "execution_count": 17,
   "id": "92704956-64c9-49ba-b5ad-2c3113b099cc",
   "metadata": {},
   "outputs": [
    {
     "name": "stdin",
     "output_type": "stream",
     "text": [
      "Enter a number :  8\n"
     ]
    },
    {
     "name": "stdout",
     "output_type": "stream",
     "text": [
      "8 is postive\n"
     ]
    }
   ],
   "source": [
    "number = int(input(\"Enter a number : \" ))\n",
    "if (number>0):\n",
    "    print(f\"{number} is postive\")\n",
    "elif (number<0):\n",
    "    print(f\"{number} is negetive\")\n",
    "else:\n",
    "    print(f\"{number} is zero\")"
   ]
  },
  {
   "cell_type": "code",
   "execution_count": 18,
   "id": "2ecb08b2-3aa1-4fbc-8d2c-bbd6730040c7",
   "metadata": {},
   "outputs": [
    {
     "name": "stdout",
     "output_type": "stream",
     "text": [
      "Greater\n"
     ]
    }
   ],
   "source": [
    "x = 10\n",
    "if x > 5:\n",
    "    print(\"Greater\")\n",
    "else:\n",
    "    print(\"Smaller\")\n"
   ]
  },
  {
   "cell_type": "code",
   "execution_count": 25,
   "id": "88d43a6f-05ae-43d1-900f-9345597ec062",
   "metadata": {},
   "outputs": [
    {
     "name": "stdin",
     "output_type": "stream",
     "text": [
      "Enter a number :  20\n"
     ]
    },
    {
     "name": "stdout",
     "output_type": "stream",
     "text": [
      "20 is between 10 and 20.\n"
     ]
    }
   ],
   "source": [
    "number = int(input(\"Enter a number : \" ))\n",
    "if (number>=10 and number<=20):\n",
    "    print(f\"{number} is between 10 and 20.\")"
   ]
  },
  {
   "cell_type": "code",
   "execution_count": 30,
   "id": "62448614-fef4-428e-a578-7245b207dd4f",
   "metadata": {},
   "outputs": [
    {
     "name": "stdin",
     "output_type": "stream",
     "text": [
      "Enter a number :  30\n"
     ]
    },
    {
     "name": "stdout",
     "output_type": "stream",
     "text": [
      "30 is divisible by both 3 and 5.\n"
     ]
    }
   ],
   "source": [
    "number = int(input(\"Enter a number : \" ))\n",
    "if (number%3==0 and number%5==0):\n",
    "    print(f\"{number} is divisible by both 3 and 5.\")"
   ]
  },
  {
   "cell_type": "code",
   "execution_count": 34,
   "id": "7d073631-f2ef-484c-bf80-bb0b4815b8dd",
   "metadata": {},
   "outputs": [
    {
     "name": "stdin",
     "output_type": "stream",
     "text": [
      "Enter a number :  -9\n"
     ]
    },
    {
     "name": "stdout",
     "output_type": "stream",
     "text": [
      "-9 is negetive\n"
     ]
    }
   ],
   "source": [
    "number = int(input(\"Enter a number : \" ))\n",
    "if (number>0):\n",
    "    if (number%2==0):\n",
    "        print(f\"{number} is even\")\n",
    "    else:\n",
    "        print(f\"{number} is odd\")\n",
    "elif (number<0):\n",
    "    print(f\"{number} is negetive\")\n",
    "else:\n",
    "    print(f\"{number} is zero\")"
   ]
  },
  {
   "cell_type": "code",
   "execution_count": 35,
   "id": "2c6f589d-71df-4538-bfc8-35ab621ba6c7",
   "metadata": {},
   "outputs": [
    {
     "name": "stdout",
     "output_type": "stream",
     "text": [
      "Smaller\n"
     ]
    }
   ],
   "source": [
    "a = 5\n",
    "b = 10\n",
    "if a < b:\n",
    "    if b > 15:\n",
    "        print(\"Bigger\")\n",
    "    else:\n",
    "        print(\"Smaller\")"
   ]
  },
  {
   "cell_type": "code",
   "execution_count": 36,
   "id": "131f42d9-8cd4-4e86-802d-dd3be9583c2d",
   "metadata": {},
   "outputs": [
    {
     "name": "stdin",
     "output_type": "stream",
     "text": [
      "Enter a number :  5\n"
     ]
    },
    {
     "name": "stdout",
     "output_type": "stream",
     "text": [
      "5 is postive\n"
     ]
    }
   ],
   "source": [
    "number = int(input(\"Enter a number : \" ))\n",
    "if (number>0):\n",
    "    print(f\"{number} is postive\")"
   ]
  },
  {
   "cell_type": "code",
   "execution_count": 5,
   "id": "ee563eb0-da6f-405a-84cd-7a4ea02712b5",
   "metadata": {},
   "outputs": [
    {
     "name": "stdin",
     "output_type": "stream",
     "text": [
      "Enter input:  -76\n"
     ]
    },
    {
     "name": "stdout",
     "output_type": "stream",
     "text": [
      "Not Integer\n"
     ]
    }
   ],
   "source": [
    "n = input(\"Enter input: \")\n",
    "\n",
    "if n.isdigit():\n",
    "    print(\"Integer\")\n",
    "else:\n",
    "    print(\"Not Integer\")"
   ]
  },
  {
   "cell_type": "code",
   "execution_count": null,
   "id": "11daca27-9193-464b-8d4e-e83cb52c0382",
   "metadata": {},
   "outputs": [],
   "source": []
  }
 ],
 "metadata": {
  "kernelspec": {
   "display_name": "Python 3 (ipykernel)",
   "language": "python",
   "name": "python3"
  },
  "language_info": {
   "codemirror_mode": {
    "name": "ipython",
    "version": 3
   },
   "file_extension": ".py",
   "mimetype": "text/x-python",
   "name": "python",
   "nbconvert_exporter": "python",
   "pygments_lexer": "ipython3",
   "version": "3.11.7"
  }
 },
 "nbformat": 4,
 "nbformat_minor": 5
}
