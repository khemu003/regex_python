{
 "cells": [
  {
   "cell_type": "markdown",
   "id": "e9f065dc-c737-473a-a213-7f58fe5f6bab",
   "metadata": {},
   "source": [
    "# Oops - Object-Oriented Programming "
   ]
  },
  {
   "cell_type": "markdown",
   "id": "fdcc962b-6cac-4632-a945-bff9916fc25f",
   "metadata": {},
   "source": [
    "# task1:\n",
    "* create a parameter class.\n",
    "* Add methods for addition, subtraction, multiplication, and division.\r",
    "* \n",
    "Use the self parameter to access the numbers."
   ]
  },
  {
   "cell_type": "code",
   "execution_count": 2,
   "id": "3e7c828d-803a-4404-bbdf-3c3f46f9982a",
   "metadata": {},
   "outputs": [
    {
     "name": "stdout",
     "output_type": "stream",
     "text": [
      "Total : 12\n",
      "Subtract : 8\n",
      "multiply : 20\n",
      "divide : 5.0\n"
     ]
    }
   ],
   "source": [
    "class Calculator:\n",
    "\n",
    "    def __init__(self, num1, num2):\n",
    "        self.num1 = num1\n",
    "        self.num2 = num2\n",
    "\n",
    "    def add(self):\n",
    "        return f\"Total : {self.num1 + self.num2}\"\n",
    "\n",
    "    def subtract(self):\n",
    "        return f\"Subtract : {self.num1 - self.num2}\"\n",
    "\n",
    "    def multiply(self):\n",
    "        return f\"multiply : {self.num1 * self.num2}\"\n",
    "\n",
    "    def divide(self):\n",
    "        if self.num2 != 0:\n",
    "            return f\"divide : {self.num1 / self.num2}\"\n",
    "        else:\n",
    "            return \"Division by zero is not allowed!\"\n",
    "\n",
    "cal = Calculator(10,2)\n",
    "print(cal.add())\n",
    "print(cal.subtract())\n",
    "print(cal.multiply())\n",
    "print(cal.divide())"
   ]
  },
  {
   "cell_type": "markdown",
   "id": "d828ebeb-bc1b-4f72-a294-efa0eff38f04",
   "metadata": {},
   "source": [
    "# task2 : create a Bank account class\n",
    "* define a bankaccount class\n",
    "* add attributes for account holder name and balance\n",
    "* add methods to deposit, withdraw, check balance"
   ]
  },
  {
   "cell_type": "code",
   "execution_count": 21,
   "id": "6e828750-979d-4d74-a219-ef7941292378",
   "metadata": {},
   "outputs": [],
   "source": [
    "class BankAccount:\n",
    "\n",
    "    def __init__(self, holder_name, balance=0):\n",
    "        self.holder_name = holder_name\n",
    "        self.balance = balance\n",
    "\n",
    "    def deposit(self):\n",
    "        money = int(input(\"Enter the deposit money :\"))\n",
    "        print(f\"Before Total Balance : {self.balance}\")\n",
    "        self.balance = self.balance + money\n",
    "        return f\"Total Balance : {self.balance}\"\n",
    "\n",
    "    def withdraw(self):\n",
    "        money = int(input(\"Enter the withdraw money :\"))\n",
    "        print(f\"Before Total Balance : {self.balance}\")\n",
    "        if self.balance>=money:\n",
    "            self.balance = self.balance - money\n",
    "            return f\"After Total Balance : {self.balance}\"\n",
    "        else:\n",
    "            print(\"Insufficient balance\")\n",
    "\n",
    "    def check_balance(self):\n",
    "        return f\"Total Balance : {self.balance}\"\n",
    "\n",
    "bank = BankAccount(\"khemraj\",1200)"
   ]
  },
  {
   "cell_type": "code",
   "execution_count": 22,
   "id": "9bba9666-5ef5-40bd-a392-dce5c12e04c9",
   "metadata": {},
   "outputs": [
    {
     "name": "stdin",
     "output_type": "stream",
     "text": [
      "Enter the deposit money : 500\n"
     ]
    },
    {
     "name": "stdout",
     "output_type": "stream",
     "text": [
      "Before Total Balance : 1200\n",
      "Total Balance : 1700\n"
     ]
    }
   ],
   "source": [
    "print(bank.deposit())"
   ]
  },
  {
   "cell_type": "code",
   "execution_count": 23,
   "id": "6cc382b7-c0a3-423e-bd05-ccff59aea138",
   "metadata": {},
   "outputs": [
    {
     "name": "stdin",
     "output_type": "stream",
     "text": [
      "Enter the withdraw money : 300\n"
     ]
    },
    {
     "name": "stdout",
     "output_type": "stream",
     "text": [
      "Before Total Balance : 1700\n",
      "After Total Balance : 1400\n"
     ]
    }
   ],
   "source": [
    "print(bank.withdraw())"
   ]
  },
  {
   "cell_type": "code",
   "execution_count": 24,
   "id": "0855a5e6-f719-40a5-a912-5e2176bbe23d",
   "metadata": {},
   "outputs": [
    {
     "name": "stdout",
     "output_type": "stream",
     "text": [
      "Total Balance : 1400\n"
     ]
    }
   ],
   "source": [
    "print(bank.check_balance())"
   ]
  },
  {
   "cell_type": "code",
   "execution_count": 25,
   "id": "677af1f3-1092-47fe-b439-40450c86da92",
   "metadata": {},
   "outputs": [
    {
     "name": "stdin",
     "output_type": "stream",
     "text": [
      "Enter the withdraw money : 4000\n"
     ]
    },
    {
     "name": "stdout",
     "output_type": "stream",
     "text": [
      "Before Total Balance : 1400\n",
      "Insufficient balance\n",
      "None\n"
     ]
    }
   ],
   "source": [
    "print(bank.withdraw())"
   ]
  },
  {
   "cell_type": "markdown",
   "id": "b7fe5811-941f-41ec-807f-89046706377f",
   "metadata": {},
   "source": [
    "# task3 :  create a student class\n",
    "* define a student class with attributes like name, age and marks\n",
    "* add a method to display the student details\n",
    "* add a method to check is the student passed marks>=40"
   ]
  },
  {
   "cell_type": "code",
   "execution_count": 36,
   "id": "abd9ab60-d4a7-4fca-a2ff-697be9d54b35",
   "metadata": {},
   "outputs": [],
   "source": [
    "class Student:\n",
    "\n",
    "    def __init__(self, name, age, marks):\n",
    "        self.name = name\n",
    "        self.age = age\n",
    "        self.marks = marks\n",
    "\n",
    "    def display(self):\n",
    "        print(\"STUDENT NAME :\",self.name)\n",
    "        print(\"STUDENT AGE :\",self.age)\n",
    "        print(\"STUDENT MARKS :\",self.marks)\n",
    "\n",
    "    def check(self):\n",
    "        if self.marks>=40:\n",
    "            return f\"{self.name} is pass!\"\n",
    "        else:\n",
    "            return f\"{self.name} is Fail!\"\n",
    "\n",
    "std = Student(\"khemraj\", 19, 36)"
   ]
  },
  {
   "cell_type": "code",
   "execution_count": 37,
   "id": "5685ef64-3079-4ff2-b1b8-acca6e6697e3",
   "metadata": {},
   "outputs": [
    {
     "name": "stdout",
     "output_type": "stream",
     "text": [
      "STUDENT NAME : khemraj\n",
      "STUDENT AGE : 19\n",
      "STUDENT MARKS : 36\n"
     ]
    }
   ],
   "source": [
    "std.display()"
   ]
  },
  {
   "cell_type": "code",
   "execution_count": 38,
   "id": "9814db5c-6cc0-49fc-a683-90761caddb8e",
   "metadata": {},
   "outputs": [
    {
     "data": {
      "text/plain": [
       "'khemraj is Fail!'"
      ]
     },
     "execution_count": 38,
     "metadata": {},
     "output_type": "execute_result"
    }
   ],
   "source": [
    "std.check()"
   ]
  },
  {
   "cell_type": "markdown",
   "id": "13e2a731-29de-4ab0-b119-f3d7127934f8",
   "metadata": {},
   "source": [
    "# task4: Create a Library System\n",
    "* Define a Book class with attributes like title, author, and availability.\n",
    "* Add methods to check availability and borrow/return the book."
   ]
  },
  {
   "cell_type": "code",
   "execution_count": 50,
   "id": "7d6438cf-f259-4e1d-9424-0ee5797e7d01",
   "metadata": {},
   "outputs": [],
   "source": [
    "mydict = {\n",
    "    \"physics\" : [1,True],\n",
    "    \"chemistry\" : [2,True],\n",
    "    \"biology\" : [5,True]\n",
    "}"
   ]
  },
  {
   "cell_type": "code",
   "execution_count": 56,
   "id": "c51394f3-e53a-4772-91f1-a26dc3740aa4",
   "metadata": {},
   "outputs": [],
   "source": [
    "class Book:\n",
    "\n",
    "    def book_info(self):\n",
    "        book_name = input(\"Enter the book name :\")\n",
    "        if book_name in mydict:\n",
    "            print(f\"Number of book present in library : {mydict[book_name][0]}\")\n",
    "        else:\n",
    "            print(f\"{book_name} book is not available!\")\n",
    "        print(mydict)\n",
    "        \n",
    "    def borrow_book(self):\n",
    "        book_name = input(\"Enter the borrow book name :\")\n",
    "        if book_name in mydict:\n",
    "            if mydict[book_name][1]:\n",
    "                    print(f\"you borrow {book_name} book successful!\")\n",
    "                    mydict[book_name][0] = mydict[book_name][0]-1\n",
    "                    if mydict[book_name][0]==0:\n",
    "                        mydict[book_name][1] = False\n",
    "        else:\n",
    "            print(f\"{book_name} book is not available!\")\n",
    "        print(mydict)\n",
    "\n",
    "    def return_book(self):\n",
    "        book_name = input(\"Enter the return book name :\")\n",
    "        if book_name in mydict:\n",
    "            mydict[book_name][0] = mydict[book_name][0] + 1\n",
    "            mydict[book_name][1] = True\n",
    "            print(f\"you return {book_name} book successful!\")\n",
    "        else:\n",
    "            mydict[book_name] = [1,True]\n",
    "            print(f\"you return {book_name} book successful!\")\n",
    "        print(mydict)\n",
    "\n",
    "book1 = Book()"
   ]
  },
  {
   "cell_type": "code",
   "execution_count": 57,
   "id": "24c710a6-7d39-4aca-a761-b9b9b5c22e45",
   "metadata": {},
   "outputs": [
    {
     "name": "stdin",
     "output_type": "stream",
     "text": [
      "Enter the book name : biology\n"
     ]
    },
    {
     "name": "stdout",
     "output_type": "stream",
     "text": [
      "Number of book present in library : 5\n",
      "{'physics': [1, True], 'chemistry': [2, True], 'biology': [5, True], 'MySQL': [1, True]}\n"
     ]
    }
   ],
   "source": [
    "book1.book_info()"
   ]
  },
  {
   "cell_type": "code",
   "execution_count": 58,
   "id": "f2791dc2-d15d-4d4a-9543-da275d1402c4",
   "metadata": {},
   "outputs": [
    {
     "name": "stdin",
     "output_type": "stream",
     "text": [
      "Enter the book name : Advance python\n"
     ]
    },
    {
     "name": "stdout",
     "output_type": "stream",
     "text": [
      "Advance python book is not available!\n",
      "{'physics': [1, True], 'chemistry': [2, True], 'biology': [5, True], 'MySQL': [1, True]}\n"
     ]
    }
   ],
   "source": [
    "book1.book_info()"
   ]
  },
  {
   "cell_type": "code",
   "execution_count": 52,
   "id": "a8d5b2f9-86aa-440b-b9dc-619825434ad5",
   "metadata": {},
   "outputs": [
    {
     "name": "stdin",
     "output_type": "stream",
     "text": [
      "Enter the borrow book name : biology\n"
     ]
    },
    {
     "name": "stdout",
     "output_type": "stream",
     "text": [
      "you borrow biology book successful!\n",
      "{'physics': [1, True], 'chemistry': [2, True], 'biology': [4, True]}\n"
     ]
    }
   ],
   "source": [
    "book1.borrow_book()"
   ]
  },
  {
   "cell_type": "code",
   "execution_count": 53,
   "id": "bf4f9643-377f-425b-ab5f-ac12d1135075",
   "metadata": {},
   "outputs": [
    {
     "name": "stdin",
     "output_type": "stream",
     "text": [
      "Enter the borrow book name : PYTHON\n"
     ]
    },
    {
     "name": "stdout",
     "output_type": "stream",
     "text": [
      "physics book is not available!\n",
      "{'physics': [1, True], 'chemistry': [2, True], 'biology': [4, True]}\n"
     ]
    }
   ],
   "source": [
    "book1.borrow_book()"
   ]
  },
  {
   "cell_type": "code",
   "execution_count": 54,
   "id": "043c968d-ee80-4915-99ca-324c0c7f179b",
   "metadata": {},
   "outputs": [
    {
     "name": "stdin",
     "output_type": "stream",
     "text": [
      "Enter the return book name : biology\n"
     ]
    },
    {
     "name": "stdout",
     "output_type": "stream",
     "text": [
      "you return biology book successful!\n",
      "{'physics': [1, True], 'chemistry': [2, True], 'biology': [5, True]}\n"
     ]
    }
   ],
   "source": [
    "book1.return_book()"
   ]
  },
  {
   "cell_type": "code",
   "execution_count": 55,
   "id": "d5d5c117-7a52-4884-96e7-6a103b61b3ee",
   "metadata": {},
   "outputs": [
    {
     "name": "stdin",
     "output_type": "stream",
     "text": [
      "Enter the return book name : MySQL\n"
     ]
    },
    {
     "name": "stdout",
     "output_type": "stream",
     "text": [
      "you return MySQL book successful!\n",
      "{'physics': [1, True], 'chemistry': [2, True], 'biology': [5, True], 'MySQL': [1, True]}\n"
     ]
    }
   ],
   "source": [
    "book1.return_book()"
   ]
  },
  {
   "cell_type": "code",
   "execution_count": null,
   "id": "89cecd21-79f6-4bea-b815-51372973085e",
   "metadata": {},
   "outputs": [],
   "source": []
  }
 ],
 "metadata": {
  "kernelspec": {
   "display_name": "Python 3 (ipykernel)",
   "language": "python",
   "name": "python3"
  },
  "language_info": {
   "codemirror_mode": {
    "name": "ipython",
    "version": 3
   },
   "file_extension": ".py",
   "mimetype": "text/x-python",
   "name": "python",
   "nbconvert_exporter": "python",
   "pygments_lexer": "ipython3",
   "version": "3.11.7"
  }
 },
 "nbformat": 4,
 "nbformat_minor": 5
}
