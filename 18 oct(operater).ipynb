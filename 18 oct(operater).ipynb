{
 "cells": [
  {
   "cell_type": "markdown",
   "id": "759429e9-ff76-4906-87cf-d08e7a3ed47f",
   "metadata": {},
   "source": [
    "# operater"
   ]
  },
  {
   "cell_type": "markdown",
   "id": "4c4a67e1-106a-4ae0-80c5-2b054e02371a",
   "metadata": {},
   "source": [
    "1. Arithmetc operater\n",
    "2. logical operater\n",
    "3. Comparison operater\n",
    "4. membership operater\n",
    "5. indenity operater\n",
    "6. Bitwise operater"
   ]
  },
  {
   "cell_type": "code",
   "execution_count": 1,
   "id": "c47907b5-e94b-4405-9237-2663404371dc",
   "metadata": {},
   "outputs": [
    {
     "name": "stdout",
     "output_type": "stream",
     "text": [
      "sum :  10\n",
      "sub :  4\n",
      "multi :  21\n",
      "divison :  2.3333333333333335\n",
      "mod :  1\n",
      "power :  343\n",
      "divi in int :  2\n"
     ]
    }
   ],
   "source": [
    "# Arithmetic operater\n",
    "\n",
    "x=7\n",
    "y=3\n",
    "sum=x+y\n",
    "print(\"sum : \",sum)\n",
    "sub=x-y\n",
    "print(\"sub : \",sub)\n",
    "multi=x*y\n",
    "print(\"multi : \",multi)\n",
    "divi=x/y\n",
    "print(\"divison : \",divi)\n",
    "mod=x%y\n",
    "print(\"mod : \",mod)\n",
    "power=x**y\n",
    "print(\"power : \",power)\n",
    "int_divi = x//y\n",
    "print(\"divi in int : \",int_divi)"
   ]
  },
  {
   "cell_type": "code",
   "execution_count": 3,
   "id": "53740b0a-bb09-43c5-9dba-8774178da5d1",
   "metadata": {},
   "outputs": [
    {
     "name": "stdout",
     "output_type": "stream",
     "text": [
      "True\n",
      "False\n",
      "True\n",
      "False\n",
      "False\n",
      "True\n"
     ]
    }
   ],
   "source": [
    "#Comparison operater\n",
    "\n",
    "print(x>y)\n",
    "print(x<y)\n",
    "print(x>=y)\n",
    "print(x<=y)\n",
    "print(x==y)\n",
    "print(x!=y)"
   ]
  },
  {
   "cell_type": "code",
   "execution_count": 4,
   "id": "fe6de879-3cb2-4776-86c7-32ea2ec87b1f",
   "metadata": {},
   "outputs": [
    {
     "name": "stdout",
     "output_type": "stream",
     "text": [
      "False\n",
      "True\n",
      "True\n"
     ]
    }
   ],
   "source": [
    "# logical operater\n",
    "print(x<10 and y>10)\n",
    "print(x<10 or y>10)\n",
    "print(not y>10)\n"
   ]
  },
  {
   "cell_type": "code",
   "execution_count": 20,
   "id": "30164fb6-cd53-4109-b12e-7da1ba61e9fd",
   "metadata": {},
   "outputs": [
    {
     "name": "stdout",
     "output_type": "stream",
     "text": [
      "True\n",
      "False\n",
      "True\n"
     ]
    }
   ],
   "source": [
    "#Membership operater\n",
    "\n",
    "name = \"khemraj\"\n",
    "print('k' in name)\n",
    "print('s' in name)\n",
    "print('hm' not in name)"
   ]
  },
  {
   "cell_type": "code",
   "execution_count": 17,
   "id": "a506bf90-3a9d-4239-86a2-9af80daacb95",
   "metadata": {},
   "outputs": [
    {
     "name": "stdout",
     "output_type": "stream",
     "text": [
      "2110607669504\n",
      "2110607638336\n"
     ]
    }
   ],
   "source": [
    "a = [1,2,3]\n",
    "b=[1,2,3]\n",
    "a in b\n",
    "print(id(a))\n",
    "print(id(b))"
   ]
  },
  {
   "cell_type": "code",
   "execution_count": 21,
   "id": "ee2147c9-810c-4e28-8567-05c2557a5470",
   "metadata": {},
   "outputs": [
    {
     "name": "stdout",
     "output_type": "stream",
     "text": [
      "140736772498184\n",
      "140736772498184\n"
     ]
    }
   ],
   "source": [
    "#identity operater\n",
    "\n",
    "a=256\n",
    "b=256\n",
    "a is b\n",
    "print(id(a))\n",
    "print(id(b))"
   ]
  },
  {
   "cell_type": "code",
   "execution_count": 23,
   "id": "a7f4abce-b273-490f-a323-66981a408131",
   "metadata": {},
   "outputs": [
    {
     "name": "stdout",
     "output_type": "stream",
     "text": [
      "True\n",
      "False\n",
      "2110607636992\n",
      "2110607636992\n",
      "2110607495552\n"
     ]
    }
   ],
   "source": [
    "a = [1,2,3]\n",
    "b=a\n",
    "c=[1,2,3]\n",
    "print(a is b)\n",
    "print(a is c)\n",
    "print(id(a))\n",
    "print(id(b))\n",
    "print(id(c))"
   ]
  },
  {
   "cell_type": "code",
   "execution_count": 30,
   "id": "55fca7fb-f2a9-47f4-bbcc-bf7162e415c8",
   "metadata": {},
   "outputs": [
    {
     "name": "stdout",
     "output_type": "stream",
     "text": [
      "4\n",
      "15\n",
      "-8\n",
      "1\n"
     ]
    }
   ],
   "source": [
    "#Bitwise operater\n",
    "a=7\n",
    "b=12\n",
    "print(a&b)\n",
    "print(a|b)\n",
    "print(~(a))\n",
    "b=-2\n",
    "print(~(b))"
   ]
  },
  {
   "cell_type": "code",
   "execution_count": 27,
   "id": "10f65433-a431-42cd-9fd7-9ef169211a98",
   "metadata": {},
   "outputs": [
    {
     "data": {
      "text/plain": [
       "-8"
      ]
     },
     "execution_count": 27,
     "metadata": {},
     "output_type": "execute_result"
    }
   ],
   "source": [
    "a=7\n",
    "~(a)"
   ]
  },
  {
   "cell_type": "code",
   "execution_count": null,
   "id": "c3f67b2e-9777-467d-9ceb-e673f80220b4",
   "metadata": {},
   "outputs": [],
   "source": []
  }
 ],
 "metadata": {
  "kernelspec": {
   "display_name": "Python 3 (ipykernel)",
   "language": "python",
   "name": "python3"
  },
  "language_info": {
   "codemirror_mode": {
    "name": "ipython",
    "version": 3
   },
   "file_extension": ".py",
   "mimetype": "text/x-python",
   "name": "python",
   "nbconvert_exporter": "python",
   "pygments_lexer": "ipython3",
   "version": "3.11.7"
  }
 },
 "nbformat": 4,
 "nbformat_minor": 5
}
