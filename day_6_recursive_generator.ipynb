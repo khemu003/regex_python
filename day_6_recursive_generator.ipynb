{
 "cells": [
  {
   "cell_type": "markdown",
   "id": "e32c459d-46d9-408f-91a0-bdac916c1708",
   "metadata": {},
   "source": [
    "# Recursion"
   ]
  },
  {
   "cell_type": "code",
   "execution_count": 1,
   "id": "b467509b-beb4-4f98-8e27-fe3f89bcde9f",
   "metadata": {},
   "outputs": [
    {
     "name": "stdout",
     "output_type": "stream",
     "text": [
      "The factorial of 5 is 120\n"
     ]
    }
   ],
   "source": [
    "class FactorialCalaulator:\n",
    "    def __init__(self):\n",
    "        pass\n",
    "\n",
    "    def calculate_factorial(self, n):\n",
    "        # base case :factorial of 0 or 1 is 1\n",
    "        if n==0 or n==1:\n",
    "            return 1\n",
    "        else:\n",
    "            return n * self.calculate_factorial(n-1)\n",
    "\n",
    "calculate = FactorialCalaulator()\n",
    "number = 5\n",
    "result = calculate.calculate_factorial(number)\n",
    "print(f\"The factorial of {number} is {result}\")"
   ]
  },
  {
   "cell_type": "markdown",
   "id": "d3827461-5873-4858-949c-2e478120b50f",
   "metadata": {},
   "source": [
    "# Generator"
   ]
  },
  {
   "cell_type": "code",
   "execution_count": 3,
   "id": "4b234be0-c2a2-4e7c-a0a5-60e18762c6d7",
   "metadata": {},
   "outputs": [
    {
     "name": "stdout",
     "output_type": "stream",
     "text": [
      "1\n",
      "2\n",
      "3\n",
      "4\n",
      "5\n"
     ]
    }
   ],
   "source": [
    "# Example : 1 - simple generator for a sequence of number \n",
    "# A generator function to yield number form 1 to 5\n",
    "\n",
    "def number_generator():\n",
    "    for i in range(1,6):\n",
    "        yield i\n",
    "\n",
    "gen = number_generator()\n",
    "for num in gen:\n",
    "    print(num)"
   ]
  },
  {
   "cell_type": "code",
   "execution_count": 4,
   "id": "46e5e524-0a7a-43d9-ae73-590f7328090b",
   "metadata": {},
   "outputs": [
    {
     "name": "stdout",
     "output_type": "stream",
     "text": [
      "1\n",
      "4\n",
      "9\n",
      "16\n",
      "25\n"
     ]
    }
   ],
   "source": [
    "# Example 3: Generator for Squares of Numbers\n",
    "# A generator function to yield squares of numbers\n",
    "\n",
    "def square_generator(n):\n",
    "    for i in range(1, n+1):\n",
    "        yield i*i\n",
    "\n",
    "squares = square_generator(5)\n",
    "for square in squares:\n",
    "    print(square)"
   ]
  },
  {
   "cell_type": "code",
   "execution_count": null,
   "id": "1bff580a-5c03-4265-8f9f-33c4d56f71bd",
   "metadata": {},
   "outputs": [],
   "source": []
  },
  {
   "cell_type": "markdown",
   "id": "fcf9f918-4bce-4ec0-81f0-8647de390d6d",
   "metadata": {},
   "source": [
    "# Case Study 2: Personalized Learning Platform\n",
    "Problem Statement:\n",
    "\n",
    "Create a Personalized Learning Platform to recommend courses and track student progress based on individual preferences and performance,\n",
    "\n",
    "Requirements:\n",
    "\n",
    "Classes:\n",
    "\n",
    "Student: Attributes include student_id. name, preferred_topics. and progress.\n",
    "\n",
    "Course: Attributes include course_id, title. difficulty_level. and duration,\n",
    "\n",
    "LeamingPath: Dynamically generates a customized path based on the student's preferences \n",
    "and progress.\n",
    "\n",
    "Features:\n",
    "\n",
    "Recommend courses based on student preferences and learning history.\n",
    "\n",
    "Track progress in enrolled courses and suggest next steps.\n",
    "\n",
    "Generate certificates of completion for students after they finish a course.\n",
    "\n",
    "Provide detailed progress reports for each student."
   ]
  },
  {
   "cell_type": "code",
   "execution_count": 23,
   "id": "a2006f57-ce22-4555-ab54-bd2ea7af22b8",
   "metadata": {},
   "outputs": [],
   "source": [
    "user_course = {}\n",
    "\n",
    "class Student():\n",
    "    def __init__(self, student_id, name, preferred_topic, progress):\n",
    "        self.student_id = student_id\n",
    "        self.name = name\n",
    "        self.preferred_topic = perferred_topic\n",
    "        self.progress = progress\n",
    "\n",
    "class Course(Student):\n",
    "    def __init__(self, student_id, name, preferred_topic, progress, course_id, title, difficulty_level, duration):\n",
    "        Student.__init__(self, student_id, name, preferred_topic, progress)\n",
    "        self.course_id = course_id\n",
    "        self.title = title\n",
    "        self.difficutly_level = difficulty_level\n",
    "        self.duration = duration\n",
    "\n",
    "class LearningPath(Course):\n",
    "    def __init__(self, student_id, name, preferred_topic, progress, course_id, title, difficulty_level, duration):\n",
    "        Course.__init__(self, course_id, title, difficulty_level, duration)\n",
    "\n",
    "    def user_course_store(self):\n",
    "        if perferred_topic not in user_course:\n",
    "            user_course[self.name] = [self.preferred_topic, self.progress]\n",
    "        else:\n",
    "            user_course[self.name].append[self.preferred_topic, self.progress]"
   ]
  },
  {
   "cell_type": "code",
   "execution_count": 24,
   "id": "e86b6e18-e5ef-4738-880a-32faab6d98d5",
   "metadata": {},
   "outputs": [
    {
     "ename": "TypeError",
     "evalue": "Course.__init__() missing 4 required positional arguments: 'course_id', 'title', 'difficulty_level', and 'duration'",
     "output_type": "error",
     "traceback": [
      "\u001b[1;31m---------------------------------------------------------------------------\u001b[0m",
      "\u001b[1;31mTypeError\u001b[0m                                 Traceback (most recent call last)",
      "Cell \u001b[1;32mIn[24], line 1\u001b[0m\n\u001b[1;32m----> 1\u001b[0m user1 \u001b[38;5;241m=\u001b[39m LearningPath(\u001b[38;5;241m3\u001b[39m, \u001b[38;5;124m\"\u001b[39m\u001b[38;5;124mkhemraj\u001b[39m\u001b[38;5;124m\"\u001b[39m, \u001b[38;5;124m\"\u001b[39m\u001b[38;5;124mpython\u001b[39m\u001b[38;5;124m\"\u001b[39m, \u001b[38;5;28;01mFalse\u001b[39;00m, \u001b[38;5;241m101\u001b[39m, \u001b[38;5;124m\"\u001b[39m\u001b[38;5;124mDatascience\u001b[39m\u001b[38;5;124m\"\u001b[39m, \u001b[38;5;124m\"\u001b[39m\u001b[38;5;124mA\u001b[39m\u001b[38;5;124m\"\u001b[39m, \u001b[38;5;124m\"\u001b[39m\u001b[38;5;124m10\u001b[39m\u001b[38;5;124m\"\u001b[39m)\n\u001b[0;32m      3\u001b[0m user1\u001b[38;5;241m.\u001b[39muser_course_store()\n",
      "Cell \u001b[1;32mIn[23], line 20\u001b[0m, in \u001b[0;36mLearningPath.__init__\u001b[1;34m(self, student_id, name, preferred_topic, progress, course_id, title, difficulty_level, duration)\u001b[0m\n\u001b[0;32m     19\u001b[0m \u001b[38;5;28;01mdef\u001b[39;00m \u001b[38;5;21m__init__\u001b[39m(\u001b[38;5;28mself\u001b[39m, student_id, name, preferred_topic, progress, course_id, title, difficulty_level, duration):\n\u001b[1;32m---> 20\u001b[0m     Course\u001b[38;5;241m.\u001b[39m\u001b[38;5;21m__init__\u001b[39m(\u001b[38;5;28mself\u001b[39m, course_id, title, difficulty_level, duration)\n",
      "\u001b[1;31mTypeError\u001b[0m: Course.__init__() missing 4 required positional arguments: 'course_id', 'title', 'difficulty_level', and 'duration'"
     ]
    }
   ],
   "source": [
    "user1 = LearningPath(3, \"khemraj\", \"python\", False, 101, \"Datascience\", \"A\", \"10\")\n",
    "\n",
    "user1.user_course_store()"
   ]
  },
  {
   "cell_type": "code",
   "execution_count": null,
   "id": "92552dde-b970-44a4-9ba2-616bbdfeaddd",
   "metadata": {},
   "outputs": [],
   "source": []
  }
 ],
 "metadata": {
  "kernelspec": {
   "display_name": "Python 3 (ipykernel)",
   "language": "python",
   "name": "python3"
  },
  "language_info": {
   "codemirror_mode": {
    "name": "ipython",
    "version": 3
   },
   "file_extension": ".py",
   "mimetype": "text/x-python",
   "name": "python",
   "nbconvert_exporter": "python",
   "pygments_lexer": "ipython3",
   "version": "3.11.7"
  }
 },
 "nbformat": 4,
 "nbformat_minor": 5
}
