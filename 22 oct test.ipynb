{
 "cells": [
  {
   "cell_type": "code",
   "execution_count": 1,
   "id": "61ad1c5a-1d5d-4075-9662-00f315098a4e",
   "metadata": {},
   "outputs": [
    {
     "name": "stdin",
     "output_type": "stream",
     "text": [
      "Enter stop for exit :  ok\n",
      "Enter product name :  chips\n",
      "Enter quantities of product :  15\n",
      "Enter stop for exit :  ok\n",
      "Enter product name :  ghee\n",
      "Enter quantities of product :  9\n"
     ]
    },
    {
     "name": "stdout",
     "output_type": "stream",
     "text": [
      "reorder the product.\n"
     ]
    },
    {
     "name": "stdin",
     "output_type": "stream",
     "text": [
      "Enter stop for exit :  stop\n"
     ]
    }
   ],
   "source": [
    "# Q.1 You manage a store with several products. Write a program that continuously accepts product names and quantities as input until the user types \"stop\". \n",
    "# If a product's quantity falls below a given threshold (say 10), display a warning message to reorder the product.\n",
    "\n",
    "Q_max = 10\n",
    "while True:\n",
    "    x = input(\"Enter stop for exit : \")\n",
    "    if (x == \"stop\"):\n",
    "        break\n",
    "    else:\n",
    "        name = input(\"Enter product name : \")\n",
    "        quantities = int(input(\"Enter quantities of product : \"))\n",
    "        if(quantities<Q_max):\n",
    "            print(\"reorder the product.\")"
   ]
  },
  {
   "cell_type": "code",
   "execution_count": 2,
   "id": "c012e1f1-3ff2-4227-8202-c4ddb52c5e13",
   "metadata": {},
   "outputs": [
    {
     "name": "stdin",
     "output_type": "stream",
     "text": [
      "Enter sub1 :  87\n",
      "Enter sub2 :  85\n",
      "Enter sub3 :  74\n",
      "Enter sub4 :  94\n",
      "Enter sub5 :  74\n"
     ]
    },
    {
     "name": "stdout",
     "output_type": "stream",
     "text": [
      "Pass\n",
      "Lowest marks :  74\n",
      "Highest marks :  94\n"
     ]
    }
   ],
   "source": [
    "# Q.2 Write a Python program that takes a list of student scores as input and calculates the average score. \n",
    "# If any student scores below 40, display a message saying \"Fail\" for that student. Also, find and print the highest and lowest scores.\n",
    "\n",
    "sub1 = int(input(\"Enter sub1 : \"))\n",
    "sub2 = int(input(\"Enter sub2 : \"))\n",
    "sub3 = int(input(\"Enter sub3 : \"))\n",
    "sub4 = int(input(\"Enter sub4 : \"))\n",
    "sub5 = int(input(\"Enter sub5 : \"))\n",
    "averge = (sub1+sub2+sub3+sub4+sub5)/5\n",
    "if(averge<40):\n",
    "    print(\"Fail\")\n",
    "else:\n",
    "    print(\"Pass\")\n",
    "\n",
    "list1 = [sub1,sub2,sub3,sub4,sub5]\n",
    "list1.sort()\n",
    "print(\"Lowest marks : \",list1[0])\n",
    "print(\"Highest marks : \",list1[len(list1)-1])"
   ]
  },
  {
   "cell_type": "code",
   "execution_count": 3,
   "id": "e5aa3229-6dfd-45b7-a914-af04ab5ba877",
   "metadata": {},
   "outputs": [
    {
     "name": "stdin",
     "output_type": "stream",
     "text": [
      "Enter the amount you want to withdraw :  500\n"
     ]
    },
    {
     "name": "stdout",
     "output_type": "stream",
     "text": [
      "you have successfully withdraw :  500\n"
     ]
    }
   ],
   "source": [
    "# Q.3 Write a Python program for an ATM that allows users to withdraw money in multiples of 100. \n",
    "#The ATM only has a limited number of bills of denominations: 100, 500, and 2000. \n",
    "# The program should keep track of available bills and prompt the user if the amount they request exceeds the available bills or is not a multiple of 100.\n",
    "\n",
    "amount = int(input(\"Enter the amount you want to withdraw : \"))\n",
    "if (amount%100==0):\n",
    "    print(\"you have successfully withdraw : \",amount)\n",
    "else:\n",
    "    print(\"Available bill is not a multiple of 100.\")"
   ]
  },
  {
   "cell_type": "code",
   "execution_count": 4,
   "id": "4e2789bd-f5c6-4452-880c-a369fd1e5352",
   "metadata": {},
   "outputs": [
    {
     "name": "stdin",
     "output_type": "stream",
     "text": [
      "Enter your salary :  52000\n",
      "Enter your credit score :  750\n",
      "Enter years of employment :  4\n"
     ]
    },
    {
     "name": "stdout",
     "output_type": "stream",
     "text": [
      "The loan is approved.\n"
     ]
    }
   ],
   "source": [
    "# Q.4  You are designing a loan approval system for a bank. \n",
    "# Write a Python program that takes the user’s salary, credit score, and years of employment as input. \n",
    "# The loan is approved if the salary is above $50,000, the credit score is above 700, and the user has been employed for at least 2 years.\n",
    "\n",
    "salary = int(input(\"Enter your salary : \"))\n",
    "credit_score = int(input(\"Enter your credit score : \"))\n",
    "years = int(input(\"Enter years of employment : \"))\n",
    "\n",
    "if(salary>50000 and credit_score>700 and years>=2):\n",
    "    print(\"The loan is approved.\")\n",
    "else:\n",
    "    print(\"The loan is not approved.\")"
   ]
  },
  {
   "cell_type": "code",
   "execution_count": 10,
   "id": "46a697a8-e696-4f66-9bf5-802d6cf91367",
   "metadata": {},
   "outputs": [
    {
     "name": "stdin",
     "output_type": "stream",
     "text": [
      "Enter the current number of parked vehicles :  7\n",
      "Enter yes to parked vehicle :  yes\n"
     ]
    },
    {
     "name": "stdout",
     "output_type": "stream",
     "text": [
      "The parking is not full.\n"
     ]
    },
    {
     "name": "stdin",
     "output_type": "stream",
     "text": [
      "Enter yes to parked vehicle :  no\n"
     ]
    },
    {
     "name": "stdout",
     "output_type": "stream",
     "text": [
      "current parked vehicles :  8\n"
     ]
    }
   ],
   "source": [
    "# Q.5 Write a Python program to manage a parking lot system where each parking slot can accommodate only one vehicle. \n",
    "# The parking lot has a maximum capacity of n vehicles. \n",
    "# The program should track the current number of parked vehicles and display a message when the parking lot is full.\n",
    "\n",
    "n = 10\n",
    "parked_num = int(input(\"Enter the current number of parked vehicles : \"))\n",
    "while True:\n",
    "    x = input(\"Enter yes to parked vehicle : \")\n",
    "    if (x==\"yes\"):\n",
    "        parked_num = parked_num+1\n",
    "        if(n<=parked_num):\n",
    "            print(\"The parking is full.\")\n",
    "            break\n",
    "        else:\n",
    "            print(\"The parking is not full.\")\n",
    "    else:\n",
    "        print(\"current parked vehicles : \",parked_num)\n",
    "        break"
   ]
  },
  {
   "cell_type": "code",
   "execution_count": 15,
   "id": "e106235c-a22f-4ced-b891-0bf726b83adc",
   "metadata": {},
   "outputs": [
    {
     "name": "stdin",
     "output_type": "stream",
     "text": [
      "Enter booked seats :  16\n",
      "Enter your name :  khemraj\n",
      "Enter your age :  19\n",
      "Enter no for exit :  ok\n",
      "Enter your name :  aaditya\n",
      "Enter your age :  19\n"
     ]
    },
    {
     "name": "stdout",
     "output_type": "stream",
     "text": [
      "you can add 3 person.\n"
     ]
    },
    {
     "name": "stdin",
     "output_type": "stream",
     "text": [
      "Enter no for exit :  no\n"
     ]
    }
   ],
   "source": [
    "# Q.6  Write a Python program for an airline reservation system. \n",
    "# The program should accept passenger details and continuously ask if there are more passengers to add. \n",
    "# If the flight is full (with a maximum number of seats), display a \"Flight Full\" message.\n",
    "\n",
    "seat = 20\n",
    "book_seat = int(input(\"Enter booked seats : \"))\n",
    "person_name = input(\"Enter your name : \")\n",
    "person_age = input(\"Enter your age : \")\n",
    "while True:\n",
    "    x = input(\"Enter no for exit : \")\n",
    "    if(x ==\"no\"):\n",
    "        break\n",
    "    else:\n",
    "        person_name = input(\"Enter your name : \")\n",
    "        person_age = input(\"Enter your age : \")\n",
    "        book_seat = book_seat + 1\n",
    "        if(book_seat>seat):\n",
    "            print(\"Flight Full\")\n",
    "        else:\n",
    "            print(\"you can add {} person.\".format(seat-book_seat))"
   ]
  },
  {
   "cell_type": "code",
   "execution_count": 7,
   "id": "7094130b-30b4-433a-8c88-d0978ade5581",
   "metadata": {},
   "outputs": [
    {
     "name": "stdin",
     "output_type": "stream",
     "text": [
      "Enter done for exit :  ok\n",
      "Enter your expense :  6800\n",
      "Enter done for exit :  ok\n",
      "Enter your expense :  5200\n",
      "Enter done for exit :  done\n"
     ]
    },
    {
     "name": "stdout",
     "output_type": "stream",
     "text": [
      "your total expense :  12000\n",
      "under budget\n"
     ]
    }
   ],
   "source": [
    "# Q.7  Write a Python program to help a user track their monthly budget. \n",
    "# The program should continuously accept expense amounts from the user until they type \"done\". \n",
    "# It should then calculate the total expenses and compare them with a predefined monthly budget. Display if the user is over or under budget.\n",
    "\n",
    "monthly_budget = 12000\n",
    "sum = 0\n",
    "while True:\n",
    "    x = input(\"Enter done for exit : \")\n",
    "    if (x == \"done\"):\n",
    "        break\n",
    "    else:\n",
    "        expense = int(input(\"Enter your expense : \"))\n",
    "        sum = sum + expense\n",
    "print(\"your total expense : \",sum)\n",
    "if(sum<=monthly_budget):\n",
    "    print(\"under budget\")\n",
    "else:\n",
    "    print(\"over budget\")"
   ]
  },
  {
   "cell_type": "code",
   "execution_count": 10,
   "id": "dc09b549-2bb9-46a8-96f3-5cfafcfab15f",
   "metadata": {},
   "outputs": [
    {
     "name": "stdout",
     "output_type": "stream",
     "text": [
      "{'pizza': 140, 'pasta': 100, 'burger': 60}\n"
     ]
    },
    {
     "name": "stdin",
     "output_type": "stream",
     "text": [
      "Enter your item(done for exit) :  pizza\n"
     ]
    },
    {
     "name": "stdout",
     "output_type": "stream",
     "text": [
      "pizza is add.\n"
     ]
    },
    {
     "name": "stdin",
     "output_type": "stream",
     "text": [
      "Enter your item(done for exit) :  burger\n"
     ]
    },
    {
     "name": "stdout",
     "output_type": "stream",
     "text": [
      "burger is add.\n"
     ]
    },
    {
     "name": "stdin",
     "output_type": "stream",
     "text": [
      "Enter your item(done for exit) :  done\n"
     ]
    },
    {
     "name": "stdout",
     "output_type": "stream",
     "text": [
      "Total bill :  180.0\n"
     ]
    }
   ],
   "source": [
    "# Q.8 Write a Python program for a restaurant ordering system. \n",
    "# The program should display a menu with food items and prices. It should continuously accept customer orders until the user types \"done\". \n",
    "# The program should then calculate the total bill and apply a 10% discount if the total bill exceeds $100.\n",
    "\n",
    "dict = {\n",
    "    \"pizza\" : 140,\n",
    "    \"pasta\" : 100,\n",
    "    \"burger\" : 60\n",
    "}\n",
    "print(dict)\n",
    "total = 0\n",
    "while True:\n",
    "    item = input(\"Enter your item(done for exit) : \")\n",
    "    if (item == \"done\"):\n",
    "        break\n",
    "    else:\n",
    "        if item in dict:\n",
    "            total = total + dict[item]\n",
    "            print(f\"{item} is add.\")\n",
    "        else:\n",
    "            print(f\"{item} is unable.\")\n",
    "            \n",
    "if(total>=100):\n",
    "    total_bill = total - (total*0.1)\n",
    "    print(\"Total bill : \",total_bill)\n",
    "else:\n",
    "    print(\"Total bill : \",total)"
   ]
  },
  {
   "cell_type": "code",
   "execution_count": 3,
   "id": "4383d412-7c2f-47bf-b2fc-fcad9c00b1dd",
   "metadata": {},
   "outputs": [
    {
     "name": "stdin",
     "output_type": "stream",
     "text": [
      "Enter no for exit :  ok\n",
      "Enter the number of borrowed books :  5\n"
     ]
    },
    {
     "name": "stdout",
     "output_type": "stream",
     "text": [
      "Your books is borrow. 5\n"
     ]
    },
    {
     "name": "stdin",
     "output_type": "stream",
     "text": [
      "Enter no for exit :  no\n"
     ]
    }
   ],
   "source": [
    "# Q.9  Write a Python program for a library book management system. \n",
    "# The system should allow a librarian to continuously input the number of borrowed books. \n",
    "# When a user tries to borrow a book, the system checks whether the total borrowed books have reached a certain threshold (e.g., 50).\n",
    "# If the limit is reached, the system should display a message saying \"No more books can be borrowed\".\n",
    "\n",
    "books_max = 50\n",
    "total_borrow_book = int(input(\"Enter current borrewed books : \"))\n",
    "while True:\n",
    "    x = input(\"you want to borrow book : \")\n",
    "    if (x==\"yes\"):\n",
    "        value = int(input(\"Enter howmany book you want : \"))\n",
    "        total_borrow_book = total_borrow_book + value\n",
    "    else:\n",
    "        borrow_book = int(input(\"Enter the number of borrowed books : \"))\n",
    "        total_borrow_book = total_borrow_book + borrow_book\n",
    "        if (total_borrow_book>books_max):\n",
    "            print(\"no more books can be borrowed.\")\n",
    "        else:\n",
    "            print(\"Your books is borrow.\")"
   ]
  },
  {
   "cell_type": "code",
   "execution_count": null,
   "id": "113ae9dd-2e3c-42df-b63e-8d6e6fb32eb2",
   "metadata": {},
   "outputs": [],
   "source": [
    "# Q.10 Write a Python program for an e-commerce website where users can input the total cart value. \n",
    "# Based on the value, different discount rates are applied:\n",
    "# If the value is above $500, apply a 20% discount.\n",
    "# If the value is between $200 and $500, apply a 10% discount.\n",
    "# If the value is below $200, no discount is applied. The program should calculate and print the final price after applying the discount.\n",
    "\n",
    "cart_value = int(input(\"Enter cart value : \"))\n",
    "if (cart_value>500):\n",
    "    total_value = cart_value - (cart_value*0.2)\n",
    "    print(\"Total cart value : \",total_value)\n",
    "elif (cart_value<=500 and cart_value>=200):\n",
    "    total_value = cart_value - (cart_value*0.1)\n",
    "    print(\"Total cart value : \",total_value)\n",
    "else:\n",
    "    total_value = cart_value\n",
    "    print(\"Total cart value : \",total_value)"
   ]
  },
  {
   "cell_type": "code",
   "execution_count": null,
   "id": "00a7254c-7d1a-4cc2-b8a6-23bdf8a36ec2",
   "metadata": {},
   "outputs": [],
   "source": [
    "# Q.11  Write a Python program to calculate the year-end bonus for employees. The bonus is based on performance ratings and years of service:\n",
    "# Employees with a rating above 4 and service years greater than 5 get a 20% bonus on their salary.\n",
    "# Employees with a rating between 3 and 4 get a 10% bonus if they have more than 2 years of service.\n",
    "# All others get a 5% bonus. The program should take the employee's salary, rating, and years of service as input and output the final bonus amount.\n",
    "\n",
    "current_salary = int(input(\"Enter your salary \" ))\n",
    "rating = int(input(\"Enter your rating : \"))\n",
    "years = int(input(\"Enter employee years of service : \"))\n",
    "\n",
    "if(rating>4 and years>5):\n",
    "    final_salary = current_salary + (current_salary*0.2)\n",
    "    print(\"your final salary : \",final_salary)\n",
    "elif((rating==3 or rating==4) and (years>2)):\n",
    "    final_salary = current_salary + (current_salary*0.1)\n",
    "    print(\"your final salary : \",final_salary)\n",
    "else:\n",
    "    final_salary = current_salary + (current_salary*0.05)\n",
    "    print(\"your final salary : \",final_salary)"
   ]
  },
  {
   "cell_type": "code",
   "execution_count": null,
   "id": "2967b2a1-615c-490b-9791-5660bcdc5260",
   "metadata": {},
   "outputs": [],
   "source": [
    "# Q.12  Write a Python program for a car rental system. \n",
    "# The user can choose different cars (economy, sedan, or SUV), and each type has a daily rental rate. \n",
    "# The program should continuously accept car type and rental days as input until the user enters \"stop\". \n",
    "# After that, the total rental cost should be calculated, and a 15% discount should be applied if the total rental duration exceeds 7 days.\n",
    "\n",
    "economy = 20000\n",
    "sedan = 12000\n",
    "suv = 10000\n",
    "while True:\n",
    "    x = input(\"Enter stop for exit : \")\n",
    "    if (x == \"stop\"):\n",
    "        break\n",
    "    else:\n",
    "        car = input(\"Enter car name : \")\n",
    "        rental_day = int(input(\"Enter rental day : \"))\n",
    "        if(rental_day>7):\n",
    "            cost = car*rental_day - (car*rental_day*0.15)\n",
    "            print(\"Total cost of car : \",cost)"
   ]
  },
  {
   "cell_type": "code",
   "execution_count": null,
   "id": "8098eaca-feb7-4de1-b791-f8f3a9f35945",
   "metadata": {},
   "outputs": [],
   "source": [
    "# Q.13 Write a Python program for a fitness tracker that records daily steps walked. \n",
    "# The program should continuously accept the number of steps for each day of the week. \n",
    "# At the end of the week, calculate the total number of steps, the average number of steps per day, and display a message \n",
    "# if the average steps are below 5,000 (suggesting more exercise is needed).\n",
    "\n"
   ]
  },
  {
   "cell_type": "code",
   "execution_count": null,
   "id": "11671f64-f93d-4ae4-9aab-4f2ff83b07d2",
   "metadata": {},
   "outputs": [],
   "source": [
    "# Q.14  A shopping mall wants to analyze foot traffic for a given week. \n",
    "# Write a Python program to take the number of visitors for each day of the week. \n",
    "# The program should calculate the total number of visitors, the day with the highest number of visitors, and check \n",
    "# if the total number of visitors exceeds a predefined threshold (say 10,000). If it does, display a warning message.\n",
    "\n"
   ]
  },
  {
   "cell_type": "code",
   "execution_count": null,
   "id": "ae7526d2-50c2-4b83-9470-0d4f63f1de11",
   "metadata": {},
   "outputs": [],
   "source": [
    "# Q.15  Write a Python program to handle course enrollment. \n",
    "# The program should continuously accept student names and their chosen course until the user types \"done\". \n",
    "# If a particular course reaches a predefined maximum capacity (e.g., 30 students), \n",
    "# the program should print \"Course Full\" and stop accepting students for that course.\n",
    "\n"
   ]
  },
  {
   "cell_type": "code",
   "execution_count": 21,
   "id": "25a3e3c8-f7cb-44c5-946f-1635bd8bfcdb",
   "metadata": {},
   "outputs": [
    {
     "name": "stdin",
     "output_type": "stream",
     "text": [
      "Enter if you want to enroll(yes or no) :  no\n"
     ]
    }
   ],
   "source": [
    "info ={\n",
    "    \"BCA\" : 30,\n",
    "    \"BA\" : 25,\n",
    "    \"BBA\" : 28\n",
    "}\n",
    "limit = 0\n",
    "while True:\n",
    "    enroll = input(\"Enter if you want to enroll(yes or no) : \")\n",
    "    if(enroll==\"yes\"):\n",
    "        name = input(\"Enter your name : \")\n",
    "        course = input(\"Enter you enroll course : \")\n",
    "        if course in info:\n",
    "            print(\"{} is has been enroll in {}\".format(name,course.upper()))\n",
    "            limit = limit+1\n",
    "        \n",
    "    else:\n",
    "        break"
   ]
  },
  {
   "cell_type": "code",
   "execution_count": 17,
   "id": "e8b0045c-fcc6-43ff-b2ae-b085cf59131d",
   "metadata": {},
   "outputs": [
    {
     "name": "stdin",
     "output_type": "stream",
     "text": [
      "Enter student name (or type 'done' to finish):  khemraj\n",
      "Enter course name for khemraj:  BCA\n"
     ]
    },
    {
     "name": "stdout",
     "output_type": "stream",
     "text": [
      "khemraj has been enrolled in BCA.\n"
     ]
    },
    {
     "name": "stdin",
     "output_type": "stream",
     "text": [
      "Enter student name (or type 'done' to finish):  aadi\n",
      "Enter course name for aadi:  BA\n"
     ]
    },
    {
     "name": "stdout",
     "output_type": "stream",
     "text": [
      "aadi has been enrolled in BA.\n"
     ]
    },
    {
     "name": "stdin",
     "output_type": "stream",
     "text": [
      "Enter student name (or type 'done' to finish):  susheel\n",
      "Enter course name for susheel:  BCA\n"
     ]
    },
    {
     "name": "stdout",
     "output_type": "stream",
     "text": [
      "susheel has been enrolled in BCA.\n"
     ]
    },
    {
     "name": "stdin",
     "output_type": "stream",
     "text": [
      "Enter student name (or type 'done' to finish):  done\n"
     ]
    },
    {
     "name": "stdout",
     "output_type": "stream",
     "text": [
      "\n",
      "Enrollment Summary:\n",
      "BCA: 2 students\n",
      "BA: 1 students\n"
     ]
    }
   ],
   "source": [
    "# Define maximum capacity for courses\n",
    "MAX_CAPACITY = 30\n",
    "\n",
    "# Dictionary to store courses and their enrolled students\n",
    "courses = {}\n",
    "\n",
    "while True:\n",
    "    student_name = input(\"Enter student name (or type 'done' to finish): \")\n",
    "    if student_name.lower() == 'done':\n",
    "        break\n",
    "\n",
    "    course_name = input(f\"Enter course name for {student_name}: \")\n",
    "\n",
    "    # Check if the course is already in the dictionary\n",
    "    if course_name not in courses:\n",
    "        courses[course_name] = []\n",
    "    \n",
    "    # Check if the course has reached the maximum capacity\n",
    "    if len(courses[course_name]) < MAX_CAPACITY:\n",
    "        courses[course_name].append(student_name)\n",
    "        print(f\"{student_name} has been enrolled in {course_name}.\")\n",
    "    else:\n",
    "        print(\"Course Full\")\n",
    "\n",
    "# Print the summary of enrolled students per course\n",
    "print(\"\\nEnrollment Summary:\")\n",
    "for course, students in courses.items():\n",
    "    print(f\"{course}: {len(students)} students\")"
   ]
  },
  {
   "cell_type": "code",
   "execution_count": null,
   "id": "97c7e342-9727-4de6-b0aa-134788e87cea",
   "metadata": {},
   "outputs": [],
   "source": []
  }
 ],
 "metadata": {
  "kernelspec": {
   "display_name": "Python 3 (ipykernel)",
   "language": "python",
   "name": "python3"
  },
  "language_info": {
   "codemirror_mode": {
    "name": "ipython",
    "version": 3
   },
   "file_extension": ".py",
   "mimetype": "text/x-python",
   "name": "python",
   "nbconvert_exporter": "python",
   "pygments_lexer": "ipython3",
   "version": "3.11.7"
  }
 },
 "nbformat": 4,
 "nbformat_minor": 5
}
