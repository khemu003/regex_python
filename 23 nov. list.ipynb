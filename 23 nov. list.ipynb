{
 "cells": [
  {
   "cell_type": "code",
   "execution_count": 1,
   "id": "d2f7973b-49f1-45d9-af3a-1102ec341803",
   "metadata": {},
   "outputs": [],
   "source": [
    "mylist = [10,20,30,40]"
   ]
  },
  {
   "cell_type": "code",
   "execution_count": 2,
   "id": "701b888e-bd1b-462f-98e4-5c9636c6fb01",
   "metadata": {},
   "outputs": [
    {
     "data": {
      "text/plain": [
       "[25, 20, 30, 40]"
      ]
     },
     "execution_count": 2,
     "metadata": {},
     "output_type": "execute_result"
    }
   ],
   "source": [
    "mylist[0] = 25\n",
    "mylist"
   ]
  },
  {
   "cell_type": "code",
   "execution_count": 3,
   "id": "d94f1b58-25da-4645-a09e-18af83af95af",
   "metadata": {},
   "outputs": [
    {
     "data": {
      "text/plain": [
       "[25, 20, 30, 40, 45]"
      ]
     },
     "execution_count": 3,
     "metadata": {},
     "output_type": "execute_result"
    }
   ],
   "source": [
    "mylist.append(45)\n",
    "mylist"
   ]
  },
  {
   "cell_type": "code",
   "execution_count": 4,
   "id": "9e992399-14d8-4c63-af7e-26060afc99bf",
   "metadata": {},
   "outputs": [
    {
     "data": {
      "text/plain": [
       "[25, 20, 30, 40, 45, 'hey', 'hello']"
      ]
     },
     "execution_count": 4,
     "metadata": {},
     "output_type": "execute_result"
    }
   ],
   "source": [
    "mylist.extend([\"hey\", \"hello\"])\n",
    "mylist"
   ]
  },
  {
   "cell_type": "code",
   "execution_count": 5,
   "id": "299d6dc1-91e3-450f-ac9f-d6938034f648",
   "metadata": {},
   "outputs": [],
   "source": [
    "mylist.extend(\"hey\")"
   ]
  },
  {
   "cell_type": "code",
   "execution_count": 6,
   "id": "1589f50d-754f-403f-b4dd-76db69af71cd",
   "metadata": {},
   "outputs": [
    {
     "data": {
      "text/plain": [
       "[25, 20, 30, 40, 45, 'hey', 'hello', 'h', 'e', 'y']"
      ]
     },
     "execution_count": 6,
     "metadata": {},
     "output_type": "execute_result"
    }
   ],
   "source": [
    "mylist"
   ]
  },
  {
   "cell_type": "code",
   "execution_count": 7,
   "id": "a3aedcee-69ca-4c41-90b0-fc8dfb1f4b7b",
   "metadata": {},
   "outputs": [
    {
     "name": "stdout",
     "output_type": "stream",
     "text": [
      "15\n"
     ]
    }
   ],
   "source": [
    "mylist = [1,2,3,4,5,6,7,8,9,10,11,12,13,14,15]\n",
    "\n",
    "for i in mylist:\n",
    "    if i%3==0 and i%5==0:\n",
    "        print(i)"
   ]
  },
  {
   "cell_type": "code",
   "execution_count": 12,
   "id": "3206a5be-0869-4bcf-9dce-d31165a6dcc9",
   "metadata": {},
   "outputs": [
    {
     "name": "stdout",
     "output_type": "stream",
     "text": [
      "vaild\n"
     ]
    }
   ],
   "source": [
    "str = \"({}()[])\"\n",
    "mylist = []\n",
    "x = 0\n",
    "\n",
    "for char in str:\n",
    "    if char in \"[{(\":\n",
    "        mylist.append(char)\n",
    "    elif mylist:\n",
    "        if (char==\"]\" and mylist.pop()!=\"[\"):\n",
    "            x = 1\n",
    "            break\n",
    "        elif (char==\"}\" and mylist.pop()!=\"{\"):\n",
    "            x = 1\n",
    "            break\n",
    "        elif (char==\")\" and mylist.pop()!=\"(\"):\n",
    "            x = 1\n",
    "            break\n",
    "    else:\n",
    "        x = 1\n",
    "        break\n",
    "if x==0 and len(mylist)==0:\n",
    "    print(\"vaild\")\n",
    "else:\n",
    "    print(\"invaild\")"
   ]
  },
  {
   "cell_type": "code",
   "execution_count": 13,
   "id": "15edb05c-0888-4b17-ae6a-8301a377792b",
   "metadata": {},
   "outputs": [
    {
     "name": "stdout",
     "output_type": "stream",
     "text": [
      "vaild\n"
     ]
    }
   ],
   "source": [
    "str = \"({}()[])\"\n",
    "mylist = []\n",
    "x = 0\n",
    "\n",
    "for char in str:\n",
    "    if char in \"[{(\":\n",
    "        mylist.append(char)\n",
    "    elif mylist:\n",
    "        if (char==\"]\" and mylist.pop()!=\"[\") or (char==\"}\" and mylist.pop()!=\"{\") or (char==\")\" and mylist.pop()!=\"(\"):\n",
    "            x = 1\n",
    "            break\n",
    "    else:\n",
    "        x = 1\n",
    "        break\n",
    "if x==0 and len(mylist)==0:\n",
    "    print(\"vaild\")\n",
    "else:\n",
    "    print(\"invaild\")"
   ]
  }
 ],
 "metadata": {
  "kernelspec": {
   "display_name": "Python 3 (ipykernel)",
   "language": "python",
   "name": "python3"
  },
  "language_info": {
   "codemirror_mode": {
    "name": "ipython",
    "version": 3
   },
   "file_extension": ".py",
   "mimetype": "text/x-python",
   "name": "python",
   "nbconvert_exporter": "python",
   "pygments_lexer": "ipython3",
   "version": "3.11.7"
  }
 },
 "nbformat": 4,
 "nbformat_minor": 5
}
