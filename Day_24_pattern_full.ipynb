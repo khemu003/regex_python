{
 "cells": [
  {
   "cell_type": "code",
   "execution_count": 6,
   "id": "a27bdd8c-f86a-4cac-9a46-39081b843a76",
   "metadata": {},
   "outputs": [
    {
     "name": "stdout",
     "output_type": "stream",
     "text": [
      "* * * * * \n",
      "  * * * * * \n",
      "    * * * * * \n",
      "      * * * * * \n",
      "        * * * * * \n"
     ]
    }
   ],
   "source": [
    "for i in range(1,6):\n",
    "    for s in range(1,i):\n",
    "        print(\" \",end=\" \")\n",
    "    for j in range(1,6):\n",
    "        print(\"*\",end=\" \")\n",
    "    print()"
   ]
  },
  {
   "cell_type": "code",
   "execution_count": 7,
   "id": "447bf09b-b5ed-46d7-b9ff-4a51caea00ac",
   "metadata": {},
   "outputs": [
    {
     "name": "stdout",
     "output_type": "stream",
     "text": [
      "* * * * * \n",
      "*       * \n",
      "*       * \n",
      "*       * \n",
      "* * * * * \n"
     ]
    }
   ],
   "source": [
    "for i in range(1,6):\n",
    "    for j in range(1,6):\n",
    "        if(i==1 or j==1 or i==5 or j==5):\n",
    "            print(\"*\",end=\" \")\n",
    "        else:\n",
    "            print(\" \",end=\" \")\n",
    "    print()"
   ]
  },
  {
   "cell_type": "code",
   "execution_count": 10,
   "id": "92d6a352-356d-4127-a206-93163ded0858",
   "metadata": {},
   "outputs": [
    {
     "name": "stdout",
     "output_type": "stream",
     "text": [
      "A \n",
      "A B \n",
      "A B C \n",
      "A B C D \n",
      "A B C D E \n"
     ]
    }
   ],
   "source": [
    "for i in range(1,6):\n",
    "    c =65\n",
    "    for j in range(1,i+1):\n",
    "        print(chr(c),end=\" \")\n",
    "        c+=1\n",
    "    print()"
   ]
  },
  {
   "cell_type": "code",
   "execution_count": 14,
   "id": "acbf2ef6-2960-4967-9213-ac3d3693fe7e",
   "metadata": {},
   "outputs": [
    {
     "name": "stdout",
     "output_type": "stream",
     "text": [
      "A \n",
      "B B \n",
      "C C C \n",
      "D D D D \n",
      "E E E E E \n"
     ]
    }
   ],
   "source": [
    "c=65\n",
    "for i in range(1,6):\n",
    "    for j in range(1,i+1):\n",
    "        print(chr(c),end=\" \")\n",
    "    c+=1\n",
    "    print()\n",
    "        "
   ]
  },
  {
   "cell_type": "code",
   "execution_count": 22,
   "id": "9473ed6a-7751-4f02-9392-ca99bb1d6b1a",
   "metadata": {},
   "outputs": [
    {
     "name": "stdout",
     "output_type": "stream",
     "text": [
      "E \n",
      "D E \n",
      "C D E \n",
      "B C D E \n",
      "A B C D E \n"
     ]
    }
   ],
   "source": [
    "#5\n",
    "for i in range(1,6):\n",
    "    c = 70\n",
    "    for j in range(1,i+1):\n",
    "        print(chr(c-i),end=\" \")\n",
    "        c+=1\n",
    "    print()"
   ]
  },
  {
   "cell_type": "code",
   "execution_count": 23,
   "id": "bd706adb-ca62-4202-8e7c-338d73a440bd",
   "metadata": {},
   "outputs": [
    {
     "name": "stdout",
     "output_type": "stream",
     "text": [
      "        * \n",
      "      * * \n",
      "    * * * \n",
      "  * * * * \n",
      "* * * * * \n"
     ]
    }
   ],
   "source": [
    "for i in range(1,6):\n",
    "    for s in range(1,6-i):\n",
    "        print(\" \",end=\" \")\n",
    "    for j in range(1,i+1):\n",
    "        print(\"*\",end=\" \")\n",
    "    print()"
   ]
  },
  {
   "cell_type": "code",
   "execution_count": 26,
   "id": "ba2ca9e4-9fa1-472f-85d8-455bb5baf818",
   "metadata": {},
   "outputs": [
    {
     "name": "stdout",
     "output_type": "stream",
     "text": [
      "        1 \n",
      "      1 2 \n",
      "    1 2 3 \n",
      "  1 2 3 4 \n",
      "1 2 3 4 5 \n"
     ]
    }
   ],
   "source": [
    "for i in range(1,6):\n",
    "    for s in range(1,6-i):\n",
    "        print(\" \",end=\" \")\n",
    "    for j in range(1,i+1):\n",
    "        print(j,end=\" \")\n",
    "    print()"
   ]
  },
  {
   "cell_type": "code",
   "execution_count": 35,
   "id": "06b7fd50-7222-4373-b19f-0fcb4c892f5d",
   "metadata": {},
   "outputs": [
    {
     "name": "stdout",
     "output_type": "stream",
     "text": [
      "1 2 3 4 5 \n",
      "  1 2 3 4 \n",
      "    1 2 3 \n",
      "      1 2 \n",
      "        1 \n"
     ]
    }
   ],
   "source": [
    "# \n",
    "for i in range(1,6):\n",
    "    for s in range(1,i):\n",
    "        print(\" \",end=\" \")\n",
    "    for j in range(1,6-i+1):\n",
    "        print(j,end=\" \")\n",
    "    print()"
   ]
  },
  {
   "cell_type": "code",
   "execution_count": 37,
   "id": "d4dc97d0-ca92-43ad-bde7-0cb3ac3c8ddd",
   "metadata": {},
   "outputs": [
    {
     "name": "stdout",
     "output_type": "stream",
     "text": [
      "A B C D E \n",
      "  A B C D \n",
      "    A B C \n",
      "      A B \n",
      "        A \n"
     ]
    }
   ],
   "source": [
    "for i in range(1,6):\n",
    "    c= 65\n",
    "    for s in range(1,i):\n",
    "        print(\" \",end=\" \")\n",
    "    for j in range(1,6-i+1):\n",
    "        print(chr(c),end=\" \")\n",
    "        c+=1\n",
    "    print()"
   ]
  },
  {
   "cell_type": "code",
   "execution_count": 39,
   "id": "dea510ca-3dea-49d0-9b4f-cd51add22707",
   "metadata": {},
   "outputs": [
    {
     "name": "stdout",
     "output_type": "stream",
     "text": [
      "        * * * * * \n",
      "      * * * * * \n",
      "    * * * * * \n",
      "  * * * * * \n",
      "* * * * * \n"
     ]
    }
   ],
   "source": [
    "for i in range(1,6):\n",
    "    for s in range(1,6-i):\n",
    "        print(\" \",end=\" \")\n",
    "    for j in range(1,6):\n",
    "        print(\"*\",end=\" \")\n",
    "    print()"
   ]
  },
  {
   "cell_type": "code",
   "execution_count": 41,
   "id": "ae43fc61-bf7d-4461-b470-4aed8f5e50a2",
   "metadata": {},
   "outputs": [
    {
     "name": "stdout",
     "output_type": "stream",
     "text": [
      "        1 2 3 4 5 \n",
      "      1 2 3 4 5 \n",
      "    1 2 3 4 5 \n",
      "  1 2 3 4 5 \n",
      "1 2 3 4 5 \n"
     ]
    }
   ],
   "source": [
    " for i in range(1,6):\n",
    "    for s in range(1,6-i):\n",
    "        print(\" \",end=\" \")\n",
    "    for j in range(1,6):\n",
    "        print(j,end=\" \")\n",
    "    print()"
   ]
  },
  {
   "cell_type": "code",
   "execution_count": 42,
   "id": "084a4d25-d26a-43b1-a79c-2dba2640f1b3",
   "metadata": {},
   "outputs": [
    {
     "name": "stdout",
     "output_type": "stream",
     "text": [
      "        A B C D E \n",
      "      A B C D E \n",
      "    A B C D E \n",
      "  A B C D E \n",
      "A B C D E \n"
     ]
    }
   ],
   "source": [
    "for i in range(1,6):\n",
    "    c =65\n",
    "    for s in range(1,6-i):\n",
    "        print(\" \",end=\" \")\n",
    "    for j in range(1,6):\n",
    "        print(chr(c),end=\" \")\n",
    "        c+=1\n",
    "    print()"
   ]
  },
  {
   "cell_type": "code",
   "execution_count": 1,
   "id": "5eb67633-a1c7-42d5-a1bb-e9b357a13b07",
   "metadata": {},
   "outputs": [
    {
     "name": "stdout",
     "output_type": "stream",
     "text": [
      "        * \n",
      "      * * \n",
      "    * * * \n",
      "  * * * * \n",
      "* * * * * \n"
     ]
    }
   ],
   "source": [
    "for i in range(1,6):\n",
    "    for s in range(i,5):\n",
    "        print(\" \",end=\" \")\n",
    "    for j in range(1,i+1):\n",
    "        print(\"*\",end=\" \")\n",
    "    print()"
   ]
  },
  {
   "cell_type": "code",
   "execution_count": 3,
   "id": "7b6e2275-95d6-4c96-a067-729078ddeda0",
   "metadata": {},
   "outputs": [
    {
     "name": "stdout",
     "output_type": "stream",
     "text": [
      "    * \n",
      "   * * \n",
      "  * * * \n",
      " * * * * \n",
      "* * * * * \n"
     ]
    }
   ],
   "source": [
    "for i in range(1,6):\n",
    "    for s in range(1,6-i):\n",
    "        print(\" \",end=\"\")\n",
    "    for j in range(1,i+1):\n",
    "        print(\"*\",end=\" \")\n",
    "    print()"
   ]
  },
  {
   "cell_type": "code",
   "execution_count": 5,
   "id": "0eb7d932-aad5-4930-a894-f02c23a95c28",
   "metadata": {},
   "outputs": [
    {
     "name": "stdout",
     "output_type": "stream",
     "text": [
      "* * * * * \n",
      " * * * * \n",
      "  * * * \n",
      "   * * \n",
      "    * \n"
     ]
    }
   ],
   "source": [
    "for i in range(1,6):\n",
    "    for s in range(1,i):\n",
    "        print(\" \",end=\"\")\n",
    "    for j in range(1,7-i):\n",
    "        print(\"*\",end=\" \")\n",
    "    print()"
   ]
  },
  {
   "cell_type": "code",
   "execution_count": 83,
   "id": "0f4f2721-74ac-41ca-ba27-ef5835b69939",
   "metadata": {},
   "outputs": [
    {
     "name": "stdout",
     "output_type": "stream",
     "text": [
      "    * \n",
      "   * * \n",
      "  * * * \n",
      " * * * * \n",
      "* * * * * \n",
      " * * * * \n",
      "  * * * \n",
      "   * * \n",
      "    * \n",
      "     \n"
     ]
    }
   ],
   "source": [
    "for i in range(1,6):\n",
    "    for s in range(1,6-i):\n",
    "        print(\" \",end=\"\")\n",
    "    for j in range(1,i+1):\n",
    "        print(\"*\",end=\" \")\n",
    "    print()\n",
    "for i in range(1,6):\n",
    "    for s in range(1,i+1):\n",
    "        print(\" \",end=\"\")\n",
    "    for j in range(1,6-i):\n",
    "        print(\"*\",end=\" \")\n",
    "    print()"
   ]
  },
  {
   "cell_type": "code",
   "execution_count": 91,
   "id": "e679e490-a9cb-4b06-b259-4a5c4e2a18d1",
   "metadata": {},
   "outputs": [
    {
     "name": "stdout",
     "output_type": "stream",
     "text": [
      "*\n",
      "**\n",
      "***\n",
      "****\n",
      "*****\n",
      "****\n",
      "***\n",
      "**\n",
      "*\n",
      "\n"
     ]
    }
   ],
   "source": [
    "for i in range(1,6):\n",
    "    for j in range(1,i+1):\n",
    "        print(\"*\",end=\"\")\n",
    "    print()\n",
    "for i in range(1,6):\n",
    "    for j in range(1,6-i):\n",
    "        print(\"*\",end=\"\")\n",
    "    print()"
   ]
  },
  {
   "cell_type": "code",
   "execution_count": 101,
   "id": "fcdebbc3-4b02-4263-ac99-9b4a00bb47ed",
   "metadata": {},
   "outputs": [
    {
     "name": "stdout",
     "output_type": "stream",
     "text": [
      "    *\n",
      "   **\n",
      "  ***\n",
      " ****\n",
      "*****\n",
      " ****\n",
      "  ***\n",
      "   **\n",
      "    *\n",
      "     \n"
     ]
    }
   ],
   "source": [
    "for i in range(1,6):\n",
    "    for s in range(1,6-i):\n",
    "        print(\"\",end=\" \")\n",
    "    for j in range(1,i+1):\n",
    "        print(\"*\",end=\"\")\n",
    "    print()\n",
    "for i in range(1,6):\n",
    "    for s in range(1,i+1):\n",
    "        print(\"\",end=\" \")\n",
    "    for j in range(1,6-i):\n",
    "        print(\"*\",end=\"\")\n",
    "    print()"
   ]
  },
  {
   "cell_type": "code",
   "execution_count": 102,
   "id": "ad1fb963-2395-4516-aeee-68c6e0a03652",
   "metadata": {},
   "outputs": [
    {
     "name": "stdout",
     "output_type": "stream",
     "text": [
      "1 \n",
      "1 2 \n",
      "1 2 3 \n",
      "1 2 3 4 \n",
      "1 2 3 4 5 \n"
     ]
    }
   ],
   "source": [
    "#17 half pyramid\n",
    "\n",
    "for i in range(1,6):\n",
    "    for j in range(1,i+1):\n",
    "        print(j,end=\" \")\n",
    "    print()"
   ]
  },
  {
   "cell_type": "code",
   "execution_count": 107,
   "id": "8d473907-9f39-4a4f-9d13-0658ed0ba05c",
   "metadata": {},
   "outputs": [
    {
     "name": "stdout",
     "output_type": "stream",
     "text": [
      "1 2 3 4 5 \n",
      "1 2 3 4 \n",
      "1 2 3 \n",
      "1 2 \n",
      "1 \n"
     ]
    }
   ],
   "source": [
    "#inverted half pyramid\n",
    "\n",
    "for i in range(1,6):\n",
    "    for j in range(1,7-i):\n",
    "        print(j,end=\" \")\n",
    "    print()"
   ]
  },
  {
   "cell_type": "code",
   "execution_count": 75,
   "id": "97899dd7-3ef0-40ed-92d7-d3354f5d7e10",
   "metadata": {},
   "outputs": [
    {
     "name": "stdout",
     "output_type": "stream",
     "text": [
      "1 \n",
      "1 2 \n",
      "1   3 \n",
      "1     4 \n",
      "1 2 3 4 5 \n"
     ]
    }
   ],
   "source": [
    "for i in range(1,6):\n",
    "    \n",
    "    for j in range(1,i+1):\n",
    "        if(j==1 or i==5 or i==j):\n",
    "            print(j,end=\" \")\n",
    "        else:\n",
    "            print(\" \",end=\" \")\n",
    "    print()"
   ]
  },
  {
   "cell_type": "code",
   "execution_count": 76,
   "id": "508d7613-e3af-4a8c-878c-e94492031a7d",
   "metadata": {},
   "outputs": [
    {
     "name": "stdout",
     "output_type": "stream",
     "text": [
      "    1 \n",
      "   1 2 \n",
      "  1   3 \n",
      " 1     4 \n",
      "1 2 3 4 5 \n"
     ]
    }
   ],
   "source": [
    "for i in range(1,6):\n",
    "    for s in range(1,6-i):\n",
    "        print(\" \",end=\"\")\n",
    "    for j in range(1,i+1):\n",
    "        if(j==1 or i==5 or i==j):\n",
    "            print(j,end=\" \")\n",
    "        else:\n",
    "            print(\" \",end=\" \")\n",
    "    print()"
   ]
  },
  {
   "cell_type": "code",
   "execution_count": 112,
   "id": "776f1641-2760-4a60-91ea-a6fe31233a79",
   "metadata": {},
   "outputs": [
    {
     "name": "stdout",
     "output_type": "stream",
     "text": [
      "* \n",
      "* * \n",
      "*   * \n",
      "*     * \n",
      "* * * * * \n"
     ]
    }
   ],
   "source": [
    "for i in range(1,6):\n",
    "    for j in range(1,i+1):\n",
    "        if(j==1 or i==5 or i==j):\n",
    "            print(\"*\",end=\" \")\n",
    "        else:\n",
    "            print(\" \",end=\" \")\n",
    "    print()"
   ]
  },
  {
   "cell_type": "code",
   "execution_count": 3,
   "id": "cc0a2b5d-333e-4776-9301-bfa9eaeaa32d",
   "metadata": {},
   "outputs": [
    {
     "name": "stdout",
     "output_type": "stream",
     "text": [
      "        * \n",
      "      * * * \n",
      "    * * * * * \n",
      "  * * * * * * * \n",
      "* * * * * * * * * \n"
     ]
    }
   ],
   "source": [
    "for i in range(1,6):\n",
    "    for s in range(1,6-i):\n",
    "        print(\" \",end=\" \")\n",
    "    for j in range(1,i+i):\n",
    "        print(\"*\",end=\" \")\n",
    "    print()"
   ]
  },
  {
   "cell_type": "code",
   "execution_count": 1,
   "id": "7011ddb6-d3d2-415e-a9d9-ce5dee0a6457",
   "metadata": {},
   "outputs": [
    {
     "name": "stdout",
     "output_type": "stream",
     "text": [
      "* * * * * * * * * * * \n",
      "  * * * * * * * * * \n",
      "    * * * * * * * \n",
      "      * * * * * \n",
      "        * * * \n",
      "          * \n"
     ]
    }
   ],
   "source": [
    "for i in range(6,0,-1):\n",
    "    for  s in range(1,7-i):\n",
    "        print(\" \",end=\" \")\n",
    "    for j in range(1,i*2):\n",
    "        print(\"*\",end=\" \")\n",
    "    print()"
   ]
  },
  {
   "cell_type": "code",
   "execution_count": 4,
   "id": "6aea0005-767c-4522-9a32-6d4220b74e8f",
   "metadata": {},
   "outputs": [
    {
     "name": "stdout",
     "output_type": "stream",
     "text": [
      "        * \n",
      "      *   * \n",
      "    *       * \n",
      "  *           * \n",
      "* * * * * * * * * \n"
     ]
    }
   ],
   "source": [
    "for i in range(1,6):\n",
    "    for s in range(1,6-i):\n",
    "        print(\" \",end=\" \")\n",
    "    for j in range(1,i+i):\n",
    "        if( i==5 or j==1  or j==(i+i-1)):\n",
    "            print(\"*\",end=\" \")\n",
    "        else:\n",
    "            print(\" \",end=\" \")\n",
    "    print()"
   ]
  },
  {
   "cell_type": "code",
   "execution_count": 35,
   "id": "728972c6-24b1-4dab-8b07-151dd04f21f9",
   "metadata": {},
   "outputs": [
    {
     "name": "stdout",
     "output_type": "stream",
     "text": [
      "        * \n",
      "      * * * \n",
      "    * * * * * \n",
      "  * * * * * * * \n",
      "* * * * * * * * * \n",
      "* * * * * * * * * \n",
      "  * * * * * * * \n",
      "    * * * * * \n",
      "      * * * \n",
      "        * \n"
     ]
    }
   ],
   "source": [
    "for i in range(1,6):\n",
    "    for s in range(1,6-i):\n",
    "        print(\" \",end=\" \")\n",
    "    for j in range(1,i+i):\n",
    "        print(\"*\",end=\" \")\n",
    "    print()\n",
    "    \n",
    "for i in range(5,0,-1):\n",
    "    for s in range(1,6-i):\n",
    "        print(\" \",end=\" \")\n",
    "    for j in range(1,i+i):\n",
    "        print(\"*\",end=\" \")\n",
    "    print()\n",
    "    "
   ]
  },
  {
   "cell_type": "code",
   "execution_count": 36,
   "id": "b6878fae-b083-4915-ac94-15dc64f806ae",
   "metadata": {},
   "outputs": [
    {
     "name": "stdout",
     "output_type": "stream",
     "text": [
      "1 2 3 4 5 \n",
      "1       5 \n",
      "1       5 \n",
      "1       5 \n",
      "1 2 3 4 5 \n"
     ]
    }
   ],
   "source": [
    "for i in range(1,6):\n",
    "    for j in range(1,6):\n",
    "        if(j==1 or i==1 or i==5 or j==5):\n",
    "            print(j,end=\" \")\n",
    "        else:\n",
    "            print(\" \",end=\" \")\n",
    "    print()"
   ]
  },
  {
   "cell_type": "code",
   "execution_count": 41,
   "id": "b728aa31-f58b-401e-b6ab-68ab625a5973",
   "metadata": {},
   "outputs": [
    {
     "name": "stdout",
     "output_type": "stream",
     "text": [
      "A B C D E \n",
      "A       E \n",
      "A       E \n",
      "A       E \n",
      "A B C D E \n"
     ]
    }
   ],
   "source": [
    "for i in range(1,6):\n",
    "    c = 65\n",
    "    for j in range(1,6):\n",
    "        if(i==1 or i==5 or j==1 or j==5):\n",
    "            print(chr(c),end=\" \")\n",
    "           \n",
    "        else:\n",
    "            print(\" \",end=\" \")\n",
    "        c+=1\n",
    "    print()\n",
    "    "
   ]
  },
  {
   "cell_type": "code",
   "execution_count": 63,
   "id": "5e6ab2fd-e10e-49d1-a334-5c8bab5ee647",
   "metadata": {},
   "outputs": [
    {
     "name": "stdout",
     "output_type": "stream",
     "text": [
      "    1 \n",
      "   1 2 \n",
      "  1 2 3 \n",
      " 1 2 3 4 \n",
      "1 2 3 4 5 \n"
     ]
    }
   ],
   "source": [
    "for i in range(1,6):\n",
    "    for s in range(1,6-i):\n",
    "        print(\" \",end=\"\")\n",
    "    for j in range(1,i+1):\n",
    "        print(j,end=\" \")\n",
    "    print()"
   ]
  },
  {
   "cell_type": "code",
   "execution_count": 70,
   "id": "474c1ce2-4879-40de-8c48-c40e5661675c",
   "metadata": {},
   "outputs": [
    {
     "name": "stdout",
     "output_type": "stream",
     "text": [
      "        * \n",
      "      *   * \n",
      "    *       * \n",
      "  *           * \n",
      "* * * * * * * * * \n"
     ]
    }
   ],
   "source": [
    "for i in range(1,6):\n",
    "    for s in range(1,6-i):\n",
    "        print(\" \",end=\" \")\n",
    "    for j in range(1,i+i):\n",
    "        if(j==1 or i==5 or j==(i+i-1) ):\n",
    "            print(\"*\",end=\" \")\n",
    "        else:\n",
    "            print(\" \",end=\" \")\n",
    "    print()\n"
   ]
  },
  {
   "cell_type": "code",
   "execution_count": 1,
   "id": "9040cbfe-6141-4768-8f9c-588328bfabd5",
   "metadata": {},
   "outputs": [
    {
     "name": "stdout",
     "output_type": "stream",
     "text": [
      "        * \n",
      "      * * * \n",
      "    * * * * * \n",
      "  * * * * * * * \n",
      "* * * * * * * * * \n"
     ]
    }
   ],
   "source": [
    "for i in range(1,6):\n",
    "    for s in range(1,6-i):\n",
    "        print(\" \",end=\" \")\n",
    "    for j in range(1,i+i):\n",
    "        print(\"*\",end=\" \")\n",
    "    print()"
   ]
  },
  {
   "cell_type": "code",
   "execution_count": 16,
   "id": "1188be72-1b83-446c-953c-6f8497c59a54",
   "metadata": {},
   "outputs": [
    {
     "name": "stdout",
     "output_type": "stream",
     "text": [
      "* * * * * * * * * * *  \n",
      "  * * * * * * * * *  \n",
      "    * * * * * * *  \n",
      "      * * * * *  \n",
      "        * * *  \n",
      "          *  \n"
     ]
    }
   ],
   "source": [
    "for i in range(6,0,-1):\n",
    "    for s in range(1,7-i):\n",
    "        print(\" \",end=\" \")\n",
    "    for i in range(1,i+i):\n",
    "        print(\"*\",end=\" \")\n",
    "    print(\" \")\n"
   ]
  },
  {
   "cell_type": "code",
   "execution_count": 21,
   "id": "106bb1cf-4442-40b2-8c1d-f42272a802cf",
   "metadata": {},
   "outputs": [
    {
     "name": "stdout",
     "output_type": "stream",
     "text": [
      "        * \n",
      "      *   * \n",
      "    *       * \n",
      "  *           * \n",
      "* * * * * * * * * \n"
     ]
    }
   ],
   "source": [
    "for i in range(1,6):\n",
    "    for s in range(1,6-i):\n",
    "        print(\" \",end=\" \")\n",
    "    for j in range(1,i+i):\n",
    "        if(j==1 or j==i+i-1 or i==5):\n",
    "            print(\"*\",end=\" \")\n",
    "        else:\n",
    "            print(\" \",end=\" \")\n",
    "            \n",
    "    print()"
   ]
  },
  {
   "cell_type": "code",
   "execution_count": 71,
   "id": "df365c04-9dd5-4052-ab50-7bbd67941ed6",
   "metadata": {},
   "outputs": [
    {
     "name": "stdout",
     "output_type": "stream",
     "text": [
      "* * * * * * * * * * * \n",
      "  *               * \n",
      "    *           * \n",
      "      *       * \n",
      "        *   * \n",
      "          * \n"
     ]
    }
   ],
   "source": [
    "for i in range(6,0,-1):\n",
    "    for s in range(1,7-i):\n",
    "        print(\" \",end=\" \")\n",
    "    for j in range(i+i,1,-1):\n",
    "        if(i==6 or j==i+i or j==2 ):\n",
    "            print(\"*\",end=\" \")\n",
    "        else:\n",
    "            print(\" \",end=\" \")\n",
    "    print()"
   ]
  },
  {
   "cell_type": "code",
   "execution_count": 61,
   "id": "0913f6c9-a8a3-4e64-86a6-2bc60aa0915c",
   "metadata": {},
   "outputs": [
    {
     "name": "stdout",
     "output_type": "stream",
     "text": [
      "        * \n",
      "      *   * \n",
      "    *       * \n",
      "  *           * \n",
      "* * * * * * * * * \n"
     ]
    }
   ],
   "source": [
    "for i in range(1,6):\n",
    "    for s in range(1,6-i):\n",
    "        print(\" \",end=\" \")\n",
    "    for j in range(1,i+i):\n",
    "        if(j==1 or i==5 or j==(i+i-1)):\n",
    "            print(\"*\",end=\" \")\n",
    "        else:\n",
    "            print(\" \",end=\" \")\n",
    "    print()"
   ]
  },
  {
   "cell_type": "code",
   "execution_count": 67,
   "id": "618be74a-36c4-4eb8-8234-64a4e8552e73",
   "metadata": {},
   "outputs": [
    {
     "name": "stdout",
     "output_type": "stream",
     "text": [
      "    1 \n",
      "   1 1 \n",
      "  1   1 \n",
      " 1     1 \n",
      "1       1 \n"
     ]
    }
   ],
   "source": [
    "for i in range(1,6):\n",
    "    for s in range(1,6-i):\n",
    "        print(\" \",end=\"\")\n",
    "    for j in range(1,i+1):\n",
    "        if(j==1 or j==i):\n",
    "            print(\"1\",end=\" \")\n",
    "        else:\n",
    "            print(\" \",end=\" \")\n",
    "    print()"
   ]
  },
  {
   "cell_type": "code",
   "execution_count": 73,
   "id": "43a644a5-2bb1-489e-859e-7a2bbc80a7b0",
   "metadata": {},
   "outputs": [
    {
     "name": "stdout",
     "output_type": "stream",
     "text": [
      "1 2 3 4 5 \n",
      "2     5 \n",
      "3   5 \n",
      "4 5 \n",
      "5 \n"
     ]
    }
   ],
   "source": [
    "for i in range(1,6):\n",
    "    for j in range(1,6-i+1):\n",
    "        if(i==1):\n",
    "            print(j,end=\" \")\n",
    "        elif(j==1):\n",
    "            print(i,end=\" \")\n",
    "        elif(i+j==6):\n",
    "            print(\"5\",end=\" \")\n",
    "        else:\n",
    "            print(\" \",end=\" \")\n",
    "    \n",
    "    print()\n",
    "\n",
    "\n",
    "# second method\n",
    "\n",
    "# for i in range(1,6):\n",
    "#     c= i\n",
    "#     for j in range(1,6-i+1):\n",
    "#         if(j==1 or i==1 or j==7-i-1):\n",
    "#             print(c,end=\" \")\n",
    "#             c+=1\n",
    "#         else:\n",
    "#             print(\" \",end=\" \")\n",
    "#             c+=1\n",
    "#     print()\n",
    "    "
   ]
  },
  {
   "cell_type": "code",
   "execution_count": 3,
   "id": "409dd50a-1cc5-44fd-bf72-c4dc92780248",
   "metadata": {},
   "outputs": [
    {
     "name": "stdout",
     "output_type": "stream",
     "text": [
      "        1 \n",
      "      1 2 3 \n",
      "    1 2 3 4 5 \n",
      "  1 2 3 4 5 6 7 \n",
      "1 2 3 4 5 6 7 8 9 \n",
      "  1 2 3 4 5 6 7 \n",
      "    1 2 3 4 5 \n",
      "      1 2 3 \n",
      "        1 \n"
     ]
    }
   ],
   "source": [
    "for i in range(1,5):\n",
    "    for s in range(1,6-i):\n",
    "        print(\" \",end=\" \")\n",
    "    for j in range(1,i+i):\n",
    "        print(j,end=\" \")\n",
    "    print()\n",
    "for i in range(5,0,-1):\n",
    "    for s in range(1,6-i):\n",
    "        print(\" \",end=\" \")\n",
    "    for j in range(1,i+i):\n",
    "        print(j,end=\" \")\n",
    "    print()\n",
    "    \n"
   ]
  },
  {
   "cell_type": "code",
   "execution_count": 8,
   "id": "6aa47cd7-f0c0-40dc-8660-1210cdea7d5c",
   "metadata": {},
   "outputs": [
    {
     "name": "stdout",
     "output_type": "stream",
     "text": [
      "1 2 3 4 5 6 7 8 9 \n",
      "  1 2 3 4 5 6 7 \n",
      "    1 2 3 4 5 \n",
      "      1 2 3 \n",
      "        1 \n",
      "      1 2 3 \n",
      "    1 2 3 4 5 \n",
      "  1 2 3 4 5 6 7 \n",
      "1 2 3 4 5 6 7 8 9 \n"
     ]
    }
   ],
   "source": [
    "for i in range(5,0,-1):\n",
    "    for s in range(1,6-i):\n",
    "        print(\" \",end=\" \")\n",
    "    for j in range(1,i+i):\n",
    "        print(j,end=\" \")\n",
    "    print()\n",
    "for i in range(2,6):\n",
    "    for s in range(1,6-i):\n",
    "        print(\" \",end=\" \")\n",
    "    for j in range(1,i+i):\n",
    "        print(j,end=\" \")\n",
    "    print()\n",
    "    "
   ]
  },
  {
   "cell_type": "code",
   "execution_count": 7,
   "id": "8cf4f662-d5b7-4cb5-8556-feace1811ea9",
   "metadata": {},
   "outputs": [
    {
     "name": "stdout",
     "output_type": "stream",
     "text": [
      "A B C D E F G H I \n",
      "  A B C D E F G \n",
      "    A B C D E \n",
      "      A B C \n",
      "        A \n",
      "      A B C \n",
      "    A B C D E \n",
      "  A B C D E F G \n",
      "A B C D E F G H I \n"
     ]
    }
   ],
   "source": [
    "for i in range(5,0,-1):\n",
    "    c = 65\n",
    "    for s in range(1,6-i):\n",
    "        print(\" \",end=\" \")\n",
    "    for j in range(1,i+i):\n",
    "        print(chr(c),end=\" \")\n",
    "        c+=1\n",
    "    print()\n",
    "for i in range(2,6):\n",
    "    c= 65\n",
    "    for s in range(1,6-i):\n",
    "        print(\" \",end=\" \")\n",
    "    for j in range(1,i+i):\n",
    "        print(chr(c),end=\" \")\n",
    "        c+=1\n",
    "    print()\n",
    "    "
   ]
  },
  {
   "cell_type": "code",
   "execution_count": 9,
   "id": "47f8b3d6-daa0-4b79-b995-16802df36ae9",
   "metadata": {},
   "outputs": [
    {
     "name": "stdout",
     "output_type": "stream",
     "text": [
      "        * \n",
      "      * * * \n",
      "    *   *   * \n",
      "  *     *     * \n",
      "* * * * * * * * * \n"
     ]
    }
   ],
   "source": [
    "for i in range(1,6):\n",
    "    for s in range(1,6-i):\n",
    "        print(\" \",end=\" \")\n",
    "    for j in range(1,i+i):\n",
    "        if(j==1 or i==5 or j==i+i-1 or j==i):\n",
    "            print(\"*\",end=\" \")\n",
    "        else:\n",
    "            print(\" \",end=\" \")\n",
    "    print()"
   ]
  },
  {
   "cell_type": "code",
   "execution_count": 10,
   "id": "60bc8d0c-6a09-4b1a-b52b-0c1f3db07e65",
   "metadata": {},
   "outputs": [
    {
     "name": "stdout",
     "output_type": "stream",
     "text": [
      "        * \n",
      "      *   * \n",
      "    *       * \n",
      "  *           * \n",
      "*               * \n",
      "*               * \n",
      "  *           * \n",
      "    *       * \n",
      "      *   * \n",
      "        * \n"
     ]
    }
   ],
   "source": [
    "for i in range(1,6):\n",
    "    for s in range(1,6-i):\n",
    "        print(\" \",end=\" \")\n",
    "    for j in range(1,i+i):\n",
    "        if(j==1  or j==i+i-1):\n",
    "            print(\"*\",end=\" \")\n",
    "        else:\n",
    "            print(\" \",end=\" \")\n",
    "    print()\n",
    "\n",
    "for i in range(5,0,-1):\n",
    "    for s in range(1,6-i):\n",
    "        print(\" \",end=\" \")\n",
    "    for j in range(1,i+i):\n",
    "        if(j==1  or j==i+i-1):\n",
    "            print(\"*\",end=\" \")\n",
    "        else:\n",
    "            print(\" \",end=\" \")\n",
    "    print()"
   ]
  },
  {
   "cell_type": "code",
   "execution_count": 11,
   "id": "86d718b7-6000-406e-8d76-487e327c0064",
   "metadata": {},
   "outputs": [
    {
     "name": "stdout",
     "output_type": "stream",
     "text": [
      "        A \n",
      "      A   C \n",
      "    A       E \n",
      "  A           G \n",
      "A               I \n",
      "  A           G \n",
      "    A       E \n",
      "      A   C \n",
      "        A \n"
     ]
    }
   ],
   "source": [
    "for i in range(1,5):\n",
    "    c =65\n",
    "    for s in range(1,6-i):\n",
    "        print(\" \",end=\" \")\n",
    "    for j in range(1,i+i):\n",
    "        if(j==1 or  j==i+i-1):\n",
    "            print(chr(c),end=\" \")\n",
    "           \n",
    "           \n",
    "        else:\n",
    "            print(\" \",end=\" \")\n",
    "        c+=1\n",
    "    print()\n",
    "\n",
    "for i in range(5,0,-1):\n",
    "    c= 65\n",
    "    for s in range(1,6-i):\n",
    "        print(\" \",end=\" \")\n",
    "    for j in range(1,i+i):\n",
    "        if(j==1  or j==i+i-1):\n",
    "            print(chr(c),end=\" \")\n",
    "        else:\n",
    "            print(\" \",end=\" \")\n",
    "        c+=1\n",
    "    print()"
   ]
  },
  {
   "cell_type": "code",
   "execution_count": null,
   "id": "71652dbf-d72d-4d08-8a09-fd57cc9a78a6",
   "metadata": {},
   "outputs": [],
   "source": []
  }
 ],
 "metadata": {
  "kernelspec": {
   "display_name": "Python 3 (ipykernel)",
   "language": "python",
   "name": "python3"
  },
  "language_info": {
   "codemirror_mode": {
    "name": "ipython",
    "version": 3
   },
   "file_extension": ".py",
   "mimetype": "text/x-python",
   "name": "python",
   "nbconvert_exporter": "python",
   "pygments_lexer": "ipython3",
   "version": "3.12.4"
  }
 },
 "nbformat": 4,
 "nbformat_minor": 5
}
