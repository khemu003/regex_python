{
 "cells": [
  {
   "cell_type": "markdown",
   "id": "e5495e82-1bd7-4c36-af1b-50ffc8f7b0f3",
   "metadata": {},
   "source": [
    "# File handling"
   ]
  },
  {
   "cell_type": "code",
   "execution_count": 3,
   "id": "ce4fa4e6-550f-4264-b68e-76b9a62acd7d",
   "metadata": {},
   "outputs": [
    {
     "name": "stdout",
     "output_type": "stream",
     "text": [
      "hey Regex software \n",
      "i am khemraj mangal.\n"
     ]
    }
   ],
   "source": [
    "file = open(\"khemu.txt\",\"r\")\n",
    "content = file.read()\n",
    "print(content)\n",
    "file.close()"
   ]
  },
  {
   "cell_type": "code",
   "execution_count": 34,
   "id": "cb3275cc-f9bc-422c-bca4-968f17e70b30",
   "metadata": {},
   "outputs": [
    {
     "name": "stdout",
     "output_type": "stream",
     "text": [
      "hello\n",
      "my name is khemraj.\n",
      "\n"
     ]
    }
   ],
   "source": [
    "file_path = \"C:/Users/Khemr/OneDrive/Desktop/text1.txt\"\n",
    "file = open(file_path,\"r\")\n",
    "content = file.read()\n",
    "print(content)\n",
    "file.close()"
   ]
  },
  {
   "cell_type": "code",
   "execution_count": 6,
   "id": "1a6614ae-296d-412d-b1ae-a48277224f62",
   "metadata": {},
   "outputs": [],
   "source": [
    "file = open(\"khemu.txt\",\"w\")\n",
    "file.write(\"hello uesrs\")\n",
    "file.close()"
   ]
  },
  {
   "cell_type": "code",
   "execution_count": 13,
   "id": "2e339caa-abb4-4d0e-acfe-7e01f2426827",
   "metadata": {},
   "outputs": [
    {
     "name": "stdout",
     "output_type": "stream",
     "text": [
      "hello uesrs\n",
      "\n"
     ]
    }
   ],
   "source": [
    "file = open(\"khemu.txt\",\"r+\")\n",
    "content = file.read()\n",
    "print(content)\n",
    "file.write(\"\\nwrite something\")\n",
    "file.close()"
   ]
  },
  {
   "cell_type": "code",
   "execution_count": 14,
   "id": "4029aa70-496f-46f0-9a9f-86d2b5e0dfec",
   "metadata": {},
   "outputs": [
    {
     "name": "stdout",
     "output_type": "stream",
     "text": [
      "\n"
     ]
    }
   ],
   "source": [
    "file = open(\"khemu.txt\",\"w+\")\n",
    "file.write(\"\\nmy name is khemu.\")\n",
    "print(file.read())\n",
    "file.close()"
   ]
  },
  {
   "cell_type": "code",
   "execution_count": 15,
   "id": "7463dd99-2eea-4930-a2a0-98be013968fc",
   "metadata": {},
   "outputs": [
    {
     "name": "stdout",
     "output_type": "stream",
     "text": [
      "\n",
      "my name is khemu.\n"
     ]
    }
   ],
   "source": [
    "with open(\"khemu.txt\",\"r+\") as file:\n",
    "    content = file.read()\n",
    "print(content)"
   ]
  },
  {
   "cell_type": "code",
   "execution_count": 19,
   "id": "be78491f-8fa1-4b8a-a62b-9a5ed8a48a87",
   "metadata": {},
   "outputs": [
    {
     "name": "stdout",
     "output_type": "stream",
     "text": [
      "\n",
      "\n",
      "my name is khemu.\n"
     ]
    }
   ],
   "source": [
    "with open(\"khemu.txt\",\"r+\") as file:\n",
    "    print(file.readline())\n",
    "    print(file.readline())"
   ]
  },
  {
   "cell_type": "code",
   "execution_count": 17,
   "id": "3f1a2f9d-3ac1-404e-8612-013c4f0b1084",
   "metadata": {},
   "outputs": [
    {
     "name": "stdout",
     "output_type": "stream",
     "text": [
      "\n",
      "\n",
      "my name is khemu.\n"
     ]
    }
   ],
   "source": [
    "with open(\"khemu.txt\",\"r+\") as file:\n",
    "    for i in file:\n",
    "        print(i)\n"
   ]
  },
  {
   "cell_type": "code",
   "execution_count": 20,
   "id": "4500d794-5cf4-4e70-a828-d3b9e1decab8",
   "metadata": {},
   "outputs": [
    {
     "name": "stdout",
     "output_type": "stream",
     "text": [
      "['\\n', 'my name is khemu.']\n"
     ]
    }
   ],
   "source": [
    "with open(\"khemu.txt\",\"r+\") as file:\n",
    "    print(file.readlines())"
   ]
  },
  {
   "cell_type": "code",
   "execution_count": 21,
   "id": "01b1860b-1de5-4229-857a-9cf6fa7833dc",
   "metadata": {},
   "outputs": [
    {
     "name": "stdout",
     "output_type": "stream",
     "text": [
      "['\\n']\n",
      "['my', 'name', 'is', 'khemu.']\n"
     ]
    }
   ],
   "source": [
    "with open(\"khemu.txt\",\"r+\") as file:\n",
    "    mylist = file.readlines()\n",
    "    for line in mylist:\n",
    "        print(line.split(\" \"))\n"
   ]
  },
  {
   "cell_type": "code",
   "execution_count": 22,
   "id": "f9eb6163-6baf-4b42-8f61-0029d2fee286",
   "metadata": {},
   "outputs": [
    {
     "name": "stdout",
     "output_type": "stream",
     "text": [
      "0\n",
      "\n",
      "17\n"
     ]
    }
   ],
   "source": [
    "file = open(\"khemu.txt\",\"w+\")\n",
    "content = file.read()\n",
    "print(file.tell())\n",
    "print(content)\n",
    "file.write(\"\\nwrite something\")\n",
    "print(file.tell())\n",
    "file.close()"
   ]
  },
  {
   "cell_type": "code",
   "execution_count": null,
   "id": "c0da06b7-85ca-41ae-804e-aed345776778",
   "metadata": {},
   "outputs": [],
   "source": []
  },
  {
   "cell_type": "code",
   "execution_count": null,
   "id": "2a987e75-fe69-4e46-ac1c-abc733a56e4d",
   "metadata": {},
   "outputs": [],
   "source": []
  },
  {
   "cell_type": "code",
   "execution_count": null,
   "id": "76b9c02f-1a09-4bc0-8ebb-97f7c360220b",
   "metadata": {},
   "outputs": [],
   "source": []
  },
  {
   "cell_type": "markdown",
   "id": "3f30fbd8-ebb3-4daf-94a9-9805f3e14801",
   "metadata": {},
   "source": [
    "# Excepation Handling"
   ]
  },
  {
   "cell_type": "code",
   "execution_count": 23,
   "id": "199cb9a0-22e5-448c-a072-d0e999833d18",
   "metadata": {},
   "outputs": [
    {
     "name": "stdout",
     "output_type": "stream",
     "text": [
      "hello\n",
      "Error find in try block.\n"
     ]
    }
   ],
   "source": [
    "try:\n",
    "    print(\"hello\")\n",
    "    num\n",
    "    print(\"hey\")\n",
    "except:\n",
    "    print(\"Error find in try block.\")"
   ]
  },
  {
   "cell_type": "code",
   "execution_count": 29,
   "id": "25a1035b-0103-4b11-9ed7-de61cff9b29b",
   "metadata": {},
   "outputs": [
    {
     "name": "stdout",
     "output_type": "stream",
     "text": [
      "hello\n",
      "Error find in try block. division by zero\n"
     ]
    }
   ],
   "source": [
    "try:\n",
    "    print(\"hello\")\n",
    "    str = \"hey\"\n",
    "    1/0\n",
    "    str+10\n",
    "    print(\"hey\")\n",
    "except (NameError, TypeError) as e:\n",
    "    print(\"Error find in try block.\",e)\n",
    "except Exception as e:\n",
    "    print(\"Error find in try block.\",e)"
   ]
  },
  {
   "cell_type": "code",
   "execution_count": 31,
   "id": "5550305c-607a-4844-8b56-cb956d84644e",
   "metadata": {},
   "outputs": [
    {
     "name": "stdout",
     "output_type": "stream",
     "text": [
      "hello\n",
      "error find in nested try\n",
      "hey\n"
     ]
    }
   ],
   "source": [
    "try:\n",
    "    print(\"hello\")\n",
    "    str = \"hey\"\n",
    "    try:\n",
    "        str+10\n",
    "    except:\n",
    "        print(\"error find in nested try\")\n",
    "    print(\"hey\")\n",
    "except:\n",
    "    print(\"Error find in try block.\")"
   ]
  },
  {
   "cell_type": "code",
   "execution_count": 32,
   "id": "51ec4c27-6bb9-487a-9b91-31a427099b4c",
   "metadata": {},
   "outputs": [
    {
     "name": "stdout",
     "output_type": "stream",
     "text": [
      "hello\n",
      "Error find in try block.\n",
      "finally always run!\n"
     ]
    }
   ],
   "source": [
    "try:\n",
    "    print(\"hello\")\n",
    "    str = \"hey\"\n",
    "    str+10\n",
    "    print(\"hey\")\n",
    "except:\n",
    "    print(\"Error find in try block.\")\n",
    "finally:\n",
    "    print(\"finally always run!\")"
   ]
  },
  {
   "cell_type": "code",
   "execution_count": null,
   "id": "312d9d7d-c079-4718-b2d3-1b8b338cbdf6",
   "metadata": {},
   "outputs": [],
   "source": []
  }
 ],
 "metadata": {
  "kernelspec": {
   "display_name": "Python 3 (ipykernel)",
   "language": "python",
   "name": "python3"
  },
  "language_info": {
   "codemirror_mode": {
    "name": "ipython",
    "version": 3
   },
   "file_extension": ".py",
   "mimetype": "text/x-python",
   "name": "python",
   "nbconvert_exporter": "python",
   "pygments_lexer": "ipython3",
   "version": "3.11.7"
  }
 },
 "nbformat": 4,
 "nbformat_minor": 5
}
