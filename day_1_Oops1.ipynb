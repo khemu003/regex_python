{
 "cells": [
  {
   "cell_type": "code",
   "execution_count": 2,
   "id": "c547a3cb-f5df-4d89-96e7-9874666c2ff2",
   "metadata": {},
   "outputs": [
    {
     "name": "stdout",
     "output_type": "stream",
     "text": [
      "Total add is : 5\n",
      "Total sub is : -1\n"
     ]
    }
   ],
   "source": [
    "class Math:\n",
    "    \n",
    "    school = 'MPS'\n",
    "\n",
    "    def __init__(self, num1, num2):\n",
    "        self.num1 = num1\n",
    "        self.num2 = num2\n",
    "    \n",
    "    def add(self):\n",
    "        print(\"Total add is :\",self.num1+self.num2)\n",
    "\n",
    "    def sub(self):\n",
    "        print(\"Total sub is :\",self.num1-self.num2)\n",
    "\n",
    "\n",
    "a = Math(2,3)\n",
    "a.add()\n",
    "a.sub()"
   ]
  },
  {
   "cell_type": "code",
   "execution_count": 3,
   "id": "f8dee6d1-dc92-4e9b-b997-b461ee114c6c",
   "metadata": {},
   "outputs": [
    {
     "name": "stdout",
     "output_type": "stream",
     "text": [
      "Total add is : 5\n",
      "Total sub is : 2\n"
     ]
    }
   ],
   "source": [
    "class Math:\n",
    "    \n",
    "    school = 'MPS'\n",
    "    \n",
    "    def add(self, num1, num2):\n",
    "        print(\"Total add is :\",num1+num2)\n",
    "\n",
    "    def sub(self, num1, num2):\n",
    "        print(\"Total sub is :\",num1-num2)\n",
    "\n",
    "\n",
    "a = Math()\n",
    "a.add(2,3)\n",
    "a.sub(4,2)"
   ]
  },
  {
   "cell_type": "code",
   "execution_count": null,
   "id": "65ea5af2-934f-4c7d-90bb-370de870b161",
   "metadata": {},
   "outputs": [],
   "source": [
    "class Math:\n",
    "    \n",
    "    school = 'MPS'\n",
    "\n",
    "    def __init__(self, num1, num2):\n",
    "        self.num1 = num1\n",
    "        self.num2 = num2\n",
    "    \n",
    "    def add(self):\n",
    "        print(\"Total add is :\",self.num1+self.num2)\n",
    "\n",
    "    def sub(self):\n",
    "        print(\"Total sub is :\",self.num1-self.num2)\n",
    "\n",
    "\n",
    "a = Math(2,3)\n",
    "a.add()\n",
    "a.sub()"
   ]
  },
  {
   "cell_type": "code",
   "execution_count": 7,
   "id": "751a9668-1299-41b0-9a12-4a75f3735400",
   "metadata": {},
   "outputs": [
    {
     "name": "stdout",
     "output_type": "stream",
     "text": [
      "Buddy say woof!\n",
      "Golden Retriever this is breed\n",
      "Max say woof!\n",
      "Labrador this is breed\n"
     ]
    }
   ],
   "source": [
    "class Dog:\n",
    "\n",
    "    def __init__(self, name, breed):\n",
    "        self.name = name\n",
    "        self.breed = breed\n",
    "\n",
    "    def bark(self):\n",
    "        print(f\"{self.name} say woof!\")\n",
    "        print(f\"{self.breed} this is breed\")\n",
    "\n",
    "dog1 = Dog( \"Buddy\", \"Golden Retriever\")\n",
    "dog2 = Dog(\"Max\", \"Labrador\")\n",
    "# Access attributes and methods\n",
    "\n",
    "dog1.bark()\n",
    "dog2.bark()"
   ]
  },
  {
   "cell_type": "code",
   "execution_count": null,
   "id": "4e7e37c7-b19a-4b7d-a867-f23f655a27ef",
   "metadata": {},
   "outputs": [],
   "source": []
  }
 ],
 "metadata": {
  "kernelspec": {
   "display_name": "Python 3 (ipykernel)",
   "language": "python",
   "name": "python3"
  },
  "language_info": {
   "codemirror_mode": {
    "name": "ipython",
    "version": 3
   },
   "file_extension": ".py",
   "mimetype": "text/x-python",
   "name": "python",
   "nbconvert_exporter": "python",
   "pygments_lexer": "ipython3",
   "version": "3.11.7"
  }
 },
 "nbformat": 4,
 "nbformat_minor": 5
}
