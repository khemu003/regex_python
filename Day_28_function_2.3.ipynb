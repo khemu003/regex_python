{
 "cells": [
  {
   "cell_type": "code",
   "execution_count": null,
   "id": "59fb07a7-089e-4b6b-bd4e-9c3e10a3eb09",
   "metadata": {},
   "outputs": [],
   "source": [
    "# first class function"
   ]
  },
  {
   "cell_type": "code",
   "execution_count": 2,
   "id": "ac15dff6-aa50-4408-8d3f-64211edd3365",
   "metadata": {},
   "outputs": [
    {
     "name": "stdout",
     "output_type": "stream",
     "text": [
      "20 100\n"
     ]
    }
   ],
   "source": [
    "def square(x):\n",
    "    return x*x\n",
    "\n",
    "def cube(y,z):\n",
    "    print(y,z)\n",
    "\n",
    "\n",
    "cube(20,square(10))"
   ]
  },
  {
   "cell_type": "code",
   "execution_count": 8,
   "id": "1a9e391a-60e6-4a7e-83f2-f604b00f7620",
   "metadata": {},
   "outputs": [
    {
     "name": "stdout",
     "output_type": "stream",
     "text": [
      "20 25\n"
     ]
    }
   ],
   "source": [
    "def square(x):\n",
    "    return x*x\n",
    "\n",
    "def cube(y,z):\n",
    "    \n",
    "    print(y,z(5))\n",
    "\n",
    "\n",
    "cube(20,square)"
   ]
  },
  {
   "cell_type": "code",
   "execution_count": 9,
   "id": "6599f181-107f-4c78-812c-9d5a5ce47bbf",
   "metadata": {},
   "outputs": [
    {
     "name": "stdout",
     "output_type": "stream",
     "text": [
      "20 400\n"
     ]
    }
   ],
   "source": [
    "def square(x):\n",
    "    return x*x\n",
    "\n",
    "def cube(y,z):\n",
    "    \n",
    "    print(y,z(y))\n",
    "\n",
    "\n",
    "cube(20,square)"
   ]
  },
  {
   "cell_type": "code",
   "execution_count": 20,
   "id": "c416683f-46cd-45c5-bf17-c83f19c749fd",
   "metadata": {},
   "outputs": [
    {
     "name": "stdout",
     "output_type": "stream",
     "text": [
      "125\n"
     ]
    }
   ],
   "source": [
    "def square(x):\n",
    "    return x*x\n",
    "\n",
    "def cube(y,z):\n",
    "    \n",
    "    print(y * z(y))\n",
    "\n",
    "\n",
    "cube(5,square)"
   ]
  },
  {
   "cell_type": "code",
   "execution_count": 18,
   "id": "b9bb2488-b3d6-4848-a21f-21cabea3cf95",
   "metadata": {},
   "outputs": [
    {
     "name": "stdout",
     "output_type": "stream",
     "text": [
      "20 25\n"
     ]
    }
   ],
   "source": [
    "def square(x):\n",
    "    return x*x\n",
    "\n",
    "def cube(y,z,a):\n",
    "    \n",
    "    print(y,z(a))\n",
    "\n",
    "\n",
    "cube(20,square,5)"
   ]
  },
  {
   "cell_type": "code",
   "execution_count": 21,
   "id": "ffb528b8-3c15-4d7b-9e95-f060bd1d6942",
   "metadata": {},
   "outputs": [],
   "source": [
    "# high order function"
   ]
  },
  {
   "cell_type": "markdown",
   "id": "242fba95-1bf0-4c4a-acc3-f54047aad737",
   "metadata": {},
   "source": [
    "# lambda function"
   ]
  },
  {
   "cell_type": "code",
   "execution_count": 23,
   "id": "86cf934c-3671-4f18-995f-688ed0076ce1",
   "metadata": {},
   "outputs": [],
   "source": [
    "# lamba function => functional programming\n",
    "# annoymous function \n",
    "# lambda keyword\n",
    "\n",
    "lambda parameter1,2,..  :expression"
   ]
  },
  {
   "cell_type": "code",
   "execution_count": 24,
   "id": "878abb72-bf7e-40e7-800d-b8aaac3b1fa9",
   "metadata": {},
   "outputs": [
    {
     "name": "stdout",
     "output_type": "stream",
     "text": [
      "20\n"
     ]
    }
   ],
   "source": [
    "out  = lambda num : num*2\n",
    "\n",
    "print(out(10))"
   ]
  },
  {
   "cell_type": "code",
   "execution_count": 26,
   "id": "e8d370a8-3b8e-4692-b316-508c4a6c6a28",
   "metadata": {},
   "outputs": [
    {
     "name": "stdout",
     "output_type": "stream",
     "text": [
      "<function <lambda> at 0x000001C0B25DA200>\n",
      "40\n"
     ]
    }
   ],
   "source": [
    "out  = lambda num ,num2: num + num2\n",
    "\n",
    "print(out)\n",
    "print(out(10,30))"
   ]
  },
  {
   "cell_type": "code",
   "execution_count": 33,
   "id": "0d42db4a-455d-477e-a875-9f4700410094",
   "metadata": {},
   "outputs": [
    {
     "name": "stdout",
     "output_type": "stream",
     "text": [
      "DG\n"
     ]
    }
   ],
   "source": [
    "out = lambda s1,s2 : (s1[0]+s2[0])\n",
    "\n",
    "print(out(\"Deepak\",\"Gupta\"))"
   ]
  },
  {
   "cell_type": "code",
   "execution_count": 34,
   "id": "b27f2581-5f56-477c-9077-ac57fc2171ac",
   "metadata": {},
   "outputs": [],
   "source": [
    "# map function\n",
    "map is basically a generator function"
   ]
  },
  {
   "cell_type": "code",
   "execution_count": 38,
   "id": "2481acf9-bbeb-466d-ac5f-c663f39d6925",
   "metadata": {},
   "outputs": [
    {
     "name": "stdout",
     "output_type": "stream",
     "text": [
      "3\n",
      "5\n"
     ]
    }
   ],
   "source": [
    "mylist = [\"hey\",\"hello\"]\n",
    "\n",
    "x = map(len,mylist)\n",
    "print(next(x))\n",
    "print(next(x))\n"
   ]
  },
  {
   "cell_type": "code",
   "execution_count": 43,
   "id": "bd9b75e0-2322-4c1b-80f2-3de24b66a234",
   "metadata": {},
   "outputs": [
    {
     "name": "stdout",
     "output_type": "stream",
     "text": [
      "[3, 5]\n"
     ]
    }
   ],
   "source": [
    "mylist = [\"hey\",\"hello\"]\n",
    "\n",
    "x = list(map(len,mylist))\n",
    "print(x)\n"
   ]
  },
  {
   "cell_type": "code",
   "execution_count": 44,
   "id": "88e53796-b8f8-4eaf-9e76-34f372315a9b",
   "metadata": {},
   "outputs": [
    {
     "data": {
      "text/plain": [
       "[3, 5]"
      ]
     },
     "execution_count": 44,
     "metadata": {},
     "output_type": "execute_result"
    }
   ],
   "source": [
    "mylist = [\"hey\",\"hello\"]\n",
    "\n",
    "list(map(len,mylist))\n",
    "\n"
   ]
  },
  {
   "cell_type": "code",
   "execution_count": null,
   "id": "59c47b53-aac7-4061-978f-cf273394e7ff",
   "metadata": {},
   "outputs": [],
   "source": []
  }
 ],
 "metadata": {
  "kernelspec": {
   "display_name": "Python 3 (ipykernel)",
   "language": "python",
   "name": "python3"
  },
  "language_info": {
   "codemirror_mode": {
    "name": "ipython",
    "version": 3
   },
   "file_extension": ".py",
   "mimetype": "text/x-python",
   "name": "python",
   "nbconvert_exporter": "python",
   "pygments_lexer": "ipython3",
   "version": "3.12.4"
  }
 },
 "nbformat": 4,
 "nbformat_minor": 5
}
