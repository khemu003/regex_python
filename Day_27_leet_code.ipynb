{
 "cells": [
  {
   "cell_type": "markdown",
   "id": "b5f24e1f-99fc-44f4-b13c-c3b38edf2e96",
   "metadata": {},
   "source": [
    "# leet code # 28"
   ]
  },
  {
   "cell_type": "code",
   "execution_count": 1,
   "id": "71616a5b-bc0d-4f98-a9aa-9de20234cbba",
   "metadata": {},
   "outputs": [
    {
     "name": "stdout",
     "output_type": "stream",
     "text": [
      "1\n"
     ]
    }
   ],
   "source": [
    "haystack = \"hello\"\n",
    "needle = \"ell\"\n",
    "x  = len(needle)\n",
    "for i in range(len(haystack)):\n",
    "    if(haystack[i:i+x]==needle):\n",
    "        print(i)\n",
    "        break\n",
    "else:\n",
    "    print(-1)\n",
    "    # break"
   ]
  },
  {
   "cell_type": "markdown",
   "id": "9bc0277c-7053-4417-89b5-853b1d2132c7",
   "metadata": {},
   "source": [
    "# leet code #13 Roman to integer "
   ]
  },
  {
   "cell_type": "code",
   "execution_count": 2,
   "id": "534ac0ab-73ac-483b-bf6e-959a1cb2090e",
   "metadata": {},
   "outputs": [
    {
     "name": "stdout",
     "output_type": "stream",
     "text": [
      "1994\n"
     ]
    }
   ],
   "source": [
    "mydict = {\n",
    "        \"I\":1,\n",
    "        \"V\":5,\n",
    "        \"X\" :10,\n",
    "        \"L\" :50,\n",
    "        \"C\" :100,\n",
    "        \"D\" :500,\n",
    "        \"M\": 1000,\n",
    "}\n",
    "\n",
    "s = \"MCMXCIV\"\n",
    "# s = \"CM\"\n",
    "sum = 0\n",
    "for i in range(len(s)):\n",
    "    if(i+1<len(s) and mydict[s[i]]< mydict[s[i+1]]):\n",
    "        sum = sum - mydict[s[i]]\n",
    "        # print(sum)\n",
    "    else:\n",
    "        sum = sum + mydict[s[i]]\n",
    "\n",
    "print(sum)"
   ]
  },
  {
   "cell_type": "markdown",
   "id": "09ddbd2e-7efb-469e-9e89-6cd9f77e7aaf",
   "metadata": {},
   "source": [
    "# ISOMORPHIC LEET CODE   #205"
   ]
  },
  {
   "cell_type": "code",
   "execution_count": 3,
   "id": "1c0e1f28-5f9a-4a6d-ac47-f59199131f95",
   "metadata": {},
   "outputs": [
    {
     "name": "stdout",
     "output_type": "stream",
     "text": [
      "Not\n"
     ]
    }
   ],
   "source": [
    "a = \"badc\"\n",
    "b = \"baba\"\n",
    "\n",
    "dict = {}\n",
    "dict_b = {}\n",
    "x = 0\n",
    "\n",
    "if(len(a)==len(b)):\n",
    "    for i in range(0,len(a)):\n",
    "        if(a[i] in dict and dict[a[i]] != b[i]):\n",
    "            x = 1\n",
    "            break\n",
    "            \n",
    "        if(b[i] in dict_b and dict_b[b[i]] != a[i]):\n",
    "            x = 1\n",
    "            break\n",
    "        dict[a[i]] = b[i]\n",
    "        dict_b[b[i]] = a[i]\n",
    "else:\n",
    "    x =1\n",
    "\n",
    "if(x==0 ):\n",
    "    print(\"Iso\")\n",
    "else:\n",
    "    print(\"Not\")"
   ]
  },
  {
   "cell_type": "markdown",
   "id": "ec642648-231f-4a40-ac54-2329068454fd",
   "metadata": {},
   "source": [
    "# Valid Anagram leet code "
   ]
  },
  {
   "cell_type": "code",
   "execution_count": 4,
   "id": "444bc7f2-ab83-4d19-b23a-6f4e60fae0e2",
   "metadata": {},
   "outputs": [
    {
     "name": "stdout",
     "output_type": "stream",
     "text": [
      "{'a': 3, 'n': 1, 'g': 1, 'r': 1, 'm': 1}\n",
      "{'g': 1, 'r': 1, 'a': 3, 'm': 1, 'n': 1}\n",
      "anagram\n"
     ]
    }
   ],
   "source": [
    "s1 = \"anagram\"\n",
    "s2  =\"gramana\"\n",
    "\n",
    "s1_dict = {}\n",
    "s2_dict = {}\n",
    "\n",
    "for i in range(len(s1)):\n",
    "    if( s1[i] not in s1_dict):\n",
    "        s1_dict[s1[i]] = 1\n",
    "    else:\n",
    "        s1_dict[s1[i]] = s1_dict[s1[i]] + 1\n",
    "\n",
    "print(s1_dict)\n",
    "\n",
    "\n",
    "for i in range(len(s2)):\n",
    "    if s2[i] not in s2_dict:\n",
    "        s2_dict[s2[i]] = 1\n",
    "    else:\n",
    "        s2_dict[s2[i]] = s2_dict[s2[i]] + 1\n",
    "\n",
    "\n",
    "print(s2_dict)\n",
    "\n",
    "if(s1_dict == s2_dict):\n",
    "    print(\"anagram\")\n",
    "else:\n",
    "    print(\"Not anagram\")"
   ]
  },
  {
   "cell_type": "code",
   "execution_count": null,
   "id": "db0186a1-be17-4062-99db-c1fbbe49841d",
   "metadata": {},
   "outputs": [],
   "source": []
  }
 ],
 "metadata": {
  "kernelspec": {
   "display_name": "Python 3 (ipykernel)",
   "language": "python",
   "name": "python3"
  },
  "language_info": {
   "codemirror_mode": {
    "name": "ipython",
    "version": 3
   },
   "file_extension": ".py",
   "mimetype": "text/x-python",
   "name": "python",
   "nbconvert_exporter": "python",
   "pygments_lexer": "ipython3",
   "version": "3.12.4"
  }
 },
 "nbformat": 4,
 "nbformat_minor": 5
}
