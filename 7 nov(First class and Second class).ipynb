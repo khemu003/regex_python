{
 "cells": [
  {
   "cell_type": "markdown",
   "id": "cbb03c91-3754-4858-9dcd-7490cd3d4b20",
   "metadata": {},
   "source": [
    "# First class and Second class"
   ]
  },
  {
   "cell_type": "markdown",
   "id": "a6789775-3f81-4dcb-8d90-f73909ed1a94",
   "metadata": {},
   "source": [
    "## First - class function\n",
    "* A fisst class functions means that functions in python are treated as first-class citizens meaning.\n",
    "* Functions can be passed as argument to other functions.\n",
    "* Functions can be returned from other functions.\n",
    "* Functions can be assigned to variables.\n",
    "* Functions can be stroed in data sturctures(like lists, dict, etc.)"
   ]
  },
  {
   "cell_type": "code",
   "execution_count": 1,
   "id": "cb71ad08-a4a2-48ce-80a0-b50e454fa380",
   "metadata": {},
   "outputs": [
    {
     "name": "stdout",
     "output_type": "stream",
     "text": [
      "hello, sam!\n"
     ]
    }
   ],
   "source": [
    "# Assignung a function to a variable\n",
    "def greet(name):\n",
    "    return f\"hello, {name}!\"\n",
    "\n",
    "say_hello = greet\n",
    "print(say_hello(\"sam\"))"
   ]
  },
  {
   "cell_type": "code",
   "execution_count": 6,
   "id": "20a8a3ed-3eca-4210-9e0d-23c7e2fadef3",
   "metadata": {},
   "outputs": [
    {
     "name": "stdout",
     "output_type": "stream",
     "text": [
      "hello, amit!\n"
     ]
    }
   ],
   "source": [
    "# passing a functions as an argument to another functions\n",
    "def call_functions(func, name):\n",
    "    return func(name)\n",
    "\n",
    "print (call_functions(greet, \"amit\"))"
   ]
  },
  {
   "cell_type": "code",
   "execution_count": 10,
   "id": "c1222410-bdab-400c-9b70-c356ddf80848",
   "metadata": {},
   "outputs": [
    {
     "name": "stdout",
     "output_type": "stream",
     "text": [
      "I'm the inner function!\n"
     ]
    }
   ],
   "source": [
    "# Returning a functions from another functions\n",
    "def outer_function():\n",
    "    def inner_function():\n",
    "        return \"I'm the inner function!\"\n",
    "    return inner_function\n",
    "\n",
    "inner = outer_function()   # outer_function return inner_funtion\n",
    "print(inner())"
   ]
  },
  {
   "cell_type": "markdown",
   "id": "cb14f585-a628-4c07-ab3e-4a5fa1c3d49f",
   "metadata": {},
   "source": [
    "## Second-class function"
   ]
  },
  {
   "cell_type": "code",
   "execution_count": 11,
   "id": "a4c6427f-b0ea-4460-a2d7-6a9a15bca880",
   "metadata": {},
   "outputs": [
    {
     "name": "stdout",
     "output_type": "stream",
     "text": [
      "12\n"
     ]
    }
   ],
   "source": [
    "# Higher-order function that takes a functions as an argument\n",
    "def apply_twice(func, value):\n",
    "    return func(func(value))\n",
    "\n",
    "def double(x):\n",
    "    return x*2\n",
    "\n",
    "print(apply_twice(double, 3))"
   ]
  },
  {
   "cell_type": "code",
   "execution_count": 13,
   "id": "82e575e6-e5ad-43ae-a36d-47623ca94188",
   "metadata": {},
   "outputs": [
    {
     "name": "stdout",
     "output_type": "stream",
     "text": [
      "15\n"
     ]
    }
   ],
   "source": [
    "# Higher-order function that return another function\n",
    "def create_multiplier(n):\n",
    "    def multiplier(x):\n",
    "        return x*n\n",
    "    return multiplier\n",
    "\n",
    "times = create_multiplier(3)\n",
    "print(times(5))"
   ]
  },
  {
   "cell_type": "code",
   "execution_count": null,
   "id": "16799d61-4bc6-49e1-8728-4ecd229e5053",
   "metadata": {},
   "outputs": [],
   "source": []
  }
 ],
 "metadata": {
  "kernelspec": {
   "display_name": "Python 3 (ipykernel)",
   "language": "python",
   "name": "python3"
  },
  "language_info": {
   "codemirror_mode": {
    "name": "ipython",
    "version": 3
   },
   "file_extension": ".py",
   "mimetype": "text/x-python",
   "name": "python",
   "nbconvert_exporter": "python",
   "pygments_lexer": "ipython3",
   "version": "3.11.7"
  }
 },
 "nbformat": 4,
 "nbformat_minor": 5
}
