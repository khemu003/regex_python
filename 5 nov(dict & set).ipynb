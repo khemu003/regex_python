{
 "cells": [
  {
   "cell_type": "markdown",
   "id": "4365c27f-8d00-4452-8a53-dd3baecb88cf",
   "metadata": {},
   "source": [
    "# Dictonary in python"
   ]
  },
  {
   "cell_type": "code",
   "execution_count": 1,
   "id": "8f375c29-223c-428a-bd69-b950c0f52520",
   "metadata": {},
   "outputs": [],
   "source": [
    "# (1). Indentification ===> {key:value, key:value}\n",
    "# (2). Mutable data type from values.\n",
    "# (3). Elements are separated by commas."
   ]
  },
  {
   "cell_type": "code",
   "execution_count": 3,
   "id": "7d10bf1f-b2d8-4b2b-b426-27409caf078b",
   "metadata": {},
   "outputs": [
    {
     "name": "stdout",
     "output_type": "stream",
     "text": [
      "{'brand': 'kia', 'model': 'celtos', 'year': 2024}\n"
     ]
    }
   ],
   "source": [
    "a = {\"brand\":\"kia\", \"model\":\"celtos\", \"year\":2024}\n",
    "print(a)"
   ]
  },
  {
   "cell_type": "code",
   "execution_count": 4,
   "id": "73498512-39d7-4279-bf5c-f2515d534112",
   "metadata": {},
   "outputs": [
    {
     "data": {
      "text/plain": [
       "dict"
      ]
     },
     "execution_count": 4,
     "metadata": {},
     "output_type": "execute_result"
    }
   ],
   "source": [
    "type(a)"
   ]
  },
  {
   "cell_type": "code",
   "execution_count": 5,
   "id": "647bb222-5fcd-4ca5-b507-8b9ea2f8ec2c",
   "metadata": {},
   "outputs": [
    {
     "name": "stdout",
     "output_type": "stream",
     "text": [
      "kia\n",
      "celtos\n",
      "2024\n"
     ]
    }
   ],
   "source": [
    "print(a[\"brand\"])\n",
    "print(a[\"model\"])\n",
    "print(a[\"year\"])"
   ]
  },
  {
   "cell_type": "code",
   "execution_count": 7,
   "id": "3d3c6b99-912a-4463-8b6d-2c3ceb87e9ca",
   "metadata": {},
   "outputs": [
    {
     "name": "stdout",
     "output_type": "stream",
     "text": [
      "{'brand': 'kia', 'model': 'celtos', 'year': 2025}\n"
     ]
    }
   ],
   "source": [
    "# Update\n",
    "a[\"year\"] = 2025\n",
    "print(a)"
   ]
  },
  {
   "cell_type": "code",
   "execution_count": 8,
   "id": "867407a9-30c4-4b28-b04e-00d967b8ae13",
   "metadata": {},
   "outputs": [
    {
     "name": "stdout",
     "output_type": "stream",
     "text": [
      "brand\n",
      "model\n",
      "year\n"
     ]
    }
   ],
   "source": [
    "# loop in dict\n",
    "\n",
    "for i in a.keys(): ## Extract all keys\n",
    "    print(i)"
   ]
  },
  {
   "cell_type": "code",
   "execution_count": 9,
   "id": "a8647b90-bd68-46db-a7d5-3507f237d63d",
   "metadata": {},
   "outputs": [
    {
     "name": "stdout",
     "output_type": "stream",
     "text": [
      "kia\n",
      "celtos\n",
      "2025\n"
     ]
    }
   ],
   "source": [
    "for i in a.values(): ## Extract all values\n",
    "    print(i)"
   ]
  },
  {
   "cell_type": "code",
   "execution_count": 10,
   "id": "5a493fc8-1912-4329-b0b0-a5e798667426",
   "metadata": {},
   "outputs": [
    {
     "name": "stdout",
     "output_type": "stream",
     "text": [
      "brand kia\n",
      "model celtos\n",
      "year 2025\n"
     ]
    }
   ],
   "source": [
    "for i,j in a.items(): ## Extract all keys and values pair\n",
    "    print(i,j)"
   ]
  },
  {
   "cell_type": "code",
   "execution_count": 11,
   "id": "548b2cb5-38d9-4a21-ac58-5bb7a8430160",
   "metadata": {},
   "outputs": [
    {
     "data": {
      "text/plain": [
       "3"
      ]
     },
     "execution_count": 11,
     "metadata": {},
     "output_type": "execute_result"
    }
   ],
   "source": [
    "#len()\n",
    "\n",
    "len(a)"
   ]
  },
  {
   "cell_type": "code",
   "execution_count": 12,
   "id": "c5d8d2de-75c6-4ff0-b623-ba8536049306",
   "metadata": {},
   "outputs": [
    {
     "name": "stdout",
     "output_type": "stream",
     "text": [
      "{'brand': 'kia', 'model': 'celtos', 'year': 2025, 'Year': 2026}\n"
     ]
    }
   ],
   "source": [
    "# case sentitiy\n",
    "a[\"Year\"] = 2026\n",
    "print(a)"
   ]
  },
  {
   "cell_type": "code",
   "execution_count": 13,
   "id": "d8429e22-d5a8-4ee1-a7b1-901d0f87fa77",
   "metadata": {},
   "outputs": [
    {
     "name": "stdout",
     "output_type": "stream",
     "text": [
      "{'brand': 'kia', 'model': 'celtos', 'year': 2025}\n",
      "{'brand': 'kia', 'year': 2025}\n"
     ]
    }
   ],
   "source": [
    "#remove items\n",
    "\n",
    "a.popitem()\n",
    "print(a)\n",
    "a.pop(\"model\")\n",
    "print(a)"
   ]
  },
  {
   "cell_type": "code",
   "execution_count": 14,
   "id": "9b8da951-d258-4e24-b4d4-ba8a76f42695",
   "metadata": {},
   "outputs": [
    {
     "name": "stdout",
     "output_type": "stream",
     "text": [
      "{}\n"
     ]
    }
   ],
   "source": [
    "a.clear()\n",
    "print(a)"
   ]
  },
  {
   "cell_type": "code",
   "execution_count": 29,
   "id": "5f1decbe-c060-4a4e-87e1-7c6d02370cd2",
   "metadata": {},
   "outputs": [
    {
     "name": "stdout",
     "output_type": "stream",
     "text": [
      "{'ID': [1, 2, 3], 'Name': ['sam', 'rahul', 'mohit']}\n"
     ]
    }
   ],
   "source": [
    "a = {\n",
    "    \"ID\" : [1,2,3],\n",
    "    \"Name\" : [\"sam\", \"rahul\", \"mohit\"]\n",
    "}\n",
    "print(a)"
   ]
  },
  {
   "cell_type": "code",
   "execution_count": 31,
   "id": "d5d17522-d2d0-499a-9705-2b40138a9e91",
   "metadata": {},
   "outputs": [
    {
     "data": {
      "text/plain": [
       "3"
      ]
     },
     "execution_count": 31,
     "metadata": {},
     "output_type": "execute_result"
    }
   ],
   "source": [
    "a[\"ID\"][2]"
   ]
  },
  {
   "cell_type": "code",
   "execution_count": null,
   "id": "592cc560-9733-43a8-a439-3372bd1642d1",
   "metadata": {},
   "outputs": [],
   "source": []
  },
  {
   "cell_type": "code",
   "execution_count": null,
   "id": "fb85fcbd-9f59-47d1-8983-4a478531875f",
   "metadata": {},
   "outputs": [],
   "source": []
  },
  {
   "cell_type": "code",
   "execution_count": null,
   "id": "e39e3e42-3e13-4efd-bebf-61efcf5bcb7d",
   "metadata": {},
   "outputs": [],
   "source": []
  },
  {
   "cell_type": "markdown",
   "id": "e5eb47bd-7872-4df6-951c-2bc2159ee8c6",
   "metadata": {},
   "source": [
    "# set in python"
   ]
  },
  {
   "cell_type": "code",
   "execution_count": 15,
   "id": "d8c66e0e-bd20-402d-871b-bf37a95eec91",
   "metadata": {},
   "outputs": [],
   "source": [
    "# Indentification\n",
    "# Mutable data types\n",
    "# unordered\n",
    "# unindexing\n",
    "# does not allow duplicate value."
   ]
  },
  {
   "cell_type": "code",
   "execution_count": 16,
   "id": "b9e0aa8a-29c1-49c8-b023-d44d214ca649",
   "metadata": {},
   "outputs": [
    {
     "name": "stdout",
     "output_type": "stream",
     "text": [
      "{'sam', 34, 'rahul'}\n"
     ]
    }
   ],
   "source": [
    "a = {\"sam\", 34, \"rahul\", \"sam\"}\n",
    "print(a)"
   ]
  },
  {
   "cell_type": "code",
   "execution_count": 17,
   "id": "da575007-8524-4b4a-9475-952809d61d2b",
   "metadata": {},
   "outputs": [
    {
     "data": {
      "text/plain": [
       "set"
      ]
     },
     "execution_count": 17,
     "metadata": {},
     "output_type": "execute_result"
    }
   ],
   "source": [
    "type(a)"
   ]
  },
  {
   "cell_type": "code",
   "execution_count": 18,
   "id": "c5bc207a-eb39-4fed-9773-809b9e12db88",
   "metadata": {},
   "outputs": [
    {
     "name": "stdout",
     "output_type": "stream",
     "text": [
      "<class 'set'>\n"
     ]
    }
   ],
   "source": [
    "# empty set\n",
    "x = set()\n",
    "print(type(x))"
   ]
  },
  {
   "cell_type": "code",
   "execution_count": 19,
   "id": "cf194399-7758-4d6a-97a7-46238c7a5efb",
   "metadata": {},
   "outputs": [
    {
     "name": "stdout",
     "output_type": "stream",
     "text": [
      "{'mohit', 'sam', 34, 'rahul'}\n"
     ]
    }
   ],
   "source": [
    "#add\n",
    "a.add(\"mohit\")\n",
    "print(a)"
   ]
  },
  {
   "cell_type": "code",
   "execution_count": 20,
   "id": "903d6df3-3a6d-40fd-99a0-d0533223e846",
   "metadata": {},
   "outputs": [
    {
     "name": "stdout",
     "output_type": "stream",
     "text": [
      "{'sam', 34, 'rahul'}\n"
     ]
    }
   ],
   "source": [
    "a.remove(\"mohit\")\n",
    "print(a)"
   ]
  },
  {
   "cell_type": "code",
   "execution_count": 21,
   "id": "ed4b8c89-4407-4633-b21d-716881551ccd",
   "metadata": {},
   "outputs": [],
   "source": [
    "# Operation in set"
   ]
  },
  {
   "cell_type": "code",
   "execution_count": 22,
   "id": "13584094-ac78-400a-98f6-922322d6cd4a",
   "metadata": {},
   "outputs": [
    {
     "name": "stdout",
     "output_type": "stream",
     "text": [
      "{1, 2, 3, 4, 5, 6}\n",
      "{1, 2, 3, 4, 5, 6}\n"
     ]
    }
   ],
   "source": [
    "# (1). Union\n",
    "a = {1,2,3,4}\n",
    "b = {3,4,5,6}\n",
    "c = a.union(b)\n",
    "print(c)\n",
    "d = a|b\n",
    "print(d)"
   ]
  },
  {
   "cell_type": "code",
   "execution_count": 23,
   "id": "c668c89b-645a-4a42-a755-7bca926e9a2b",
   "metadata": {},
   "outputs": [
    {
     "name": "stdout",
     "output_type": "stream",
     "text": [
      "{3, 4}\n",
      "{3, 4}\n"
     ]
    }
   ],
   "source": [
    "# intersection\n",
    "c = a.intersection(b)\n",
    "print(c)\n",
    "d = a&b\n",
    "print(d)"
   ]
  },
  {
   "cell_type": "code",
   "execution_count": 26,
   "id": "bedf17d7-a561-45e1-90e2-0d4f23142990",
   "metadata": {},
   "outputs": [
    {
     "name": "stdout",
     "output_type": "stream",
     "text": [
      "{1, 2}\n",
      "{5, 6}\n"
     ]
    }
   ],
   "source": [
    "\n",
    "print(a-b) # Elements that are present in a not in b.\n",
    "print(b-a) # Elements that are present in b not in a."
   ]
  },
  {
   "cell_type": "code",
   "execution_count": 28,
   "id": "c7133c4b-1e9b-49a2-aa9d-053ac1556a66",
   "metadata": {},
   "outputs": [
    {
     "name": "stdout",
     "output_type": "stream",
     "text": [
      "set()\n"
     ]
    }
   ],
   "source": [
    "a.clear()\n",
    "print(a)"
   ]
  },
  {
   "cell_type": "code",
   "execution_count": null,
   "id": "804fc6ec-4681-4eb8-a9b2-64a7f7932104",
   "metadata": {},
   "outputs": [],
   "source": []
  }
 ],
 "metadata": {
  "kernelspec": {
   "display_name": "Python 3 (ipykernel)",
   "language": "python",
   "name": "python3"
  },
  "language_info": {
   "codemirror_mode": {
    "name": "ipython",
    "version": 3
   },
   "file_extension": ".py",
   "mimetype": "text/x-python",
   "name": "python",
   "nbconvert_exporter": "python",
   "pygments_lexer": "ipython3",
   "version": "3.11.7"
  }
 },
 "nbformat": 4,
 "nbformat_minor": 5
}
